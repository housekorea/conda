{
 "cells": [
  {
   "cell_type": "code",
   "execution_count": 1,
   "metadata": {},
   "outputs": [],
   "source": [
    "import pandas as pd\n",
    "from nltk.corpus import wordnet\n",
    "import random\n",
    "import ipywidgets as widgets\n",
    "from IPython.display import display\n",
    "from IPython.display import clear_output"
   ]
  },
  {
   "cell_type": "code",
   "execution_count": 2,
   "metadata": {
    "scrolled": false
   },
   "outputs": [],
   "source": [
    "def get_word_info(target_word, korean_word):\n",
    "    examples = [] \n",
    "    definitions = []\n",
    "    synonyms = []\n",
    "    antonyms = []\n",
    "\n",
    "    is_syn_target = False\n",
    "#     print(target_word)\n",
    "    syn_targets = []\n",
    "    for syn in wordnet.synsets(target_word):\n",
    "        for l in syn.lemmas():\n",
    "#             print(\"   >\",l)\n",
    "            if target_word == l.name():\n",
    "#                 print(l.name)\n",
    "                syn_targets.append(syn)\n",
    "                is_syn_target = True\n",
    "                \n",
    "                if len(syn_targets) > 5:\n",
    "                    break\n",
    "    \n",
    "    for syn in wordnet.synsets(target_word):\n",
    "        definitions.append(syn.definition())\n",
    "        if len(syn.examples()) > 0:\n",
    "            examples.append(syn.examples())\n",
    "        for l in syn.lemmas():\n",
    "            if not target_word == l.name():\n",
    "                \n",
    "                for comp_syn in syn_targets:\n",
    "                    sim_score = comp_syn.wup_similarity(syn)\n",
    "                    if (sim_score is not None) and \\\n",
    "                        (sim_score > 0.9) and \\\n",
    "                        (l.name() not in synonyms) and \\\n",
    "                        (len(synonyms) < 10): \n",
    "                        synonyms.append(l.name())    \n",
    "#                 if syn_target.wup_similarity(syn) is not None and syn_target.wup_similarity(syn) > 0.6:\n",
    "#                     synonyms.append(l.name())\n",
    "            if l.antonyms():\n",
    "                antonyms.append(l.antonyms()[0].name())\n",
    "#     print(\"#1.Word :\", target_word)\n",
    "#     print(\"#2 definitions : \",set(definitions))\n",
    "#     print(\"#3 synonyms : \", set(synonyms))\n",
    "#     print(\"#4 antonyms : \", set(antonyms))\n",
    "#     print(examples)\n",
    "#     print('\\r\\n')\n",
    "    \n",
    "    random.shuffle(synonyms)\n",
    "\n",
    "    return {\n",
    "        \"word\" : target_word,\n",
    "        \"korean\" : korean_word,\n",
    "        \"definitions\" : list(set(definitions)),\n",
    "        \"synonyms\" : list(set(synonyms)),\n",
    "        \"antonyms\" : list(set(antonyms)),\n",
    "        \"examples\" : examples\n",
    "        \n",
    "    }\n",
    "# for index,row in read_data.iterrows():\n",
    "#     res= get_word_info(row['eng'], row['kor'])\n",
    "#     print(res)\n"
   ]
  },
  {
   "cell_type": "code",
   "execution_count": 3,
   "metadata": {
    "scrolled": true
   },
   "outputs": [
    {
     "name": "stdout",
     "output_type": "stream",
     "text": [
      "WORDS LENGTH :  1012\n",
      "Not found definitions words length :  89\n",
      "Not found definitions words :  ['beneficient', 'antecendent', 'predescribe', 'mitaken', 'amoral', 'antiwar', 'antivenom', 'restrospect', 'retroact', 'retrocede', 'afterword', 'donwstream', 'imprision', 'sedue', 'corrput', 'heptathon', 'centrigrade', 'polythesim', 'account for', 'at the mercy of', 'attribute A to B', 'be prone to', 'bear in mind', 'behind the times', 'bring about', 'bring home to', 'carry out', 'come up with', 'consist of', 'cut a fine figure', 'devote oneself to', 'distinguish oneself', 'divide into', 'do away with', 'find fault with', 'for the sake of', 'in addition to', 'in behalf of', 'in the presence of', 'in virtue of', 'keep pace with', 'keep track of', 'lag behind', 'make allowances for', 'make good', 'prior to', 'set forth', 'stand for ', 'take into account', 'take it for granted', 'take up', 'turn into', 'up to', 'wear out', 'fauna and flora', 'invertbrate', 'blosoom', 'kindgom', 'evolutionary theory', 'liberal arts', 'further education', 'distance learning', 'deam', 'pheonomenon', 'extended family', 'annual consumption', 'therapeutic agent', 'circulatory system', 'cleaning agent', 'foot-and-mouth disease', 'endosymbiosis', 'death toll', 'lay egg', 'succint', 'lifelong education', 'anti-abortion', 'bee venom', 'current affairs', 'flight attendant', 'hand down', 'cheif executive', 'seperately', 'capital punishment', 'city council', 'circadian rhythm', 'deterimental', 'indcit', 'forregone conclusion', 'detatin']\n"
     ]
    }
   ],
   "source": [
    "csv_file_src = \"/Users/house/desktop/IELTS/IELTS_WORDS_summary.tsv\"\n",
    "read_data = pd.read_csv(csv_file_src, sep='\\t', header=None, names=['eng','kor'], encoding='UTF-8')\n",
    "\n",
    "# display(read_data)\n",
    "\n",
    "# words = read_data[0].values.tolist()\n",
    "cnt_defi_notfound = 0\n",
    "cnt_defi_notfound_list = []\n",
    "word_corpus = []\n",
    "\n",
    "for index,row in read_data.iterrows():\n",
    "    res= get_word_info(row['eng'], row['kor'])\n",
    "    if len(res[\"definitions\"]) == 0:\n",
    "        cnt_defi_notfound+=1\n",
    "        cnt_defi_notfound_list.append(row['eng'])\n",
    "    word_corpus.append(res)\n",
    "    \n",
    "\n",
    "print(\"WORDS LENGTH : \", len(word_corpus))\n",
    "# cnt_defi_notfound = 0\n",
    "# cnt_defi_notfound_list = []\n",
    "# # word_corpus = []\n",
    "# for w in words:\n",
    "#     res = get_word_info(w)\n",
    "# #     pprint(res)\n",
    "#     if len(res[\"definitions\"]) == 0:\n",
    "#         cnt_defi_notfound+=1\n",
    "#         cnt_defi_notfound_list.append(w)\n",
    "#     word_corpus.append(res)\n",
    "print(\"Not found definitions words length : \", cnt_defi_notfound)\n",
    "print(\"Not found definitions words : \",cnt_defi_notfound_list)\n",
    "\n",
    "\n",
    "# pprint(word_corpus)\n"
   ]
  },
  {
   "cell_type": "code",
   "execution_count": 4,
   "metadata": {},
   "outputs": [],
   "source": [
    "def q_rand_word(word_corpus):\n",
    "    \n",
    "    rand_num = random.randrange(1, len(word_corpus))\n",
    "    print(word_corpus[rand_num]['word'])\n",
    "          "
   ]
  },
  {
   "cell_type": "code",
   "execution_count": 5,
   "metadata": {},
   "outputs": [
    {
     "data": {
      "text/plain": [
       "'\\n    1. 한글 단어 -> 영어 맞추기 / default \\n    2. 영어 단어 -> 한글 뜻 맞추기 / eng\\n    3. 유사어,동의어 -> 영어 맞추기 / synonym\\n'"
      ]
     },
     "execution_count": 5,
     "metadata": {},
     "output_type": "execute_result"
    }
   ],
   "source": [
    "def q_multiple_choice(word_corpus,mode='default'):\n",
    "    \n",
    "    rand_num = random.randrange(1, len(word_corpus))\n",
    "    \n",
    "    if mode == 'default':\n",
    "        question_field = 'korean'\n",
    "        target_field = 'word'\n",
    "    elif mode =='eng':\n",
    "        question_field = 'word'\n",
    "        target_field = 'korean'        \n",
    "    elif mode == \"synonyms\":\n",
    "        question_field = 'synonyms'\n",
    "        target_field = 'word'\n",
    "        \n",
    "    target_word = word_corpus[rand_num][target_field]\n",
    "    question_word = word_corpus[rand_num][question_field]    \n",
    "    choices = []\n",
    "    for _ in range(50):\n",
    "        choice_num = random.randrange(1, len(word_corpus))\n",
    "        choice_word = word_corpus[choice_num][target_field]\n",
    "\n",
    "        if (choice_word not in choices) and (target_word is not choice_word):\n",
    "            choices.append(choice_word)\n",
    "        if len(choices) >= 3:\n",
    "            break\n",
    "    return [question_word, target_word, choices]\n",
    "\n",
    "\n",
    "\n",
    "\"\"\"\n",
    "    1. 한글 단어 -> 영어 맞추기 / default \n",
    "    2. 영어 단어 -> 한글 뜻 맞추기 / eng\n",
    "    3. 유사어,동의어 -> 영어 맞추기 / synonym\n",
    "\"\"\"\n",
    "\n",
    "#     display(target_word)\n",
    "#     display(choices)"
   ]
  },
  {
   "cell_type": "code",
   "execution_count": 6,
   "metadata": {},
   "outputs": [],
   "source": [
    "    \n",
    "def q_fill_word(word_corpus, mode=\"default\"):\n",
    "    rand_num = random.randrange(0, len(word_corpus))\n",
    "    \n",
    "    question = word_corpus[rand_num][\"korean\"]\n",
    "    example = word_corpus[rand_num][\"word\"]\n",
    "    answer = word_corpus[rand_num][\"word\"]\n",
    "    \n",
    "    t_nums = []\n",
    "    for _ in range(10):\n",
    "        t_rnum = random.randrange(0, len(answer))\n",
    "        if t_rnum not in t_nums:\n",
    "            t_nums.append(t_rnum)\n",
    "        if len(t_nums) == 2:\n",
    "            break\n",
    "        \n",
    "    example=\"\"\n",
    "    for idx in range(len(answer)):\n",
    "        if idx in t_nums:\n",
    "            example+=answer[idx]\n",
    "        else:\n",
    "            example+=\"O\"\n",
    "        \n",
    "        \n",
    "        \n",
    "        \n",
    "            \n",
    "    return question, example, answer\n",
    "    \n",
    "    \n",
    "# print(q_fill_word(word_corpus,\"default\"))\n",
    "    \n",
    "    \n",
    "    "
   ]
  },
  {
   "cell_type": "code",
   "execution_count": 7,
   "metadata": {},
   "outputs": [],
   "source": [
    "def create_multipleChoice_widget(description, options, correct_answer):\n",
    "    if correct_answer not in options:\n",
    "        options.append(correct_answer)\n",
    "    \n",
    "    random.shuffle(options)\n",
    "    correct_answer_index = options.index(correct_answer)\n",
    "    \n",
    "    radio_options = [(words, i) for i, words in enumerate(options)]\n",
    "    alternativ = widgets.RadioButtons(\n",
    "        options = radio_options,\n",
    "        description = '',\n",
    "        disabled = False\n",
    "    )\n",
    "    \n",
    "    description_out = widgets.Output()\n",
    "    with description_out:\n",
    "        print(description)\n",
    "        \n",
    "    feedback_out = widgets.Output()\n",
    "\n",
    "    def check_selection(b):\n",
    "        a = int(alternativ.value)\n",
    "        if a==correct_answer_index:\n",
    "            s = '\\x1b[5;30;42m' + \"True.\" + '\\x1b[0m' +\"\\n\" #green color\n",
    "        else:\n",
    "            s = '\\x1b[5;30;41m' + \"False. \" + '\\x1b[0m' +\"\\n\" #red color\n",
    "        with feedback_out:\n",
    "            clear_output()\n",
    "            print(s)\n",
    "        return\n",
    "    \n",
    "    check = widgets.Button(description=\"Check\")\n",
    "    check.on_click(check_selection)\n",
    "    \n",
    "    \n",
    "    return widgets.VBox([description_out, alternativ, check, feedback_out])\n",
    "\n"
   ]
  },
  {
   "cell_type": "code",
   "execution_count": 8,
   "metadata": {},
   "outputs": [],
   "source": [
    "def create_textFill_widget(question, hint, answer):\n",
    "    description_out = widgets.Output()\n",
    "    with description_out:\n",
    "        print(question,\", \", hint)\n",
    "    text_fill_out = widgets.Output()    \n",
    "    text_box = widgets.Text(\n",
    "        value=\"\",\n",
    "        placeholder=hint,\n",
    "        description=\"\",\n",
    "        disabled=False\n",
    "    )\n",
    "    \n",
    "    \n",
    "    feedback_out = widgets.Output()\n",
    "    def check_fill(b):\n",
    "        answer_value = text_box.value\n",
    "        if answer_value==answer:\n",
    "            s = '\\x1b[5;30;42m' + \"True.\" + '\\x1b[0m' +\"\\n\" #green color\n",
    "        else:\n",
    "            s = '\\x1b[5;30;41m' + \"False. \" + '\\x1b[0m' +\"\\n\" #red color\n",
    "        with feedback_out:\n",
    "            clear_output()\n",
    "            print(s)\n",
    "        return\n",
    "    \n",
    "    check = widgets.Button(description=\"Check\")\n",
    "    check.on_click(check_fill)\n",
    "    \n",
    "    return widgets.VBox([description_out, text_box, check, feedback_out])\n"
   ]
  },
  {
   "cell_type": "code",
   "execution_count": 9,
   "metadata": {
    "scrolled": true
   },
   "outputs": [],
   "source": [
    "def get_questions_general(num):\n",
    "    cnt=0\n",
    "    for _ in range(num):\n",
    "        question, target_word, example = q_multiple_choice(word_corpus,\"default\")\n",
    "#         print(question.join(\",\"))\n",
    "        cnt+=1\n",
    "        temp_quest = create_multipleChoice_widget(\"Q\"+str(cnt)+\". \"+str(question),example ,target_word)\n",
    "        display(temp_quest)\n",
    "        \n",
    "        \n",
    "def get_questions_eng(num):\n",
    "    cnt=0\n",
    "    for _ in range(num):\n",
    "        question, target_word, example = q_multiple_choice(word_corpus,\"eng\")\n",
    "#         print(question.join(\",\"))\n",
    "        cnt+=1\n",
    "        temp_quest = create_multipleChoice_widget(\"Q\"+str(cnt)+\". \"+question,example ,target_word)\n",
    "        display(temp_quest)\n",
    "\n",
    "def get_questions_synonyms(num):\n",
    "    cnt=0\n",
    "    for _ in range(num*10):\n",
    "        question, target_word, example = q_multiple_choice(word_corpus,\"synonyms\")\n",
    "#         print(question)\n",
    "        if (question == None) or (len(question)==0): \n",
    "            continue\n",
    "        if cnt == num:\n",
    "            break\n",
    "#         print(question.join(\",\"))\n",
    "        cnt+=1\n",
    "        temp_quest = create_multipleChoice_widget(\"Q\"+str(cnt)+\". \"+\", \".join(question),example ,target_word)\n",
    "        display(temp_quest)\n",
    "        \n",
    "        \n",
    "        \n",
    "def get_questions_filling(num):\n",
    "    cnt=0\n",
    "    for _ in range(num*10):\n",
    "        question,example,answer = q_fill_word(word_corpus,\"default\")\n",
    "        if ' ' in question:\n",
    "            continue\n",
    "        \n",
    "        if cnt == num:\n",
    "            break\n",
    "        cnt+=1\n",
    "        temp_quest=create_textFill_widget(\"Q\"+str(cnt)+\". \" + question,example,answer)\n",
    "        display(temp_quest)"
   ]
  },
  {
   "cell_type": "code",
   "execution_count": 10,
   "metadata": {
    "scrolled": false
   },
   "outputs": [
    {
     "data": {
      "application/vnd.jupyter.widget-view+json": {
       "model_id": "d15b838932794d9dadaef27c116328b9",
       "version_major": 2,
       "version_minor": 0
      },
      "text/plain": [
       "VBox(children=(Output(), RadioButtons(options=(('erode', 0), ('locus', 1), ('cut a fine figure', 2), ('forefat…"
      ]
     },
     "metadata": {},
     "output_type": "display_data"
    },
    {
     "data": {
      "application/vnd.jupyter.widget-view+json": {
       "model_id": "71fbb6e27ba34263970b442c0f114c6a",
       "version_major": 2,
       "version_minor": 0
      },
      "text/plain": [
       "VBox(children=(Output(), RadioButtons(options=(('inexcusable', 0), ('lucrative', 1), ('accustom', 2), ('vanity…"
      ]
     },
     "metadata": {},
     "output_type": "display_data"
    },
    {
     "data": {
      "application/vnd.jupyter.widget-view+json": {
       "model_id": "409d79fba5024978bea4d90921c873d4",
       "version_major": 2,
       "version_minor": 0
      },
      "text/plain": [
       "VBox(children=(Output(), RadioButtons(options=(('compulsory', 0), ('certify', 1), ('efficiency', 2), ('genuine…"
      ]
     },
     "metadata": {},
     "output_type": "display_data"
    },
    {
     "data": {
      "application/vnd.jupyter.widget-view+json": {
       "model_id": "7650daf9bef94d84907aa4e31a1edbea",
       "version_major": 2,
       "version_minor": 0
      },
      "text/plain": [
       "VBox(children=(Output(), RadioButtons(options=(('hemisphere', 0), ('obstruct', 1), ('creed', 2), ('blaze', 3))…"
      ]
     },
     "metadata": {},
     "output_type": "display_data"
    },
    {
     "data": {
      "application/vnd.jupyter.widget-view+json": {
       "model_id": "9564b88903db44478359619856ba5f87",
       "version_major": 2,
       "version_minor": 0
      },
      "text/plain": [
       "VBox(children=(Output(), RadioButtons(options=(('degenerate', 0), ('inhale', 1), ('litter', 2), ('mitaken', 3)…"
      ]
     },
     "metadata": {},
     "output_type": "display_data"
    },
    {
     "data": {
      "application/vnd.jupyter.widget-view+json": {
       "model_id": "bc16cf322deb425e90a8c2466c2047af",
       "version_major": 2,
       "version_minor": 0
      },
      "text/plain": [
       "VBox(children=(Output(), RadioButtons(options=(('undergo', 0), ('postgraduate', 1), ('for the sake of', 2), ('…"
      ]
     },
     "metadata": {},
     "output_type": "display_data"
    },
    {
     "data": {
      "application/vnd.jupyter.widget-view+json": {
       "model_id": "5db007c8b6bb4d9083af799a823f7333",
       "version_major": 2,
       "version_minor": 0
      },
      "text/plain": [
       "VBox(children=(Output(), RadioButtons(options=(('outdo', 0), ('centrigrade', 1), ('shabby', 2), ('aggravate', …"
      ]
     },
     "metadata": {},
     "output_type": "display_data"
    },
    {
     "data": {
      "application/vnd.jupyter.widget-view+json": {
       "model_id": "1cbd5aa71abc426f9ff6e244d7bd4aeb",
       "version_major": 2,
       "version_minor": 0
      },
      "text/plain": [
       "VBox(children=(Output(), RadioButtons(options=(('sluggish', 0), ('transplant', 1), ('access', 2), ('ratify', 3…"
      ]
     },
     "metadata": {},
     "output_type": "display_data"
    },
    {
     "data": {
      "application/vnd.jupyter.widget-view+json": {
       "model_id": "4cc946d4ab2b4c64b851286787d6b34d",
       "version_major": 2,
       "version_minor": 0
      },
      "text/plain": [
       "VBox(children=(Output(), RadioButtons(options=(('octopus', 0), ('predominant', 1), ('isotope', 2), ('turmoil',…"
      ]
     },
     "metadata": {},
     "output_type": "display_data"
    },
    {
     "data": {
      "application/vnd.jupyter.widget-view+json": {
       "model_id": "94189b22612e4d20a6ef60da5cf6ed25",
       "version_major": 2,
       "version_minor": 0
      },
      "text/plain": [
       "VBox(children=(Output(), RadioButtons(options=(('maneuver', 0), ('turn into', 1), ('bill', 2), ('testify', 3))…"
      ]
     },
     "metadata": {},
     "output_type": "display_data"
    },
    {
     "data": {
      "application/vnd.jupyter.widget-view+json": {
       "model_id": "d8b3878c25604872ae72e073171d231b",
       "version_major": 2,
       "version_minor": 0
      },
      "text/plain": [
       "VBox(children=(Output(), RadioButtons(options=(('impartial', 0), ('medium', 1), ('disloyal', 2), ('paranormal'…"
      ]
     },
     "metadata": {},
     "output_type": "display_data"
    },
    {
     "data": {
      "application/vnd.jupyter.widget-view+json": {
       "model_id": "4c01c82f82ff4d43bd87cdffa55bb2c2",
       "version_major": 2,
       "version_minor": 0
      },
      "text/plain": [
       "VBox(children=(Output(), RadioButtons(options=(('tariff', 0), ('inadequate', 1), ('reprimand', 2), ('donwstrea…"
      ]
     },
     "metadata": {},
     "output_type": "display_data"
    },
    {
     "data": {
      "application/vnd.jupyter.widget-view+json": {
       "model_id": "10ebe3e3bcce452b91459ef5dbcbd40b",
       "version_major": 2,
       "version_minor": 0
      },
      "text/plain": [
       "VBox(children=(Output(), RadioButtons(options=(('dictate', 0), ('counterpart', 1), ('undercurrent', 2), ('frau…"
      ]
     },
     "metadata": {},
     "output_type": "display_data"
    },
    {
     "data": {
      "application/vnd.jupyter.widget-view+json": {
       "model_id": "cc5d56eb1c0143b18291aceef0d1168d",
       "version_major": 2,
       "version_minor": 0
      },
      "text/plain": [
       "VBox(children=(Output(), RadioButtons(options=(('manifest', 0), ('ample', 1), ('municipal', 2), ('edible', 3))…"
      ]
     },
     "metadata": {},
     "output_type": "display_data"
    },
    {
     "data": {
      "application/vnd.jupyter.widget-view+json": {
       "model_id": "d28a4978ed6d441ab9d238c63371fabc",
       "version_major": 2,
       "version_minor": 0
      },
      "text/plain": [
       "VBox(children=(Output(), RadioButtons(options=(('stabilise', 0), ('submerged', 1), ('endosymbiosis', 2), ('val…"
      ]
     },
     "metadata": {},
     "output_type": "display_data"
    },
    {
     "data": {
      "application/vnd.jupyter.widget-view+json": {
       "model_id": "250ddff975d44312a8bf2871f945cac8",
       "version_major": 2,
       "version_minor": 0
      },
      "text/plain": [
       "VBox(children=(Output(), RadioButtons(options=(('in behalf of', 0), ('capable', 1), ('capital', 2), ('inhale',…"
      ]
     },
     "metadata": {},
     "output_type": "display_data"
    },
    {
     "data": {
      "application/vnd.jupyter.widget-view+json": {
       "model_id": "a3a5134c4cc5484f9fe34d66f65a0fbb",
       "version_major": 2,
       "version_minor": 0
      },
      "text/plain": [
       "VBox(children=(Output(), RadioButtons(options=(('account for', 0), ('decorate', 1), ('mischievous', 2), ('semi…"
      ]
     },
     "metadata": {},
     "output_type": "display_data"
    },
    {
     "data": {
      "application/vnd.jupyter.widget-view+json": {
       "model_id": "dc4decfe0ac74b22b966acb3c0c45422",
       "version_major": 2,
       "version_minor": 0
      },
      "text/plain": [
       "VBox(children=(Output(), RadioButtons(options=(('levy', 0), ('sustain', 1), ('curve', 2), ('literacy', 3)), va…"
      ]
     },
     "metadata": {},
     "output_type": "display_data"
    },
    {
     "data": {
      "application/vnd.jupyter.widget-view+json": {
       "model_id": "7a615112a1bb4199870ce61c026d4add",
       "version_major": 2,
       "version_minor": 0
      },
      "text/plain": [
       "VBox(children=(Output(), RadioButtons(options=(('undergraduate', 0), ('multicellular', 1), ('skirmish', 2), ('…"
      ]
     },
     "metadata": {},
     "output_type": "display_data"
    },
    {
     "data": {
      "application/vnd.jupyter.widget-view+json": {
       "model_id": "0579e6e19b1e42639d2f1a1a4e884ab1",
       "version_major": 2,
       "version_minor": 0
      },
      "text/plain": [
       "VBox(children=(Output(), RadioButtons(options=(('eclipse', 0), ('skim', 1), ('engaged', 2), ('invert', 3)), va…"
      ]
     },
     "metadata": {},
     "output_type": "display_data"
    },
    {
     "data": {
      "application/vnd.jupyter.widget-view+json": {
       "model_id": "b7577d1703e4461a94a37e59c8b317b7",
       "version_major": 2,
       "version_minor": 0
      },
      "text/plain": [
       "VBox(children=(Output(), RadioButtons(options=(('ransom', 0), ('nullify', 1), ('manifest', 2), ('antifreeze', …"
      ]
     },
     "metadata": {},
     "output_type": "display_data"
    },
    {
     "data": {
      "application/vnd.jupyter.widget-view+json": {
       "model_id": "3658affe74634ad9905ac98b8aa3a537",
       "version_major": 2,
       "version_minor": 0
      },
      "text/plain": [
       "VBox(children=(Output(), RadioButtons(options=(('contempt', 0), ('pavement', 1), ('antiwar', 2), ('divert', 3)…"
      ]
     },
     "metadata": {},
     "output_type": "display_data"
    },
    {
     "data": {
      "application/vnd.jupyter.widget-view+json": {
       "model_id": "b3bc4e300d024a7391bee39fd9cbb472",
       "version_major": 2,
       "version_minor": 0
      },
      "text/plain": [
       "VBox(children=(Output(), RadioButtons(options=(('unanimous', 0), ('brisk', 1), ('flight attendant', 2), ('ensl…"
      ]
     },
     "metadata": {},
     "output_type": "display_data"
    },
    {
     "data": {
      "application/vnd.jupyter.widget-view+json": {
       "model_id": "79d5f969b4ab478a8cbe0be98ce95e5d",
       "version_major": 2,
       "version_minor": 0
      },
      "text/plain": [
       "VBox(children=(Output(), RadioButtons(options=(('abhor', 0), ('arc', 1), ('vice', 2), ('entangle', 3)), value=…"
      ]
     },
     "metadata": {},
     "output_type": "display_data"
    },
    {
     "data": {
      "application/vnd.jupyter.widget-view+json": {
       "model_id": "4bcdb9d3dadb46f2acc36e592bcd51b2",
       "version_major": 2,
       "version_minor": 0
      },
      "text/plain": [
       "VBox(children=(Output(), RadioButtons(options=(('trigonometry', 0), ('variety', 1), ('speculate', 2), ('impera…"
      ]
     },
     "metadata": {},
     "output_type": "display_data"
    },
    {
     "data": {
      "application/vnd.jupyter.widget-view+json": {
       "model_id": "eced3d7d545348cd8fdfa9e2c6841562",
       "version_major": 2,
       "version_minor": 0
      },
      "text/plain": [
       "VBox(children=(Output(), RadioButtons(options=(('slippery', 0), ('fascinate', 1), ('misuse', 2), ('nourish', 3…"
      ]
     },
     "metadata": {},
     "output_type": "display_data"
    },
    {
     "data": {
      "application/vnd.jupyter.widget-view+json": {
       "model_id": "28b7e1f373dc4af09ef76a0d7a6bb9a1",
       "version_major": 2,
       "version_minor": 0
      },
      "text/plain": [
       "VBox(children=(Output(), RadioButtons(options=(('mutate', 0), ('chronic', 1), ('advance', 2), ('microbiology',…"
      ]
     },
     "metadata": {},
     "output_type": "display_data"
    },
    {
     "data": {
      "application/vnd.jupyter.widget-view+json": {
       "model_id": "2d19660f8c294f828f4adea9c450c8af",
       "version_major": 2,
       "version_minor": 0
      },
      "text/plain": [
       "VBox(children=(Output(), RadioButtons(options=(('excuse', 0), ('impeach', 1), ('airlift', 2), ('accuse', 3)), …"
      ]
     },
     "metadata": {},
     "output_type": "display_data"
    },
    {
     "data": {
      "application/vnd.jupyter.widget-view+json": {
       "model_id": "0b9c0b5d89a24a1b80bf4fc904fe8152",
       "version_major": 2,
       "version_minor": 0
      },
      "text/plain": [
       "VBox(children=(Output(), RadioButtons(options=(('silt', 0), ('residue', 1), ('sickness', 2), ('flourish', 3)),…"
      ]
     },
     "metadata": {},
     "output_type": "display_data"
    },
    {
     "data": {
      "application/vnd.jupyter.widget-view+json": {
       "model_id": "c6b6de731054496c938a7cd5df493a8d",
       "version_major": 2,
       "version_minor": 0
      },
      "text/plain": [
       "VBox(children=(Output(), RadioButtons(options=(('cut a fine figure', 0), ('inheritance', 1), ('planetary', 2),…"
      ]
     },
     "metadata": {},
     "output_type": "display_data"
    },
    {
     "data": {
      "application/vnd.jupyter.widget-view+json": {
       "model_id": "e1f1fa2dccb34ab88cfd64629ada96d9",
       "version_major": 2,
       "version_minor": 0
      },
      "text/plain": [
       "VBox(children=(Output(), RadioButtons(options=(('outlaw', 0), ('contradict', 1), ('proliferate', 2), ('misdeme…"
      ]
     },
     "metadata": {},
     "output_type": "display_data"
    },
    {
     "data": {
      "application/vnd.jupyter.widget-view+json": {
       "model_id": "ef67b387bfab44bb9dae53ae79f78248",
       "version_major": 2,
       "version_minor": 0
      },
      "text/plain": [
       "VBox(children=(Output(), RadioButtons(options=(('limb', 0), ('wither', 1), ('depression', 2), ('vice', 3)), va…"
      ]
     },
     "metadata": {},
     "output_type": "display_data"
    },
    {
     "data": {
      "application/vnd.jupyter.widget-view+json": {
       "model_id": "50c1ebe83d024e48be37b48ff7050fd1",
       "version_major": 2,
       "version_minor": 0
      },
      "text/plain": [
       "VBox(children=(Output(), RadioButtons(options=(('transcript', 0), ('impregnable', 1), ('respect', 2), ('city c…"
      ]
     },
     "metadata": {},
     "output_type": "display_data"
    },
    {
     "data": {
      "application/vnd.jupyter.widget-view+json": {
       "model_id": "3c04ad4419734d7d9f6e2e5f2ab1068a",
       "version_major": 2,
       "version_minor": 0
      },
      "text/plain": [
       "VBox(children=(Output(), RadioButtons(options=(('term', 0), ('metabolism', 1), ('ratification', 2), ('decent',…"
      ]
     },
     "metadata": {},
     "output_type": "display_data"
    },
    {
     "data": {
      "application/vnd.jupyter.widget-view+json": {
       "model_id": "f7e1cf943f8d41749b332a2af6ca039b",
       "version_major": 2,
       "version_minor": 0
      },
      "text/plain": [
       "VBox(children=(Output(), RadioButtons(options=(('dormant', 0), ('gallant', 1), ('blosoom', 2), ('petition', 3)…"
      ]
     },
     "metadata": {},
     "output_type": "display_data"
    },
    {
     "data": {
      "application/vnd.jupyter.widget-view+json": {
       "model_id": "dc9d52d9b81c4793902ed54279a0815e",
       "version_major": 2,
       "version_minor": 0
      },
      "text/plain": [
       "VBox(children=(Output(), RadioButtons(options=(('enclose', 0), ('intonation', 1), ('disloyal', 2), ('breeze', …"
      ]
     },
     "metadata": {},
     "output_type": "display_data"
    },
    {
     "data": {
      "application/vnd.jupyter.widget-view+json": {
       "model_id": "29cf4b8ed59544258964789f1bf34474",
       "version_major": 2,
       "version_minor": 0
      },
      "text/plain": [
       "VBox(children=(Output(), RadioButtons(options=(('genuine', 0), ('charge', 1), ('account for', 2), ('city counc…"
      ]
     },
     "metadata": {},
     "output_type": "display_data"
    },
    {
     "data": {
      "application/vnd.jupyter.widget-view+json": {
       "model_id": "d8bd9cfa21f54bd8b657b71741b1fcae",
       "version_major": 2,
       "version_minor": 0
      },
      "text/plain": [
       "VBox(children=(Output(), RadioButtons(options=(('certify', 0), ('mare', 1), ('examination', 2), ('ulcer', 3)),…"
      ]
     },
     "metadata": {},
     "output_type": "display_data"
    },
    {
     "data": {
      "application/vnd.jupyter.widget-view+json": {
       "model_id": "335c077192ad458aa9e1554a9a0d2165",
       "version_major": 2,
       "version_minor": 0
      },
      "text/plain": [
       "VBox(children=(Output(), RadioButtons(options=(('diagnosis', 0), ('transatlantic', 1), ('disclaim', 2), ('defe…"
      ]
     },
     "metadata": {},
     "output_type": "display_data"
    },
    {
     "data": {
      "application/vnd.jupyter.widget-view+json": {
       "model_id": "b329fbfc271b4ddda1cf590299a7f50f",
       "version_major": 2,
       "version_minor": 0
      },
      "text/plain": [
       "VBox(children=(Output(), RadioButtons(options=(('emit', 0), ('dominant', 1), ('enroll', 2), ('pictorial', 3)),…"
      ]
     },
     "metadata": {},
     "output_type": "display_data"
    },
    {
     "data": {
      "application/vnd.jupyter.widget-view+json": {
       "model_id": "b1acfaff66f0487ca9499ded3286472f",
       "version_major": 2,
       "version_minor": 0
      },
      "text/plain": [
       "VBox(children=(Output(), RadioButtons(options=(('ubiquitous', 0), ('brisk', 1), ('generous', 2), ('imperceptib…"
      ]
     },
     "metadata": {},
     "output_type": "display_data"
    },
    {
     "data": {
      "application/vnd.jupyter.widget-view+json": {
       "model_id": "6de9061eaa1746449461db96c8b70423",
       "version_major": 2,
       "version_minor": 0
      },
      "text/plain": [
       "VBox(children=(Output(), RadioButtons(options=(('destined', 0), ('gigantic', 1), ('dictator', 2), ('fluctuate'…"
      ]
     },
     "metadata": {},
     "output_type": "display_data"
    },
    {
     "data": {
      "application/vnd.jupyter.widget-view+json": {
       "model_id": "1baab6e5f3f74b4dbab1e6365b3f5bbb",
       "version_major": 2,
       "version_minor": 0
      },
      "text/plain": [
       "VBox(children=(Output(), RadioButtons(options=(('puberty', 0), ('surpass', 1), ('alchemy', 2), ('cottage', 3))…"
      ]
     },
     "metadata": {},
     "output_type": "display_data"
    },
    {
     "data": {
      "application/vnd.jupyter.widget-view+json": {
       "model_id": "3f844508c60747bebc69e3700fa0ce72",
       "version_major": 2,
       "version_minor": 0
      },
      "text/plain": [
       "VBox(children=(Output(), RadioButtons(options=(('undertake', 0), ('extravagant', 1), ('efficiency', 2), ('tyra…"
      ]
     },
     "metadata": {},
     "output_type": "display_data"
    },
    {
     "data": {
      "application/vnd.jupyter.widget-view+json": {
       "model_id": "7fbfb65eabf84494bdec2a3b0e3c81b0",
       "version_major": 2,
       "version_minor": 0
      },
      "text/plain": [
       "VBox(children=(Output(), RadioButtons(options=(('oppose', 0), ('benefactor', 1), ('access', 2), ('address', 3)…"
      ]
     },
     "metadata": {},
     "output_type": "display_data"
    },
    {
     "data": {
      "application/vnd.jupyter.widget-view+json": {
       "model_id": "78395f8738d54972a751b09e9c2165e2",
       "version_major": 2,
       "version_minor": 0
      },
      "text/plain": [
       "VBox(children=(Output(), RadioButtons(options=(('supreme', 0), ('identical', 1), ('ravage', 2), ('accuse', 3))…"
      ]
     },
     "metadata": {},
     "output_type": "display_data"
    },
    {
     "data": {
      "application/vnd.jupyter.widget-view+json": {
       "model_id": "0e82918f1f9145b6a278dc55fbc6b452",
       "version_major": 2,
       "version_minor": 0
      },
      "text/plain": [
       "VBox(children=(Output(), RadioButtons(options=(('revoke', 0), ('cheif executive', 1), ('address', 2), ('mutate…"
      ]
     },
     "metadata": {},
     "output_type": "display_data"
    },
    {
     "data": {
      "application/vnd.jupyter.widget-view+json": {
       "model_id": "095e79f2fa1949a2a090115bf6798bcd",
       "version_major": 2,
       "version_minor": 0
      },
      "text/plain": [
       "VBox(children=(Output(), RadioButtons(options=(('semifinal', 0), ('quarantine', 1), ('stalk', 2), ('token', 3)…"
      ]
     },
     "metadata": {},
     "output_type": "display_data"
    },
    {
     "data": {
      "application/vnd.jupyter.widget-view+json": {
       "model_id": "3fc494d4cdec424780e36a7f91bf8171",
       "version_major": 2,
       "version_minor": 0
      },
      "text/plain": [
       "VBox(children=(Output(), RadioButtons(options=(('affirm', 0), ('entangle', 1), ('beneficient', 2), ('boredom',…"
      ]
     },
     "metadata": {},
     "output_type": "display_data"
    },
    {
     "data": {
      "application/vnd.jupyter.widget-view+json": {
       "model_id": "7ebf6131a3524667a640c1f85a09edbb",
       "version_major": 2,
       "version_minor": 0
      },
      "text/plain": [
       "VBox(children=(Output(), RadioButtons(options=(('ambidextrous', 0), ('pledge', 1), ('cottage', 2), ('decompose…"
      ]
     },
     "metadata": {},
     "output_type": "display_data"
    },
    {
     "data": {
      "application/vnd.jupyter.widget-view+json": {
       "model_id": "706220214d9b426a894be1e32a6c68e6",
       "version_major": 2,
       "version_minor": 0
      },
      "text/plain": [
       "VBox(children=(Output(), RadioButtons(options=(('innocuous', 0), ('interior', 1), ('intricate', 2), ('mutton',…"
      ]
     },
     "metadata": {},
     "output_type": "display_data"
    },
    {
     "data": {
      "application/vnd.jupyter.widget-view+json": {
       "model_id": "9d2424a8f8f34e76ba32591e2bc4bfa6",
       "version_major": 2,
       "version_minor": 0
      },
      "text/plain": [
       "VBox(children=(Output(), RadioButtons(options=(('downwind', 0), ('entangle', 1), ('reverent', 2), ('exile', 3)…"
      ]
     },
     "metadata": {},
     "output_type": "display_data"
    },
    {
     "data": {
      "application/vnd.jupyter.widget-view+json": {
       "model_id": "5e40a8a3a8d24bf4a82366d21ef0e2e7",
       "version_major": 2,
       "version_minor": 0
      },
      "text/plain": [
       "VBox(children=(Output(), RadioButtons(options=(('mutate', 0), ('substantial', 1), ('perspective', 2), ('dorman…"
      ]
     },
     "metadata": {},
     "output_type": "display_data"
    },
    {
     "data": {
      "application/vnd.jupyter.widget-view+json": {
       "model_id": "a5edc69df39f4da19ae82e7b09cf4e31",
       "version_major": 2,
       "version_minor": 0
      },
      "text/plain": [
       "VBox(children=(Output(), RadioButtons(options=(('epic', 0), ('decompose', 1), ('devout', 2), ('summit', 3)), v…"
      ]
     },
     "metadata": {},
     "output_type": "display_data"
    },
    {
     "data": {
      "application/vnd.jupyter.widget-view+json": {
       "model_id": "3d4994edba38440ba4deddf9adbd581a",
       "version_major": 2,
       "version_minor": 0
      },
      "text/plain": [
       "VBox(children=(Output(), RadioButtons(options=(('emigration', 0), ('vicious', 1), ('bee venom', 2), ('antagoni…"
      ]
     },
     "metadata": {},
     "output_type": "display_data"
    },
    {
     "data": {
      "application/vnd.jupyter.widget-view+json": {
       "model_id": "741051be32cd4a1fa798cbaa9591580a",
       "version_major": 2,
       "version_minor": 0
      },
      "text/plain": [
       "VBox(children=(Output(), RadioButtons(options=(('circumvent', 0), ('distinguish oneself', 1), ('cruise', 2), (…"
      ]
     },
     "metadata": {},
     "output_type": "display_data"
    },
    {
     "data": {
      "application/vnd.jupyter.widget-view+json": {
       "model_id": "191d26d2fe97456081fe65261d7c62f4",
       "version_major": 2,
       "version_minor": 0
      },
      "text/plain": [
       "VBox(children=(Output(), RadioButtons(options=(('ruthlessly', 0), ('hypothesis', 1), ('unification', 2), ('qua…"
      ]
     },
     "metadata": {},
     "output_type": "display_data"
    },
    {
     "data": {
      "application/vnd.jupyter.widget-view+json": {
       "model_id": "ebcddecb1c6649dd903df036471b179a",
       "version_major": 2,
       "version_minor": 0
      },
      "text/plain": [
       "VBox(children=(Output(), RadioButtons(options=(('allegorical', 0), ('external', 1), ('intonation', 2), ('predo…"
      ]
     },
     "metadata": {},
     "output_type": "display_data"
    },
    {
     "data": {
      "application/vnd.jupyter.widget-view+json": {
       "model_id": "3c9fa1d59693470683d644af5b6cb9f8",
       "version_major": 2,
       "version_minor": 0
      },
      "text/plain": [
       "VBox(children=(Output(), RadioButtons(options=(('solidarity', 0), ('mesolithic', 1), ('coffin', 2), ('abruptly…"
      ]
     },
     "metadata": {},
     "output_type": "display_data"
    },
    {
     "data": {
      "application/vnd.jupyter.widget-view+json": {
       "model_id": "ab2d217d1516495386abc71d3ef0d529",
       "version_major": 2,
       "version_minor": 0
      },
      "text/plain": [
       "VBox(children=(Output(), RadioButtons(options=(('compose', 0), ('proliferate', 1), ('ulcer', 2), ('suck', 3)),…"
      ]
     },
     "metadata": {},
     "output_type": "display_data"
    },
    {
     "data": {
      "application/vnd.jupyter.widget-view+json": {
       "model_id": "95f410b0e3e44c94bf5d730549188a3f",
       "version_major": 2,
       "version_minor": 0
      },
      "text/plain": [
       "VBox(children=(Output(), RadioButtons(options=(('annihilate', 0), ('autograph', 1), ('avert', 2), ('diagnosis'…"
      ]
     },
     "metadata": {},
     "output_type": "display_data"
    },
    {
     "data": {
      "application/vnd.jupyter.widget-view+json": {
       "model_id": "67964336374343c2859f45d4234fd589",
       "version_major": 2,
       "version_minor": 0
      },
      "text/plain": [
       "VBox(children=(Output(), RadioButtons(options=(('distortion', 0), ('treason', 1), ('take into account', 2), ('…"
      ]
     },
     "metadata": {},
     "output_type": "display_data"
    },
    {
     "data": {
      "application/vnd.jupyter.widget-view+json": {
       "model_id": "616a131422e648f2ae69e5a080771225",
       "version_major": 2,
       "version_minor": 0
      },
      "text/plain": [
       "VBox(children=(Output(), RadioButtons(options=(('excavate', 0), ('viscous', 1), ('cataclysm', 2), ('manifest',…"
      ]
     },
     "metadata": {},
     "output_type": "display_data"
    },
    {
     "data": {
      "application/vnd.jupyter.widget-view+json": {
       "model_id": "cecbe218a6eb486cb714c1b3aa7eff75",
       "version_major": 2,
       "version_minor": 0
      },
      "text/plain": [
       "VBox(children=(Output(), RadioButtons(options=(('incompatible', 0), ('afterlife', 1), ('suck', 2), ('dense', 3…"
      ]
     },
     "metadata": {},
     "output_type": "display_data"
    },
    {
     "data": {
      "application/vnd.jupyter.widget-view+json": {
       "model_id": "22005c2d4b1b4070aa008753c6a93b35",
       "version_major": 2,
       "version_minor": 0
      },
      "text/plain": [
       "VBox(children=(Output(), RadioButtons(options=(('regard', 0), ('benefactor', 1), ('expertise', 2), ('evade', 3…"
      ]
     },
     "metadata": {},
     "output_type": "display_data"
    },
    {
     "data": {
      "application/vnd.jupyter.widget-view+json": {
       "model_id": "054f913e6a4643f7850ba8eec1a4741a",
       "version_major": 2,
       "version_minor": 0
      },
      "text/plain": [
       "VBox(children=(Output(), RadioButtons(options=(('speculate', 0), ('eternal', 1), ('revoke', 2), ('improper', 3…"
      ]
     },
     "metadata": {},
     "output_type": "display_data"
    },
    {
     "data": {
      "application/vnd.jupyter.widget-view+json": {
       "model_id": "6d290d51d8a1468c9a5f1ff535ee7025",
       "version_major": 2,
       "version_minor": 0
      },
      "text/plain": [
       "VBox(children=(Output(), RadioButtons(options=(('creditor', 0), ('roughly', 1), ('mutton', 2), ('contradiction…"
      ]
     },
     "metadata": {},
     "output_type": "display_data"
    },
    {
     "data": {
      "application/vnd.jupyter.widget-view+json": {
       "model_id": "ab44225e40ee4daca4fa22e3bbba6de0",
       "version_major": 2,
       "version_minor": 0
      },
      "text/plain": [
       "VBox(children=(Output(), RadioButtons(options=(('extensively', 0), ('tactics', 1), ('stew', 2), ('union', 3)),…"
      ]
     },
     "metadata": {},
     "output_type": "display_data"
    },
    {
     "data": {
      "application/vnd.jupyter.widget-view+json": {
       "model_id": "204187ea59b742b99cb8eedb045bfe87",
       "version_major": 2,
       "version_minor": 0
      },
      "text/plain": [
       "VBox(children=(Output(), RadioButtons(options=(('planetary', 0), ('purify', 1), ('loom', 2), ('unleash', 3)), …"
      ]
     },
     "metadata": {},
     "output_type": "display_data"
    },
    {
     "data": {
      "application/vnd.jupyter.widget-view+json": {
       "model_id": "9a3771e4b83d4856b632bddda54cc680",
       "version_major": 2,
       "version_minor": 0
      },
      "text/plain": [
       "VBox(children=(Output(), RadioButtons(options=(('ravage', 0), ('uproot', 1), ('amphibious', 2), ('impartial', …"
      ]
     },
     "metadata": {},
     "output_type": "display_data"
    },
    {
     "data": {
      "application/vnd.jupyter.widget-view+json": {
       "model_id": "0c94ea25e323438cb559071e7d11f743",
       "version_major": 2,
       "version_minor": 0
      },
      "text/plain": [
       "VBox(children=(Output(), RadioButtons(options=(('innocuous', 0), ('suppress', 1), ('afterword', 2), ('supervis…"
      ]
     },
     "metadata": {},
     "output_type": "display_data"
    },
    {
     "data": {
      "application/vnd.jupyter.widget-view+json": {
       "model_id": "9928899dcc3e44aaa9c63dc2bccb6c69",
       "version_major": 2,
       "version_minor": 0
      },
      "text/plain": [
       "VBox(children=(Output(), RadioButtons(options=(('briefly', 0), ('indiscriminate', 1), ('examination', 2), ('va…"
      ]
     },
     "metadata": {},
     "output_type": "display_data"
    },
    {
     "data": {
      "application/vnd.jupyter.widget-view+json": {
       "model_id": "7d90eacb411d4650859e4fb54d4cff91",
       "version_major": 2,
       "version_minor": 0
      },
      "text/plain": [
       "VBox(children=(Output(), RadioButtons(options=(('fertile', 0), ('afterlife', 1), ('behind the times', 2), ('sk…"
      ]
     },
     "metadata": {},
     "output_type": "display_data"
    },
    {
     "data": {
      "application/vnd.jupyter.widget-view+json": {
       "model_id": "0dedb68c62304d33bdeed54bce19819b",
       "version_major": 2,
       "version_minor": 0
      },
      "text/plain": [
       "VBox(children=(Output(), RadioButtons(options=(('audiovisual', 0), ('morality', 1), ('enthusiastically', 2), (…"
      ]
     },
     "metadata": {},
     "output_type": "display_data"
    },
    {
     "data": {
      "application/vnd.jupyter.widget-view+json": {
       "model_id": "05a2088d95cf42749ee1b3c7374780a1",
       "version_major": 2,
       "version_minor": 0
      },
      "text/plain": [
       "VBox(children=(Output(), RadioButtons(options=(('ancestor', 0), ('afterword', 1), ('penetrate', 2), ('tenant',…"
      ]
     },
     "metadata": {},
     "output_type": "display_data"
    },
    {
     "data": {
      "application/vnd.jupyter.widget-view+json": {
       "model_id": "7bb9eaf997674dfd96b77a3dea4409fa",
       "version_major": 2,
       "version_minor": 0
      },
      "text/plain": [
       "VBox(children=(Output(), RadioButtons(options=(('laborious', 0), ('affluent', 1), ('variety', 2), ('hesitate',…"
      ]
     },
     "metadata": {},
     "output_type": "display_data"
    },
    {
     "data": {
      "application/vnd.jupyter.widget-view+json": {
       "model_id": "d71c1c7f890348558770706b6ba00a2f",
       "version_major": 2,
       "version_minor": 0
      },
      "text/plain": [
       "VBox(children=(Output(), RadioButtons(options=(('abolition', 0), ('disorder', 1), ('provoke', 2), ('cut a fine…"
      ]
     },
     "metadata": {},
     "output_type": "display_data"
    },
    {
     "data": {
      "application/vnd.jupyter.widget-view+json": {
       "model_id": "74c2e3709c40408c9213710abe83bc54",
       "version_major": 2,
       "version_minor": 0
      },
      "text/plain": [
       "VBox(children=(Output(), RadioButtons(options=(('manifest', 0), ('intermediate', 1), ('octave', 2), ('foresee'…"
      ]
     },
     "metadata": {},
     "output_type": "display_data"
    },
    {
     "data": {
      "application/vnd.jupyter.widget-view+json": {
       "model_id": "a724a13464594dddb763c1e695bb7f07",
       "version_major": 2,
       "version_minor": 0
      },
      "text/plain": [
       "VBox(children=(Output(), RadioButtons(options=(('circulatory system', 0), ('degenerate', 1), ('postpone', 2), …"
      ]
     },
     "metadata": {},
     "output_type": "display_data"
    },
    {
     "data": {
      "application/vnd.jupyter.widget-view+json": {
       "model_id": "aeb75a5b266c464bab442695a366adff",
       "version_major": 2,
       "version_minor": 0
      },
      "text/plain": [
       "VBox(children=(Output(), RadioButtons(options=(('exorbitant', 0), ('wavy', 1), ('criminal', 2), ('fascinating'…"
      ]
     },
     "metadata": {},
     "output_type": "display_data"
    },
    {
     "data": {
      "application/vnd.jupyter.widget-view+json": {
       "model_id": "5f2319423cf94eb5b9b8f36718a4a569",
       "version_major": 2,
       "version_minor": 0
      },
      "text/plain": [
       "VBox(children=(Output(), RadioButtons(options=(('decaying', 0), ('siege', 1), ('extent', 2), ('mutton', 3)), v…"
      ]
     },
     "metadata": {},
     "output_type": "display_data"
    },
    {
     "data": {
      "application/vnd.jupyter.widget-view+json": {
       "model_id": "ccd0178cf3bc4ab5b708319eddb46db0",
       "version_major": 2,
       "version_minor": 0
      },
      "text/plain": [
       "VBox(children=(Output(), RadioButtons(options=(('collaborate', 0), ('monomer', 1), ('object', 2), ('distract',…"
      ]
     },
     "metadata": {},
     "output_type": "display_data"
    },
    {
     "data": {
      "application/vnd.jupyter.widget-view+json": {
       "model_id": "16681ded72474dbe9226b7428b477380",
       "version_major": 2,
       "version_minor": 0
      },
      "text/plain": [
       "VBox(children=(Output(), RadioButtons(options=(('acidic', 0), ('faculty', 1), ('decompose', 2), ('cliff', 3)),…"
      ]
     },
     "metadata": {},
     "output_type": "display_data"
    },
    {
     "data": {
      "application/vnd.jupyter.widget-view+json": {
       "model_id": "831ebd7e979b49a2ac5e9343bad54403",
       "version_major": 2,
       "version_minor": 0
      },
      "text/plain": [
       "VBox(children=(Output(), RadioButtons(options=(('postpone', 0), ('distract', 1), ('slaughter', 2), ('unpopular…"
      ]
     },
     "metadata": {},
     "output_type": "display_data"
    },
    {
     "data": {
      "application/vnd.jupyter.widget-view+json": {
       "model_id": "64cae274d77b466f960568a680d61bf7",
       "version_major": 2,
       "version_minor": 0
      },
      "text/plain": [
       "VBox(children=(Output(), RadioButtons(options=(('find fault with', 0), ('antiwar', 1), ('predescribe', 2), ('f…"
      ]
     },
     "metadata": {},
     "output_type": "display_data"
    },
    {
     "data": {
      "application/vnd.jupyter.widget-view+json": {
       "model_id": "d528eaa8cbdd463c9183e74f3db1ddc7",
       "version_major": 2,
       "version_minor": 0
      },
      "text/plain": [
       "VBox(children=(Output(), RadioButtons(options=(('corridor', 0), ('at the mercy of', 1), ('suit', 2), ('ambassa…"
      ]
     },
     "metadata": {},
     "output_type": "display_data"
    },
    {
     "data": {
      "application/vnd.jupyter.widget-view+json": {
       "model_id": "1269d28fdec248aebc7eb6c92e712fb7",
       "version_major": 2,
       "version_minor": 0
      },
      "text/plain": [
       "VBox(children=(Output(), RadioButtons(options=(('throughout', 0), ('misdemeanor', 1), ('caustic', 2), ('dye', …"
      ]
     },
     "metadata": {},
     "output_type": "display_data"
    },
    {
     "data": {
      "application/vnd.jupyter.widget-view+json": {
       "model_id": "67832b4e73614d54a2cdaedea840392f",
       "version_major": 2,
       "version_minor": 0
      },
      "text/plain": [
       "VBox(children=(Output(), RadioButtons(options=(('predator', 0), ('disloyal', 1), ('impair', 2), ('fascinate', …"
      ]
     },
     "metadata": {},
     "output_type": "display_data"
    },
    {
     "data": {
      "application/vnd.jupyter.widget-view+json": {
       "model_id": "72259fb5fba3457893ac342b82e73237",
       "version_major": 2,
       "version_minor": 0
      },
      "text/plain": [
       "VBox(children=(Output(), RadioButtons(options=(('mischievous', 0), ('testify', 1), ('valuable', 2), ('curve', …"
      ]
     },
     "metadata": {},
     "output_type": "display_data"
    },
    {
     "data": {
      "application/vnd.jupyter.widget-view+json": {
       "model_id": "640c56980020449ba962bd1229b4e00a",
       "version_major": 2,
       "version_minor": 0
      },
      "text/plain": [
       "VBox(children=(Output(), RadioButtons(options=(('arbitrarily', 0), ('audit', 1), ('creditor', 2), ('emit', 3))…"
      ]
     },
     "metadata": {},
     "output_type": "display_data"
    },
    {
     "data": {
      "application/vnd.jupyter.widget-view+json": {
       "model_id": "a5375b826b0d470f9916f7c306804e58",
       "version_major": 2,
       "version_minor": 0
      },
      "text/plain": [
       "VBox(children=(Output(), RadioButtons(options=(('postscript', 0), ('lifesaver', 1), ('union', 2), ('inform', 3…"
      ]
     },
     "metadata": {},
     "output_type": "display_data"
    },
    {
     "data": {
      "application/vnd.jupyter.widget-view+json": {
       "model_id": "918c7ac8495a4b74bc8787e3f7621a2f",
       "version_major": 2,
       "version_minor": 0
      },
      "text/plain": [
       "VBox(children=(Output(), RadioButtons(options=(('beforehand', 0), ('congestion', 1), ('medieval', 2), ('twin',…"
      ]
     },
     "metadata": {},
     "output_type": "display_data"
    },
    {
     "data": {
      "application/vnd.jupyter.widget-view+json": {
       "model_id": "c39b2610a5984c2b982a03f9de68ad71",
       "version_major": 2,
       "version_minor": 0
      },
      "text/plain": [
       "VBox(children=(Output(), RadioButtons(options=(('ambassador', 0), ('deadly', 1), ('starve', 2), ('demolish', 3…"
      ]
     },
     "metadata": {},
     "output_type": "display_data"
    },
    {
     "data": {
      "application/vnd.jupyter.widget-view+json": {
       "model_id": "e9f93bcbfc8248f682636876ee59e057",
       "version_major": 2,
       "version_minor": 0
      },
      "text/plain": [
       "VBox(children=(Output(), RadioButtons(options=(('extravagant', 0), ('elective', 1), ('wade', 2), ('garment', 3…"
      ]
     },
     "metadata": {},
     "output_type": "display_data"
    },
    {
     "data": {
      "application/vnd.jupyter.widget-view+json": {
       "model_id": "45ebd7ce3eb24fa087fc6d8e64fe44e5",
       "version_major": 2,
       "version_minor": 0
      },
      "text/plain": [
       "VBox(children=(Output(), RadioButtons(options=(('garment', 0), ('salute', 1), ('congestion', 2), ('extraordina…"
      ]
     },
     "metadata": {},
     "output_type": "display_data"
    },
    {
     "data": {
      "application/vnd.jupyter.widget-view+json": {
       "model_id": "7c162cbc9ae944bea01903bfc7e4cd1a",
       "version_major": 2,
       "version_minor": 0
      },
      "text/plain": [
       "VBox(children=(Output(), RadioButtons(options=(('hostage', 0), ('confidential', 1), ('rely', 2), ('parasites',…"
      ]
     },
     "metadata": {},
     "output_type": "display_data"
    },
    {
     "data": {
      "application/vnd.jupyter.widget-view+json": {
       "model_id": "89c3d35bbda54a469048e467e93ffd56",
       "version_major": 2,
       "version_minor": 0
      },
      "text/plain": [
       "VBox(children=(Output(), RadioButtons(options=(('inconspicuous', 0), ('incompatible', 1), ('admire', 2), ('sec…"
      ]
     },
     "metadata": {},
     "output_type": "display_data"
    },
    {
     "data": {
      "application/vnd.jupyter.widget-view+json": {
       "model_id": "26dc846fcf5042638867403d83ba98ae",
       "version_major": 2,
       "version_minor": 0
      },
      "text/plain": [
       "VBox(children=(Output(), RadioButtons(options=(('tariff', 0), ('ascribe', 1), ('entail', 2), ('groom', 3)), va…"
      ]
     },
     "metadata": {},
     "output_type": "display_data"
    },
    {
     "data": {
      "application/vnd.jupyter.widget-view+json": {
       "model_id": "8d0099b70da146de97fd058e45f47e36",
       "version_major": 2,
       "version_minor": 0
      },
      "text/plain": [
       "VBox(children=(Output(), RadioButtons(options=(('court', 0), ('cast', 1), ('mediate', 2), ('alluvial', 3)), va…"
      ]
     },
     "metadata": {},
     "output_type": "display_data"
    },
    {
     "data": {
      "application/vnd.jupyter.widget-view+json": {
       "model_id": "be5f8abf6cd0436eae8426b113e5ec66",
       "version_major": 2,
       "version_minor": 0
      },
      "text/plain": [
       "VBox(children=(Output(), RadioButtons(options=(('interpersonal', 0), ('excavate', 1), ('alteration', 2), ('imp…"
      ]
     },
     "metadata": {},
     "output_type": "display_data"
    }
   ],
   "source": [
    "get_questions_general(100)"
   ]
  },
  {
   "cell_type": "code",
   "execution_count": 11,
   "metadata": {
    "scrolled": false
   },
   "outputs": [
    {
     "data": {
      "application/vnd.jupyter.widget-view+json": {
       "model_id": "049c962ce2c74d86a34ce271ddcc3cc7",
       "version_major": 2,
       "version_minor": 0
      },
      "text/plain": [
       "VBox(children=(Output(), RadioButtons(options=(('~을 고려하다, 참작하다', 0), ('밑에, 하위에, 낮은, 가치가 없는', 1), ('저의, 부정적 감정,…"
      ]
     },
     "metadata": {},
     "output_type": "display_data"
    },
    {
     "data": {
      "application/vnd.jupyter.widget-view+json": {
       "model_id": "fb22af2282f44254b959dc6c0909699a",
       "version_major": 2,
       "version_minor": 0
      },
      "text/plain": [
       "VBox(children=(Output(), RadioButtons(options=(('인문학', 0), ('표토, 겉흙', 1), ('사색하다, 추측하다', 2), ('굳게 하다, 경화시키다, 강…"
      ]
     },
     "metadata": {},
     "output_type": "display_data"
    },
    {
     "data": {
      "application/vnd.jupyter.widget-view+json": {
       "model_id": "95f2ddbef0d443e6a839c98996e559aa",
       "version_major": 2,
       "version_minor": 0
      },
      "text/plain": [
       "VBox(children=(Output(), RadioButtons(options=(('맺는말, 발문, 후기', 0), ('유리한, 돈이 벌리는', 1), ('결혼식, 혼례', 2), ('수용하다,…"
      ]
     },
     "metadata": {},
     "output_type": "display_data"
    },
    {
     "data": {
      "application/vnd.jupyter.widget-view+json": {
       "model_id": "13a96d5e155042b4a402c98b2622aec8",
       "version_major": 2,
       "version_minor": 0
      },
      "text/plain": [
       "VBox(children=(Output(), RadioButtons(options=(('파괴하다, 전멸시키다, 근절하다', 0), ('아무도-않다', 1), ('감독하다, 관리하다, 지휘하다', 2…"
      ]
     },
     "metadata": {},
     "output_type": "display_data"
    },
    {
     "data": {
      "application/vnd.jupyter.widget-view+json": {
       "model_id": "cb2b39ddd17240f0b69e1651d5b97256",
       "version_major": 2,
       "version_minor": 0
      },
      "text/plain": [
       "VBox(children=(Output(), RadioButtons(options=(('계산서, 지폐, 법안, 청구서를 보내다, 알리다', 0), ('친밀한, 친숙한, 상세한', 1), ('풍토병의…"
      ]
     },
     "metadata": {},
     "output_type": "display_data"
    },
    {
     "data": {
      "application/vnd.jupyter.widget-view+json": {
       "model_id": "f90919ae790146aa91a72e9419cd1676",
       "version_major": 2,
       "version_minor": 0
      },
      "text/plain": [
       "VBox(children=(Output(), RadioButtons(options=(('길들이다, 교화하다', 0), ('전달, 운반', 1), ('학생, 학자, 학교의, 학자의', 2), ('집단…"
      ]
     },
     "metadata": {},
     "output_type": "display_data"
    },
    {
     "data": {
      "application/vnd.jupyter.widget-view+json": {
       "model_id": "c3bee01223924d90a14413d7ec72071d",
       "version_major": 2,
       "version_minor": 0
      },
      "text/plain": [
       "VBox(children=(Output(), RadioButtons(options=(('의무적인, 필수의', 0), ('유전, 유전적 형질, 계승', 1), ('연약한, 희미한, 나약한', 2), …"
      ]
     },
     "metadata": {},
     "output_type": "display_data"
    },
    {
     "data": {
      "application/vnd.jupyter.widget-view+json": {
       "model_id": "af976f0e82a64274b9930ab51e4ebf0c",
       "version_major": 2,
       "version_minor": 0
      },
      "text/plain": [
       "VBox(children=(Output(), RadioButtons(options=(('귀값, 거북이 등껍질, 별갑제의', 0), ('독거, 고독, 쓸쓸한 곳', 1), ('격변, 대변동', 2),…"
      ]
     },
     "metadata": {},
     "output_type": "display_data"
    },
    {
     "data": {
      "application/vnd.jupyter.widget-view+json": {
       "model_id": "34fe194e8c064f8abdb63c04f8a7dfa2",
       "version_major": 2,
       "version_minor": 0
      },
      "text/plain": [
       "VBox(children=(Output(), RadioButtons(options=(('물가에, 해벽에', 0), ('신석기시대의', 1), ('~하는 동안, 동안, 잠깐, 잠시', 2), ('대응…"
      ]
     },
     "metadata": {},
     "output_type": "display_data"
    },
    {
     "data": {
      "application/vnd.jupyter.widget-view+json": {
       "model_id": "d7b1435e3ed942978968d331e8370d9a",
       "version_major": 2,
       "version_minor": 0
      },
      "text/plain": [
       "VBox(children=(Output(), RadioButtons(options=(('반구, 반구체, 범위, 영역', 0), ('다리, 팔, 날개, 돌출부', 1), ('이야기하다', 2), ('…"
      ]
     },
     "metadata": {},
     "output_type": "display_data"
    },
    {
     "data": {
      "application/vnd.jupyter.widget-view+json": {
       "model_id": "91fb7953499c4e62ad0fe20ab1a6832d",
       "version_major": 2,
       "version_minor": 0
      },
      "text/plain": [
       "VBox(children=(Output(), RadioButtons(options=(('이기다, 패배시키다, 압도하다, 압도하는, 패배시키는', 0), ('스쳐 가다, 대충 일가', 1), ('오용…"
      ]
     },
     "metadata": {},
     "output_type": "display_data"
    },
    {
     "data": {
      "application/vnd.jupyter.widget-view+json": {
       "model_id": "d636a57385ec4b12b836fe9c9ddaa771",
       "version_major": 2,
       "version_minor": 0
      },
      "text/plain": [
       "VBox(children=(Output(), RadioButtons(options=(('상동 관계, 상동', 0), ('걸어서 건너다, 힘들여 나아가다', 1), ('메마른, 빈약한, 풍부하지 못한…"
      ]
     },
     "metadata": {},
     "output_type": "display_data"
    },
    {
     "data": {
      "application/vnd.jupyter.widget-view+json": {
       "model_id": "30c9d117a79543baa47ee81c68523bb8",
       "version_major": 2,
       "version_minor": 0
      },
      "text/plain": [
       "VBox(children=(Output(), RadioButtons(options=(('궤양, 병폐, 부패', 0), ('난공불락의, (신념이) 흔들리지 않는', 1), ('~의 아래에, 밑면에',…"
      ]
     },
     "metadata": {},
     "output_type": "display_data"
    },
    {
     "data": {
      "application/vnd.jupyter.widget-view+json": {
       "model_id": "b4a468ff4a2d4f18a62cd74ca203c7da",
       "version_major": 2,
       "version_minor": 0
      },
      "text/plain": [
       "VBox(children=(Output(), RadioButtons(options=(('영원한, 끝없는', 0), ('균형 잡힌, 제정신의, 온건한', 1), ('미신, 우상, 공포', 2), ('…"
      ]
     },
     "metadata": {},
     "output_type": "display_data"
    },
    {
     "data": {
      "application/vnd.jupyter.widget-view+json": {
       "model_id": "05f85bd167fd41aea9594896f6a47a4f",
       "version_major": 2,
       "version_minor": 0
      },
      "text/plain": [
       "VBox(children=(Output(), RadioButtons(options=(('못 가게 붙들다, 기다리게 하다, 유치하다', 0), ('덫, 올가미, 함정, 함정에 빠뜨리다', 1), ('…"
      ]
     },
     "metadata": {},
     "output_type": "display_data"
    },
    {
     "data": {
      "application/vnd.jupyter.widget-view+json": {
       "model_id": "795f6fb3cc474d50a3e6fca240c65882",
       "version_major": 2,
       "version_minor": 0
      },
      "text/plain": [
       "VBox(children=(Output(), RadioButtons(options=(('매개물, 수단, 방편', 0), ('현상, 사건', 1), ('상, 면, 단계, 측면', 2), ('회계감사를…"
      ]
     },
     "metadata": {},
     "output_type": "display_data"
    },
    {
     "data": {
      "application/vnd.jupyter.widget-view+json": {
       "model_id": "9c1aa57c7971467d80455afabf1f9c65",
       "version_major": 2,
       "version_minor": 0
      },
      "text/plain": [
       "VBox(children=(Output(), RadioButtons(options=(('복제하다, 번식하다', 0), ('타협하지 않는, 완고한', 1), ('처방, 규정, 법규', 2), ('풍성…"
      ]
     },
     "metadata": {},
     "output_type": "display_data"
    },
    {
     "data": {
      "application/vnd.jupyter.widget-view+json": {
       "model_id": "904d3da34a464abf89629a9fcdfd20a2",
       "version_major": 2,
       "version_minor": 0
      },
      "text/plain": [
       "VBox(children=(Output(), RadioButtons(options=(('파괴하다, 전멸시키다, 근절하다', 0), ('제 나라말, 자국어, 자국의', 1), ('감탄하다, 경애하다,…"
      ]
     },
     "metadata": {},
     "output_type": "display_data"
    },
    {
     "data": {
      "application/vnd.jupyter.widget-view+json": {
       "model_id": "f3422d49f93346f7ba0ff4dd0f9049bf",
       "version_major": 2,
       "version_minor": 0
      },
      "text/plain": [
       "VBox(children=(Output(), RadioButtons(options=(('~하는 동안, 동안, 잠깐, 잠시', 0), ('모으다, 조립하다', 1), ('화염, 불꽃, 격발, 타오르다…"
      ]
     },
     "metadata": {},
     "output_type": "display_data"
    },
    {
     "data": {
      "application/vnd.jupyter.widget-view+json": {
       "model_id": "1e04191bc24548399e4e1459d508ccd1",
       "version_major": 2,
       "version_minor": 0
      },
      "text/plain": [
       "VBox(children=(Output(), RadioButtons(options=(('숨을 막다, 질식사하다', 0), ('깨끗이 하다, 정화하다', 1), ('초자연의, 신비적인, 불가사의한',…"
      ]
     },
     "metadata": {},
     "output_type": "display_data"
    },
    {
     "data": {
      "application/vnd.jupyter.widget-view+json": {
       "model_id": "68b2afa146204128918727a28d25f26c",
       "version_major": 2,
       "version_minor": 0
      },
      "text/plain": [
       "VBox(children=(Output(), RadioButtons(options=(('반감, 혐오', 0), ('이타주의, 이타적 행위', 1), ('미신, 우상, 공포', 2), ('악의적인, …"
      ]
     },
     "metadata": {},
     "output_type": "display_data"
    },
    {
     "data": {
      "application/vnd.jupyter.widget-view+json": {
       "model_id": "4b0059f0317e46698c36e2aa087b2ccd",
       "version_major": 2,
       "version_minor": 0
      },
      "text/plain": [
       "VBox(children=(Output(), RadioButtons(options=(('귀의, 청각의', 0), ('장수하다, 부과하다, 압류하다, 부과, 징세, 소집', 1), ('하위의, 열등한…"
      ]
     },
     "metadata": {},
     "output_type": "display_data"
    },
    {
     "data": {
      "application/vnd.jupyter.widget-view+json": {
       "model_id": "dab81d34d9164d26a73e871823d006ad",
       "version_major": 2,
       "version_minor": 0
      },
      "text/plain": [
       "VBox(children=(Output(), RadioButtons(options=(('결과, 귀결, 중대함', 0), ('찬양하다, 영광스럽게하다, 미화하다', 1), ('섬유, 내구성', 2),…"
      ]
     },
     "metadata": {},
     "output_type": "display_data"
    },
    {
     "data": {
      "application/vnd.jupyter.widget-view+json": {
       "model_id": "6cc80f7113b14c32a1981da9d9717314",
       "version_major": 2,
       "version_minor": 0
      },
      "text/plain": [
       "VBox(children=(Output(), RadioButtons(options=(('미묘한, 공기 같은, 가벼운, 하늘의', 0), ('이분법, 양분', 1), ('회상, 회고, 추억', 2),…"
      ]
     },
     "metadata": {},
     "output_type": "display_data"
    },
    {
     "data": {
      "application/vnd.jupyter.widget-view+json": {
       "model_id": "a655d9c01e2c4273a4dc52a16ccf44be",
       "version_major": 2,
       "version_minor": 0
      },
      "text/plain": [
       "VBox(children=(Output(), RadioButtons(options=(('독감', 0), ('익사시키다, 침수시키다', 1), ('다재다능한, 다방면의, 다용도의', 2), ('시계 …"
      ]
     },
     "metadata": {},
     "output_type": "display_data"
    },
    {
     "data": {
      "application/vnd.jupyter.widget-view+json": {
       "model_id": "1eb6f1b769be42549c109c77fb8226cd",
       "version_major": 2,
       "version_minor": 0
      },
      "text/plain": [
       "VBox(children=(Output(), RadioButtons(options=(('반대하다, 항의하다, 물건, 목적, 대상', 0), ('치세, 왕대, 통치, 군림하다, 지배하다', 1), (…"
      ]
     },
     "metadata": {},
     "output_type": "display_data"
    },
    {
     "data": {
      "application/vnd.jupyter.widget-view+json": {
       "model_id": "c159586acb8e45e2bb9c0bff27fbf5f2",
       "version_major": 2,
       "version_minor": 0
      },
      "text/plain": [
       "VBox(children=(Output(), RadioButtons(options=(('~에 대하여, 이외에', 0), ('단조로운, 지루한', 1), ('논쟁, 말다툼, 언쟁', 2), ('당황하…"
      ]
     },
     "metadata": {},
     "output_type": "display_data"
    },
    {
     "data": {
      "application/vnd.jupyter.widget-view+json": {
       "model_id": "34151975b4bd4ccbb662cdd14a4b5801",
       "version_major": 2,
       "version_minor": 0
      },
      "text/plain": [
       "VBox(children=(Output(), RadioButtons(options=(('후기인상파 화가', 0), ('고요한, 평화스러운, 화창한', 1), ('능가하다, 초월하다, -보다낫다', …"
      ]
     },
     "metadata": {},
     "output_type": "display_data"
    },
    {
     "data": {
      "application/vnd.jupyter.widget-view+json": {
       "model_id": "395cc911d90841e794a979a6efb4eb41",
       "version_major": 2,
       "version_minor": 0
      },
      "text/plain": [
       "VBox(children=(Output(), RadioButtons(options=(('흡수하다, 섭취하다, 마시다', 0), ('단조로운, 지루한', 1), ('같은 시대의, 현대의, 동시에 발생…"
      ]
     },
     "metadata": {},
     "output_type": "display_data"
    },
    {
     "data": {
      "application/vnd.jupyter.widget-view+json": {
       "model_id": "02480a5962634fb6a5af5a4589e43f41",
       "version_major": 2,
       "version_minor": 0
      },
      "text/plain": [
       "VBox(children=(Output(), RadioButtons(options=(('상당한, 실질적인, 중요한', 0), ('억제하다, 진압하다', 1), ('즉석에서 하다, 임시 대용으로 하다…"
      ]
     },
     "metadata": {},
     "output_type": "display_data"
    },
    {
     "data": {
      "application/vnd.jupyter.widget-view+json": {
       "model_id": "959424ad7df542ba9f08a55dad521547",
       "version_major": 2,
       "version_minor": 0
      },
      "text/plain": [
       "VBox(children=(Output(), RadioButtons(options=(('맺는말, 발문, 후기', 0), ('동일한, 꼭 같은', 1), ('기름진, 비옥한, 번식능력이 있는, 풍부한…"
      ]
     },
     "metadata": {},
     "output_type": "display_data"
    },
    {
     "data": {
      "application/vnd.jupyter.widget-view+json": {
       "model_id": "9441808d943246d496e01ffd0085676d",
       "version_major": 2,
       "version_minor": 0
      },
      "text/plain": [
       "VBox(children=(Output(), RadioButtons(options=(('최고의, 뛰어난, 화려한', 0), ('앞서는, 선행의, 조상, 선조', 1), ('논문, 작물', 2), (…"
      ]
     },
     "metadata": {},
     "output_type": "display_data"
    },
    {
     "data": {
      "application/vnd.jupyter.widget-view+json": {
       "model_id": "2a806482fe114906accc6cfbd22d36ce",
       "version_major": 2,
       "version_minor": 0
      },
      "text/plain": [
       "VBox(children=(Output(), RadioButtons(options=(('기름진, 비옥한, 번식능력이 있는, 풍부한', 0), ('난공불락의, (신념이) 흔들리지 않는', 1), ('…"
      ]
     },
     "metadata": {},
     "output_type": "display_data"
    },
    {
     "data": {
      "application/vnd.jupyter.widget-view+json": {
       "model_id": "06bff8f94c484519b20140e317bca901",
       "version_major": 2,
       "version_minor": 0
      },
      "text/plain": [
       "VBox(children=(Output(), RadioButtons(options=(('복제하다, 번식하다', 0), ('집단, 군체, 콜로니, 서식지', 1), ('연합, 결합, 노동조합', 2)…"
      ]
     },
     "metadata": {},
     "output_type": "display_data"
    },
    {
     "data": {
      "application/vnd.jupyter.widget-view+json": {
       "model_id": "b714626055e148a9bb71fee4f0578990",
       "version_major": 2,
       "version_minor": 0
      },
      "text/plain": [
       "VBox(children=(Output(), RadioButtons(options=(('골동품, 미술품, 고미술의, 골동의', 0), ('향수, 향기', 1), ('수목원, 식물원', 2), ('첨…"
      ]
     },
     "metadata": {},
     "output_type": "display_data"
    },
    {
     "data": {
      "application/vnd.jupyter.widget-view+json": {
       "model_id": "63f011cd5a2a41908a76d26b0ceadb76",
       "version_major": 2,
       "version_minor": 0
      },
      "text/plain": [
       "VBox(children=(Output(), RadioButtons(options=(('사형', 0), ('해석하다, 판독하다', 1), ('매혹적인, 반하게 만드는', 2), ('출항하다, 조종하…"
      ]
     },
     "metadata": {},
     "output_type": "display_data"
    },
    {
     "data": {
      "application/vnd.jupyter.widget-view+json": {
       "model_id": "88398d1965ea4a029c8adcccc61ddca2",
       "version_major": 2,
       "version_minor": 0
      },
      "text/plain": [
       "VBox(children=(Output(), RadioButtons(options=(('막다, 차단하다, 방해하다', 0), ('~의 아래에, 밑면에', 1), ('진단, 식별', 2), ('안장을…"
      ]
     },
     "metadata": {},
     "output_type": "display_data"
    },
    {
     "data": {
      "application/vnd.jupyter.widget-view+json": {
       "model_id": "eb8702e562304ca58a1f5c32414ee50d",
       "version_major": 2,
       "version_minor": 0
      },
      "text/plain": [
       "VBox(children=(Output(), RadioButtons(options=(('공평한, 편파적이 아닌', 0), ('일식, 월식', 1), ('양고기', 2), ('흰개미', 3)), va…"
      ]
     },
     "metadata": {},
     "output_type": "display_data"
    },
    {
     "data": {
      "application/vnd.jupyter.widget-view+json": {
       "model_id": "ff876a96ab824e08a844cb7780d7f569",
       "version_major": 2,
       "version_minor": 0
      },
      "text/plain": [
       "VBox(children=(Output(), RadioButtons(options=(('적격의, 적임의, 바람직한, 적임자, 유자격자', 0), ('자서전, 자전', 1), ('조상, 선구자', 2…"
      ]
     },
     "metadata": {},
     "output_type": "display_data"
    },
    {
     "data": {
      "application/vnd.jupyter.widget-view+json": {
       "model_id": "1dae969dcedb49fdb23db862881e134d",
       "version_major": 2,
       "version_minor": 0
      },
      "text/plain": [
       "VBox(children=(Output(), RadioButtons(options=(('변명, 사과, 구실, 변명하다, 용서하다', 0), ('유명한, 저명한', 1), ('감상하다, 인식하다, 고…"
      ]
     },
     "metadata": {},
     "output_type": "display_data"
    },
    {
     "data": {
      "application/vnd.jupyter.widget-view+json": {
       "model_id": "d2d32606c3444d56bd012f12866a9670",
       "version_major": 2,
       "version_minor": 0
      },
      "text/plain": [
       "VBox(children=(Output(), RadioButtons(options=(('고혈합', 0), ('~의 가죽 끈을 풀다, 해방하다, 자유롭게 하다', 1), ('대조, 정반대', 2), …"
      ]
     },
     "metadata": {},
     "output_type": "display_data"
    },
    {
     "data": {
      "application/vnd.jupyter.widget-view+json": {
       "model_id": "82ec7f31a7054910b5aaa8befa6601a4",
       "version_major": 2,
       "version_minor": 0
      },
      "text/plain": [
       "VBox(children=(Output(), RadioButtons(options=(('일년에 두 번씩', 0), ('~을 비난하다', 1), ('상대, 사본', 2), ('유명한, 잘 알려진, 친…"
      ]
     },
     "metadata": {},
     "output_type": "display_data"
    },
    {
     "data": {
      "application/vnd.jupyter.widget-view+json": {
       "model_id": "db3cc2e94ba144719af1a91b21746ff6",
       "version_major": 2,
       "version_minor": 0
      },
      "text/plain": [
       "VBox(children=(Output(), RadioButtons(options=(('마비, 무력, 무능', 0), ('그루터기', 1), ('무관심, 냉담, 중요치 않음', 2), ('다리, 팔…"
      ]
     },
     "metadata": {},
     "output_type": "display_data"
    },
    {
     "data": {
      "application/vnd.jupyter.widget-view+json": {
       "model_id": "5204c8a73aa24732999d54fbd9b1b75b",
       "version_major": 2,
       "version_minor": 0
      },
      "text/plain": [
       "VBox(children=(Output(), RadioButtons(options=(('상, 면, 단계, 측면', 0), ('논쟁, 말다툼, 언쟁', 1), ('능가하다, -보다낫다, 이기다', 2…"
      ]
     },
     "metadata": {},
     "output_type": "display_data"
    },
    {
     "data": {
      "application/vnd.jupyter.widget-view+json": {
       "model_id": "c0bb4cf9a94f44fa91fe7f7f32525c4d",
       "version_major": 2,
       "version_minor": 0
      },
      "text/plain": [
       "VBox(children=(Output(), RadioButtons(options=(('신상품의, 아주 새로운', 0), ('상품, 거래하다', 1), ('후기인상파 화가', 2), ('~의 둘레에…"
      ]
     },
     "metadata": {},
     "output_type": "display_data"
    },
    {
     "data": {
      "application/vnd.jupyter.widget-view+json": {
       "model_id": "1678eec473464f0cab178ad5b26e92d1",
       "version_major": 2,
       "version_minor": 0
      },
      "text/plain": [
       "VBox(children=(Output(), RadioButtons(options=(('약점, 결점, 장애', 0), ('거스르다, 방해하다, 중화하다, 좌절시키다', 1), ('~의 둘레에 선을 …"
      ]
     },
     "metadata": {},
     "output_type": "display_data"
    },
    {
     "data": {
      "application/vnd.jupyter.widget-view+json": {
       "model_id": "5682d7f6e1534944933ae4fe125b2710",
       "version_major": 2,
       "version_minor": 0
      },
      "text/plain": [
       "VBox(children=(Output(), RadioButtons(options=(('골동품, 미술품, 고미술의, 골동의', 0), ('A를 B의 탓으로 돌리다', 1), ('~으로 여기다, 보다…"
      ]
     },
     "metadata": {},
     "output_type": "display_data"
    },
    {
     "data": {
      "application/vnd.jupyter.widget-view+json": {
       "model_id": "81b2c9eb5cdf415aa219860515eb8ff6",
       "version_major": 2,
       "version_minor": 0
      },
      "text/plain": [
       "VBox(children=(Output(), RadioButtons(options=(('반투성의', 0), ('보조금을 지급하다, 도움을 얻다', 1), ('괜찮은, 제대로 된, 품위 있는', 2)…"
      ]
     },
     "metadata": {},
     "output_type": "display_data"
    },
    {
     "data": {
      "application/vnd.jupyter.widget-view+json": {
       "model_id": "1116a2b35d5d46a68f5d07df051cf774",
       "version_major": 2,
       "version_minor": 0
      },
      "text/plain": [
       "VBox(children=(Output(), RadioButtons(options=(('용감한, 씩씩한, 친절한', 0), ('진화론', 1), ('화염, 불꽃, 격발, 타오르다', 2), ('불러…"
      ]
     },
     "metadata": {},
     "output_type": "display_data"
    },
    {
     "data": {
      "application/vnd.jupyter.widget-view+json": {
       "model_id": "192f696a89ec4fffb14e955b854d4228",
       "version_major": 2,
       "version_minor": 0
      },
      "text/plain": [
       "VBox(children=(Output(), RadioButtons(options=(('괜찮은, 제대로 된, 품위 있는', 0), ('떠나다, 벗어나다, 출발하다', 1), ('부동의, 움직일 수 …"
      ]
     },
     "metadata": {},
     "output_type": "display_data"
    },
    {
     "data": {
      "application/vnd.jupyter.widget-view+json": {
       "model_id": "dc3d6978e0fa49e3bc8affb6b2d823f1",
       "version_major": 2,
       "version_minor": 0
      },
      "text/plain": [
       "VBox(children=(Output(), RadioButtons(options=(('단조로운, 지루한', 0), ('왜곡, 찌그러짐', 1), ('감금, 억류', 2), ('전적으로, 완전히, …"
      ]
     },
     "metadata": {},
     "output_type": "display_data"
    },
    {
     "data": {
      "application/vnd.jupyter.widget-view+json": {
       "model_id": "9e5d10cfd37f48c6b485bab8816d928a",
       "version_major": 2,
       "version_minor": 0
      },
      "text/plain": [
       "VBox(children=(Output(), RadioButtons(options=(('경례하다, 인사하다, 거수 경례, 인사', 0), ('요약하다, 줄이다, 약화시키다', 1), ('웅변을 잘하…"
      ]
     },
     "metadata": {},
     "output_type": "display_data"
    },
    {
     "data": {
      "application/vnd.jupyter.widget-view+json": {
       "model_id": "7a891ae9f94e495586a57184087029a2",
       "version_major": 2,
       "version_minor": 0
      },
      "text/plain": [
       "VBox(children=(Output(), RadioButtons(options=(('진단, 식별', 0), ('도시의, 좁은 범위 내에', 1), ('경범죄, 못된 짓', 2), ('염료, 물감…"
      ]
     },
     "metadata": {},
     "output_type": "display_data"
    },
    {
     "data": {
      "application/vnd.jupyter.widget-view+json": {
       "model_id": "0840844aebd948689ecefcf268649b38",
       "version_major": 2,
       "version_minor": 0
      },
      "text/plain": [
       "VBox(children=(Output(), RadioButtons(options=(('모으다, 조립하다', 0), ('전통적인, 관습적인', 1), ('소우주', 2), ('주석이 달린', 3))…"
      ]
     },
     "metadata": {},
     "output_type": "display_data"
    },
    {
     "data": {
      "application/vnd.jupyter.widget-view+json": {
       "model_id": "96a32d66b0644dac830e9a143e9e77ff",
       "version_major": 2,
       "version_minor": 0
      },
      "text/plain": [
       "VBox(children=(Output(), RadioButtons(options=(('간단히, 잠시 동안', 0), ('해방시키다, 석방하다', 1), ('위선자', 2), ('우화의, 우화적인,…"
      ]
     },
     "metadata": {},
     "output_type": "display_data"
    },
    {
     "data": {
      "application/vnd.jupyter.widget-view+json": {
       "model_id": "f6c04c04cfca49fbbdef8fba6609e221",
       "version_major": 2,
       "version_minor": 0
      },
      "text/plain": [
       "VBox(children=(Output(), RadioButtons(options=(('산을 중화하는, 제산제', 0), ('헐다, 철거하다, 파괴하다, 폐지하다', 1), ('~의 결과로 보다, …"
      ]
     },
     "metadata": {},
     "output_type": "display_data"
    },
    {
     "data": {
      "application/vnd.jupyter.widget-view+json": {
       "model_id": "2d8a10b382f74e64bfa4fafc29951dae",
       "version_major": 2,
       "version_minor": 0
      },
      "text/plain": [
       "VBox(children=(Output(), RadioButtons(options=(('숨을 막다, 질식사하다', 0), ('다음의, 수반하는', 1), ('이민, 이주', 2), ('아첨, 감언'…"
      ]
     },
     "metadata": {},
     "output_type": "display_data"
    },
    {
     "data": {
      "application/vnd.jupyter.widget-view+json": {
       "model_id": "7083f88879a0470eaaeef20ad1080690",
       "version_major": 2,
       "version_minor": 0
      },
      "text/plain": [
       "VBox(children=(Output(), RadioButtons(options=(('객실 승무원', 0), ('시 의회', 1), ('중립화하다, 중화하다, 무효화하다', 2), ('지우다, 없…"
      ]
     },
     "metadata": {},
     "output_type": "display_data"
    },
    {
     "data": {
      "application/vnd.jupyter.widget-view+json": {
       "model_id": "acc8c180721040f0a23733ada4a1619a",
       "version_major": 2,
       "version_minor": 0
      },
      "text/plain": [
       "VBox(children=(Output(), RadioButtons(options=(('중간의, 중간에 일어나는, 중급자', 0), ('정상, 최고점, 정상회담', 1), ('고혈합', 2), ('…"
      ]
     },
     "metadata": {},
     "output_type": "display_data"
    },
    {
     "data": {
      "application/vnd.jupyter.widget-view+json": {
       "model_id": "74c8038481484e1d9d97d2fcabc2660b",
       "version_major": 2,
       "version_minor": 0
      },
      "text/plain": [
       "VBox(children=(Output(), RadioButtons(options=(('실망시키다, 좌절시키다, 방해하다', 0), ('6각류, 곤충, 다리가 6개 있는', 1), ('오용, 남용,…"
      ]
     },
     "metadata": {},
     "output_type": "display_data"
    },
    {
     "data": {
      "application/vnd.jupyter.widget-view+json": {
       "model_id": "5816f8762f914be38f3c7852ed7464aa",
       "version_major": 2,
       "version_minor": 0
      },
      "text/plain": [
       "VBox(children=(Output(), RadioButtons(options=(('요구하다, 주장하다, 요구, 주장', 0), ('넘다, 초과하다', 1), ('역사적 상동의, 균질의', 2)…"
      ]
     },
     "metadata": {},
     "output_type": "display_data"
    },
    {
     "data": {
      "application/vnd.jupyter.widget-view+json": {
       "model_id": "b448bba5e5d6406da55a0c39166e5929",
       "version_major": 2,
       "version_minor": 0
      },
      "text/plain": [
       "VBox(children=(Output(), RadioButtons(options=(('~에게 절실히 느끼게 하다', 0), ('사색하다, 추측하다', 1), ('처방, 규정, 법규', 2), ('…"
      ]
     },
     "metadata": {},
     "output_type": "display_data"
    },
    {
     "data": {
      "application/vnd.jupyter.widget-view+json": {
       "model_id": "ec9da5eac0814417880b3524b172f585",
       "version_major": 2,
       "version_minor": 0
      },
      "text/plain": [
       "VBox(children=(Output(), RadioButtons(options=(('악의적인, 해로운, 악성', 0), ('갈채, 환호, 갈채하다', 1), ('전진, 발전, 나아가다, 제출하다…"
      ]
     },
     "metadata": {},
     "output_type": "display_data"
    },
    {
     "data": {
      "application/vnd.jupyter.widget-view+json": {
       "model_id": "8bb779c2c98b4960b27300cf3acd3931",
       "version_major": 2,
       "version_minor": 0
      },
      "text/plain": [
       "VBox(children=(Output(), RadioButtons(options=(('거대 분자의', 0), ('행성의', 1), ('일류의, 으뜸가는', 2), ('헌장, 선언문, 인가서', 3…"
      ]
     },
     "metadata": {},
     "output_type": "display_data"
    },
    {
     "data": {
      "application/vnd.jupyter.widget-view+json": {
       "model_id": "a6132ab0745b4ddb9e793a044b54f470",
       "version_major": 2,
       "version_minor": 0
      },
      "text/plain": [
       "VBox(children=(Output(), RadioButtons(options=(('동성애, 동성애자', 0), ('생기있게 하다', 1), ('독이 있는, 해로운, 악의에 찬, 원한을 품은',…"
      ]
     },
     "metadata": {},
     "output_type": "display_data"
    },
    {
     "data": {
      "application/vnd.jupyter.widget-view+json": {
       "model_id": "4240529b9d0c4e319e65d14404b1e0f0",
       "version_major": 2,
       "version_minor": 0
      },
      "text/plain": [
       "VBox(children=(Output(), RadioButtons(options=(('포식자', 0), ('증명하다, 인증하다', 1), ('그만두다, 버리다, 포기하다', 2), ('소란, 소동…"
      ]
     },
     "metadata": {},
     "output_type": "display_data"
    },
    {
     "data": {
      "application/vnd.jupyter.widget-view+json": {
       "model_id": "4bce6f4dac5743f78f0aea01bb3854e5",
       "version_major": 2,
       "version_minor": 0
      },
      "text/plain": [
       "VBox(children=(Output(), RadioButtons(options=(('산들바람, 미풍, 쉬운 일, 산들바람이 불다', 0), ('높이다, 승진시키다, 찬양하다', 1), ('결점이…"
      ]
     },
     "metadata": {},
     "output_type": "display_data"
    },
    {
     "data": {
      "application/vnd.jupyter.widget-view+json": {
       "model_id": "7966d5aa81c7459b83fb9487367109ce",
       "version_major": 2,
       "version_minor": 0
      },
      "text/plain": [
       "VBox(children=(Output(), RadioButtons(options=(('형식을 따지지않는, 비공식적인, 비공식, 약식', 0), ('동화하다, 동화', 1), ('흠뻑 적시다, 포화…"
      ]
     },
     "metadata": {},
     "output_type": "display_data"
    },
    {
     "data": {
      "application/vnd.jupyter.widget-view+json": {
       "model_id": "91b78a24fd8242f79527fd9467486cb9",
       "version_major": 2,
       "version_minor": 0
      },
      "text/plain": [
       "VBox(children=(Output(), RadioButtons(options=(('치밀어 오름, 급증, 파도처럼 밀려오다', 0), ('이식, 이주, 식물을 옮겨 심다, 이식하다, 이주시키다'…"
      ]
     },
     "metadata": {},
     "output_type": "display_data"
    },
    {
     "data": {
      "application/vnd.jupyter.widget-view+json": {
       "model_id": "1b1f62360334482a8ee272dd36b0a839",
       "version_major": 2,
       "version_minor": 0
      },
      "text/plain": [
       "VBox(children=(Output(), RadioButtons(options=(('죄다, 고정시키다, 걸쇠, 집게', 0), ('맺는말, 발문, 후기', 1), ('배치하다, 처리하다', 2)…"
      ]
     },
     "metadata": {},
     "output_type": "display_data"
    },
    {
     "data": {
      "application/vnd.jupyter.widget-view+json": {
       "model_id": "2f1e8ef134fc46cb81360841522b59c6",
       "version_major": 2,
       "version_minor": 0
      },
      "text/plain": [
       "VBox(children=(Output(), RadioButtons(options=(('상처 입기 쉬운, 넘어가기 쉬운', 0), ('포유동물', 1), ('작은 접전, 사소한 충돌', 2), ('…"
      ]
     },
     "metadata": {},
     "output_type": "display_data"
    },
    {
     "data": {
      "application/vnd.jupyter.widget-view+json": {
       "model_id": "bd6724593e4d4533aa99b72f4705a169",
       "version_major": 2,
       "version_minor": 0
      },
      "text/plain": [
       "VBox(children=(Output(), RadioButtons(options=(('폐지하다 ', 0), ('창고, 보급소', 1), ('부정형의, 전형적이 아닌', 2), ('삼가다, 절제하다…"
      ]
     },
     "metadata": {},
     "output_type": "display_data"
    },
    {
     "data": {
      "application/vnd.jupyter.widget-view+json": {
       "model_id": "612445ceee894e1096c2e59e8cd04ddc",
       "version_major": 2,
       "version_minor": 0
      },
      "text/plain": [
       "VBox(children=(Output(), RadioButtons(options=(('묵과하다, 용서하다, 속죄하다', 0), ('활동 과잉의, 매우 활동적인', 1), ('~을 비난하다', 2)…"
      ]
     },
     "metadata": {},
     "output_type": "display_data"
    },
    {
     "data": {
      "application/vnd.jupyter.widget-view+json": {
       "model_id": "dbab2cb7a6904370abddb43352fe34f6",
       "version_major": 2,
       "version_minor": 0
      },
      "text/plain": [
       "VBox(children=(Output(), RadioButtons(options=(('몰래 접근하다, 가만히 뒤를 밟다', 0), ('다목적의, 여러 목적에 쓰이는', 1), ('추방하다, 불법화…"
      ]
     },
     "metadata": {},
     "output_type": "display_data"
    },
    {
     "data": {
      "application/vnd.jupyter.widget-view+json": {
       "model_id": "50dfcf3954ed48baa165a5f2a974d3bc",
       "version_major": 2,
       "version_minor": 0
      },
      "text/plain": [
       "VBox(children=(Output(), RadioButtons(options=(('~의 둘레에 선을 긋다, 제한하다, 억제하다', 0), ('~의 면전에서, ~의 앞에서', 1), ('적게하다…"
      ]
     },
     "metadata": {},
     "output_type": "display_data"
    },
    {
     "data": {
      "application/vnd.jupyter.widget-view+json": {
       "model_id": "1a2292a2d1244f37b20506c90dfb40b7",
       "version_major": 2,
       "version_minor": 0
      },
      "text/plain": [
       "VBox(children=(Output(), RadioButtons(options=(('전멸시키다, 무력하게 하다', 0), ('대통령, 주지사, 최고 지도자', 1), ('연금술', 2), ('~…"
      ]
     },
     "metadata": {},
     "output_type": "display_data"
    },
    {
     "data": {
      "application/vnd.jupyter.widget-view+json": {
       "model_id": "72b3cb95807843acaf59d168d0cc72ea",
       "version_major": 2,
       "version_minor": 0
      },
      "text/plain": [
       "VBox(children=(Output(), RadioButtons(options=(('사형', 0), ('에워싸다, 동봉하다, 넣다', 1), ('취소하다', 2), ('장수하다, 부과하다, 압류…"
      ]
     },
     "metadata": {},
     "output_type": "display_data"
    },
    {
     "data": {
      "application/vnd.jupyter.widget-view+json": {
       "model_id": "725228168e2240d0a401b180516b7180",
       "version_major": 2,
       "version_minor": 0
      },
      "text/plain": [
       "VBox(children=(Output(), RadioButtons(options=(('역사적 상동의, 균질의', 0), ('육싱성의', 1), ('현저하게, 특히', 2), ('알리다, 통지하다'…"
      ]
     },
     "metadata": {},
     "output_type": "display_data"
    },
    {
     "data": {
      "application/vnd.jupyter.widget-view+json": {
       "model_id": "12049b3dfede4b63a3a46575539a8a17",
       "version_major": 2,
       "version_minor": 0
      },
      "text/plain": [
       "VBox(children=(Output(), RadioButtons(options=(('배치하다, 처리하다', 0), ('포위 공격, 공성, 포위하다', 1), ('현저하게, 특히', 2), ('장…"
      ]
     },
     "metadata": {},
     "output_type": "display_data"
    },
    {
     "data": {
      "application/vnd.jupyter.widget-view+json": {
       "model_id": "3a3f07f07dbd4cddb7247c7271ede0f7",
       "version_major": 2,
       "version_minor": 0
      },
      "text/plain": [
       "VBox(children=(Output(), RadioButtons(options=(('말을 걸다, 연설하다, 주소를 쓰다, 연설, 주소', 0), ('꾸짖다, 질책하다, 징계, 비난', 1), (…"
      ]
     },
     "metadata": {},
     "output_type": "display_data"
    },
    {
     "data": {
      "application/vnd.jupyter.widget-view+json": {
       "model_id": "bcac6aabc6dd4c48a447f35047977f11",
       "version_major": 2,
       "version_minor": 0
      },
      "text/plain": [
       "VBox(children=(Output(), RadioButtons(options=(('결점이 있는, 불안전한', 0), ('적격의, 적임의, 바람직한, 적임자, 유자격자', 1), ('화폐제도',…"
      ]
     },
     "metadata": {},
     "output_type": "display_data"
    },
    {
     "data": {
      "application/vnd.jupyter.widget-view+json": {
       "model_id": "c20e15ef92c54ec1b08e02922a9e9df5",
       "version_major": 2,
       "version_minor": 0
      },
      "text/plain": [
       "VBox(children=(Output(), RadioButtons(options=(('밑에, 하위에, 낮은, 가치가 없는', 0), ('언어학', 1), ('신기원, 신세대', 2), ('의기소침…"
      ]
     },
     "metadata": {},
     "output_type": "display_data"
    },
    {
     "data": {
      "application/vnd.jupyter.widget-view+json": {
       "model_id": "d8b7ed9b52c84a8fa319f2ca7ff0a3be",
       "version_major": 2,
       "version_minor": 0
      },
      "text/plain": [
       "VBox(children=(Output(), RadioButtons(options=(('낭비하는, 사치스러운 기발한, 엄청난, 지나친', 0), ('어디에나 있는, 편재하는', 1), ('연합, 결…"
      ]
     },
     "metadata": {},
     "output_type": "display_data"
    },
    {
     "data": {
      "application/vnd.jupyter.widget-view+json": {
       "model_id": "25f100c553c447e38758aa46c3d301b8",
       "version_major": 2,
       "version_minor": 0
      },
      "text/plain": [
       "VBox(children=(Output(), RadioButtons(options=(('큰 뜻, 야심, 열망', 0), ('때때로 중단되는, 간헐적인', 1), ('보금자리, 둥지, 굴', 2), …"
      ]
     },
     "metadata": {},
     "output_type": "display_data"
    },
    {
     "data": {
      "application/vnd.jupyter.widget-view+json": {
       "model_id": "54a0100005ba4fa39f9c244c614698f5",
       "version_major": 2,
       "version_minor": 0
      },
      "text/plain": [
       "VBox(children=(Output(), RadioButtons(options=(('능력, 능률, 효율', 0), ('의무적인, 필수의', 1), ('~에 돌리다, ~의 탓으로 돌리다', 2),…"
      ]
     },
     "metadata": {},
     "output_type": "display_data"
    },
    {
     "data": {
      "application/vnd.jupyter.widget-view+json": {
       "model_id": "800167ea08cb4173ac85b84f566d2319",
       "version_major": 2,
       "version_minor": 0
      },
      "text/plain": [
       "VBox(children=(Output(), RadioButtons(options=(('미끄러운, 잘 빠져나가는', 0), ('풍토병의 지방 특산의', 1), ('나쁜, 악덕의, 악의 있는', 2)…"
      ]
     },
     "metadata": {},
     "output_type": "display_data"
    },
    {
     "data": {
      "application/vnd.jupyter.widget-view+json": {
       "model_id": "6ffb6e1decbb4023bc45a8acc1df30ac",
       "version_major": 2,
       "version_minor": 0
      },
      "text/plain": [
       "VBox(children=(Output(), RadioButtons(options=(('진공', 0), ('깨끗이 하다, 정화하다', 1), ('소모성의, 열광적인, 몹시 바쁜ㄹ', 2), ('규정…"
      ]
     },
     "metadata": {},
     "output_type": "display_data"
    },
    {
     "data": {
      "application/vnd.jupyter.widget-view+json": {
       "model_id": "d96bf022b7e64244bcc2e5eb10308122",
       "version_major": 2,
       "version_minor": 0
      },
      "text/plain": [
       "VBox(children=(Output(), RadioButtons(options=(('~에 이르기까지, ~까지', 0), ('쫓아내다, 추방하다, 뿜어내다', 1), ('형식을 따지지않는, 비공식…"
      ]
     },
     "metadata": {},
     "output_type": "display_data"
    },
    {
     "data": {
      "application/vnd.jupyter.widget-view+json": {
       "model_id": "a49457b4255142f1947513edb67f253f",
       "version_major": 2,
       "version_minor": 0
      },
      "text/plain": [
       "VBox(children=(Output(), RadioButtons(options=(('~으로 돌리다, 믿다, 인가하다', 0), ('소우주', 1), ('불규칙한, 고르지 못한', 2), ('~의…"
      ]
     },
     "metadata": {},
     "output_type": "display_data"
    },
    {
     "data": {
      "application/vnd.jupyter.widget-view+json": {
       "model_id": "70d7e86eaa7741e9b3c0d07f21d51a41",
       "version_major": 2,
       "version_minor": 0
      },
      "text/plain": [
       "VBox(children=(Output(), RadioButtons(options=(('눈의, 빛의, 광학상의', 0), ('찐득찐득한, 점성의', 1), ('뒤로 미루다, 연기하다', 2), ('…"
      ]
     },
     "metadata": {},
     "output_type": "display_data"
    },
    {
     "data": {
      "application/vnd.jupyter.widget-view+json": {
       "model_id": "44a73e9348214b5c9d7ea0ae9d98dbe5",
       "version_major": 2,
       "version_minor": 0
      },
      "text/plain": [
       "VBox(children=(Output(), RadioButtons(options=(('갈채, 환호, 갈채하다', 0), ('미끄러운, 잘 빠져나가는', 1), ('중재하다, 조정하다', 2), (…"
      ]
     },
     "metadata": {},
     "output_type": "display_data"
    },
    {
     "data": {
      "application/vnd.jupyter.widget-view+json": {
       "model_id": "ca2d51b11c724933b2597de5a91e3a3d",
       "version_major": 2,
       "version_minor": 0
      },
      "text/plain": [
       "VBox(children=(Output(), RadioButtons(options=(('내독소', 0), ('활발한, 번창하는', 1), ('이협접합체의, 이형의, 잡종성의', 2), ('치료제',…"
      ]
     },
     "metadata": {},
     "output_type": "display_data"
    },
    {
     "data": {
      "application/vnd.jupyter.widget-view+json": {
       "model_id": "ca6604180b0b4f74aa5dcf1c7ebcb820",
       "version_major": 2,
       "version_minor": 0
      },
      "text/plain": [
       "VBox(children=(Output(), RadioButtons(options=(('가파른, 험주한, 터무니없는, 적시다, 열중하다, 가파름, 험준함', 0), ('안색, 외관', 1), ('재…"
      ]
     },
     "metadata": {},
     "output_type": "display_data"
    },
    {
     "data": {
      "application/vnd.jupyter.widget-view+json": {
       "model_id": "c1513d0c3dfe421fa2746a6b8588011c",
       "version_major": 2,
       "version_minor": 0
      },
      "text/plain": [
       "VBox(children=(Output(), RadioButtons(options=(('~을 다 써버리다, 닳아 얿어지게 하다', 0), ('원고, 손으로 쓴것', 1), ('얼마간, 약간, 다소'…"
      ]
     },
     "metadata": {},
     "output_type": "display_data"
    },
    {
     "data": {
      "application/vnd.jupyter.widget-view+json": {
       "model_id": "547a7d6de43f486aa8a2bc322f2cfaee",
       "version_major": 2,
       "version_minor": 0
      },
      "text/plain": [
       "VBox(children=(Output(), RadioButtons(options=(('부동액', 0), ('그리기, 묘사, 연기', 1), ('지우다, 없애다, 말소하다', 2), ('이화작용, …"
      ]
     },
     "metadata": {},
     "output_type": "display_data"
    },
    {
     "data": {
      "application/vnd.jupyter.widget-view+json": {
       "model_id": "3d60d7271034480d956856a2f44705b9",
       "version_major": 2,
       "version_minor": 0
      },
      "text/plain": [
       "VBox(children=(Output(), RadioButtons(options=(('평생교육', 0), ('연약한, 희미한, 나약한', 1), ('해저의, 바닷속의, 잠수함의, 잠수함', 2),…"
      ]
     },
     "metadata": {},
     "output_type": "display_data"
    },
    {
     "data": {
      "application/vnd.jupyter.widget-view+json": {
       "model_id": "02bab1278d984266aa51324cc8ceab97",
       "version_major": 2,
       "version_minor": 0
      },
      "text/plain": [
       "VBox(children=(Output(), RadioButtons(options=(('떠나다, 벗어나다, 출발하다', 0), ('짐작하다, 의심을 두다', 1), ('길게 하다, 연장하다, 늘어나…"
      ]
     },
     "metadata": {},
     "output_type": "display_data"
    },
    {
     "data": {
      "application/vnd.jupyter.widget-view+json": {
       "model_id": "5839f0aee3124f44b3e1f8865af7cdd0",
       "version_major": 2,
       "version_minor": 0
      },
      "text/plain": [
       "VBox(children=(Output(), RadioButtons(options=(('기기고장, 오작동', 0), ('수고하다, 고생하다, 노고, 수고', 1), ('위증죄', 2), ('존경하다…"
      ]
     },
     "metadata": {},
     "output_type": "display_data"
    },
    {
     "data": {
      "application/vnd.jupyter.widget-view+json": {
       "model_id": "82bd4e9781634269a85f21529ce78074",
       "version_major": 2,
       "version_minor": 0
      },
      "text/plain": [
       "VBox(children=(Output(), RadioButtons(options=(('꾸미기, 장식', 0), ('시험', 1), ('향기로운, 방향성의, 즐거운, 임신한', 2), ('만나다, …"
      ]
     },
     "metadata": {},
     "output_type": "display_data"
    },
    {
     "data": {
      "application/vnd.jupyter.widget-view+json": {
       "model_id": "b70f41f33218454aa07c76b7cb9ca53c",
       "version_major": 2,
       "version_minor": 0
      },
      "text/plain": [
       "VBox(children=(Output(), RadioButtons(options=(('버리다, 포기하다, 퇴위하다', 0), ('해저의, 바닷속의, 잠수함의, 잠수함', 1), ('깊은, 심오한,…"
      ]
     },
     "metadata": {},
     "output_type": "display_data"
    }
   ],
   "source": [
    "get_questions_eng(100)"
   ]
  },
  {
   "cell_type": "code",
   "execution_count": 12,
   "metadata": {
    "scrolled": false
   },
   "outputs": [
    {
     "data": {
      "application/vnd.jupyter.widget-view+json": {
       "model_id": "575fb7d889534048984a5984d239b01f",
       "version_major": 2,
       "version_minor": 0
      },
      "text/plain": [
       "VBox(children=(Output(), RadioButtons(options=(('brisk', 0), ('creed', 1), ('malfunction', 2), ('trial', 3)), …"
      ]
     },
     "metadata": {},
     "output_type": "display_data"
    },
    {
     "data": {
      "application/vnd.jupyter.widget-view+json": {
       "model_id": "52270e4437c8424695e908260bd7798e",
       "version_major": 2,
       "version_minor": 0
      },
      "text/plain": [
       "VBox(children=(Output(), RadioButtons(options=(('shabby', 0), ('absurd', 1), ('synthetic', 2), ('liberal arts'…"
      ]
     },
     "metadata": {},
     "output_type": "display_data"
    },
    {
     "data": {
      "application/vnd.jupyter.widget-view+json": {
       "model_id": "ca6e17376b194963bc70e6ffe5c3e3a7",
       "version_major": 2,
       "version_minor": 0
      },
      "text/plain": [
       "VBox(children=(Output(), RadioButtons(options=(('derivative', 0), ('appease', 1), ('stalk', 2), ('convection',…"
      ]
     },
     "metadata": {},
     "output_type": "display_data"
    },
    {
     "data": {
      "application/vnd.jupyter.widget-view+json": {
       "model_id": "5d794739a3fb4f2996caa0e01a9f9663",
       "version_major": 2,
       "version_minor": 0
      },
      "text/plain": [
       "VBox(children=(Output(), RadioButtons(options=(('abnormal', 0), ('tactics', 1), ('sanitary', 2), ('fugitive', …"
      ]
     },
     "metadata": {},
     "output_type": "display_data"
    },
    {
     "data": {
      "application/vnd.jupyter.widget-view+json": {
       "model_id": "42acf0b4fcb54715915113e98299bef4",
       "version_major": 2,
       "version_minor": 0
      },
      "text/plain": [
       "VBox(children=(Output(), RadioButtons(options=(('pledge', 0), ('subscription', 1), ('cruise', 2), ('retroactiv…"
      ]
     },
     "metadata": {},
     "output_type": "display_data"
    },
    {
     "data": {
      "application/vnd.jupyter.widget-view+json": {
       "model_id": "e629b5897eb04e199ffe47e5021bc4ad",
       "version_major": 2,
       "version_minor": 0
      },
      "text/plain": [
       "VBox(children=(Output(), RadioButtons(options=(('interfere', 0), ('foul', 1), ('semipermeable', 2), ('devote o…"
      ]
     },
     "metadata": {},
     "output_type": "display_data"
    },
    {
     "data": {
      "application/vnd.jupyter.widget-view+json": {
       "model_id": "71c9599cd9304169b14cca6f25fb9178",
       "version_major": 2,
       "version_minor": 0
      },
      "text/plain": [
       "VBox(children=(Output(), RadioButtons(options=(('rapport', 0), ('antisocial', 1), ('spoil', 2), ('swarm', 3)),…"
      ]
     },
     "metadata": {},
     "output_type": "display_data"
    },
    {
     "data": {
      "application/vnd.jupyter.widget-view+json": {
       "model_id": "745f31a008924dc2849c52931f42e483",
       "version_major": 2,
       "version_minor": 0
      },
      "text/plain": [
       "VBox(children=(Output(), RadioButtons(options=(('regard', 0), ('oppress', 1), ('intermittent', 2), ('ubiquitou…"
      ]
     },
     "metadata": {},
     "output_type": "display_data"
    },
    {
     "data": {
      "application/vnd.jupyter.widget-view+json": {
       "model_id": "2bb90d2320024e2f95ffcae36e7b23e5",
       "version_major": 2,
       "version_minor": 0
      },
      "text/plain": [
       "VBox(children=(Output(), RadioButtons(options=(('throughout', 0), ('enliven', 1), ('consecutive', 2), ('perjur…"
      ]
     },
     "metadata": {},
     "output_type": "display_data"
    },
    {
     "data": {
      "application/vnd.jupyter.widget-view+json": {
       "model_id": "beeedfdf59794e0e87528e47d6c2045b",
       "version_major": 2,
       "version_minor": 0
      },
      "text/plain": [
       "VBox(children=(Output(), RadioButtons(options=(('quarter', 0), ('bring home to', 1), ('access', 2), ('partly',…"
      ]
     },
     "metadata": {},
     "output_type": "display_data"
    },
    {
     "data": {
      "application/vnd.jupyter.widget-view+json": {
       "model_id": "56d0155b2c1946a19c2a902894756cdd",
       "version_major": 2,
       "version_minor": 0
      },
      "text/plain": [
       "VBox(children=(Output(), RadioButtons(options=(('advance', 0), ('contagious', 1), ('divert', 2), ('smuggle', 3…"
      ]
     },
     "metadata": {},
     "output_type": "display_data"
    },
    {
     "data": {
      "application/vnd.jupyter.widget-view+json": {
       "model_id": "296db60b72bc4560b4815f02253cdec7",
       "version_major": 2,
       "version_minor": 0
      },
      "text/plain": [
       "VBox(children=(Output(), RadioButtons(options=(('salute', 0), ('snarl', 1), ('evacuate', 2), ('sanitary', 3)),…"
      ]
     },
     "metadata": {},
     "output_type": "display_data"
    },
    {
     "data": {
      "application/vnd.jupyter.widget-view+json": {
       "model_id": "4e10e7aebec5455e9b264425c172fe95",
       "version_major": 2,
       "version_minor": 0
      },
      "text/plain": [
       "VBox(children=(Output(), RadioButtons(options=(('serene', 0), ('oversee', 1), ('synthetic', 2), ('inexpensive'…"
      ]
     },
     "metadata": {},
     "output_type": "display_data"
    },
    {
     "data": {
      "application/vnd.jupyter.widget-view+json": {
       "model_id": "f956065731fe4641b5113f02d8bdb1c2",
       "version_major": 2,
       "version_minor": 0
      },
      "text/plain": [
       "VBox(children=(Output(), RadioButtons(options=(('dwell', 0), ('hibernation', 1), ('fluctuate', 2), ('adjacent'…"
      ]
     },
     "metadata": {},
     "output_type": "display_data"
    },
    {
     "data": {
      "application/vnd.jupyter.widget-view+json": {
       "model_id": "73bbafdd693145a1bda9d571a42dbacf",
       "version_major": 2,
       "version_minor": 0
      },
      "text/plain": [
       "VBox(children=(Output(), RadioButtons(options=(('congestion', 0), ('legislation', 1), ('confuse', 2), ('cruise…"
      ]
     },
     "metadata": {},
     "output_type": "display_data"
    },
    {
     "data": {
      "application/vnd.jupyter.widget-view+json": {
       "model_id": "462260b4296b4aff82947737b2d62493",
       "version_major": 2,
       "version_minor": 0
      },
      "text/plain": [
       "VBox(children=(Output(), RadioButtons(options=(('curve', 0), ('lease', 1), ('solidarity', 2), ('misuse', 3)), …"
      ]
     },
     "metadata": {},
     "output_type": "display_data"
    },
    {
     "data": {
      "application/vnd.jupyter.widget-view+json": {
       "model_id": "57bd8c2ef2d446338a7b6f373bdf90e5",
       "version_major": 2,
       "version_minor": 0
      },
      "text/plain": [
       "VBox(children=(Output(), RadioButtons(options=(('antisocial', 0), ('annihilate', 1), ('evergreen', 2), ('lurk'…"
      ]
     },
     "metadata": {},
     "output_type": "display_data"
    },
    {
     "data": {
      "application/vnd.jupyter.widget-view+json": {
       "model_id": "576ffaf9754e426e9f46e56d293df1e8",
       "version_major": 2,
       "version_minor": 0
      },
      "text/plain": [
       "VBox(children=(Output(), RadioButtons(options=(('misfortune', 0), ('obligatory', 1), ('overpower', 2), ('slugg…"
      ]
     },
     "metadata": {},
     "output_type": "display_data"
    },
    {
     "data": {
      "application/vnd.jupyter.widget-view+json": {
       "model_id": "1332ec79ba5b4200a797a3a1a521479e",
       "version_major": 2,
       "version_minor": 0
      },
      "text/plain": [
       "VBox(children=(Output(), RadioButtons(options=(('legitimate', 0), ('imbibe', 1), ('dwell', 2), ('dissertation'…"
      ]
     },
     "metadata": {},
     "output_type": "display_data"
    },
    {
     "data": {
      "application/vnd.jupyter.widget-view+json": {
       "model_id": "4eab9475b46243e893b38340db18f8e3",
       "version_major": 2,
       "version_minor": 0
      },
      "text/plain": [
       "VBox(children=(Output(), RadioButtons(options=(('fierce', 0), ('converse', 1), ('annotated', 2), ('lucrative',…"
      ]
     },
     "metadata": {},
     "output_type": "display_data"
    },
    {
     "data": {
      "application/vnd.jupyter.widget-view+json": {
       "model_id": "85ce9b8366d74201b0fe58a6001a8bf1",
       "version_major": 2,
       "version_minor": 0
      },
      "text/plain": [
       "VBox(children=(Output(), RadioButtons(options=(('saddle', 0), ('shabby', 1), ('imperceptible', 2), ('homosexua…"
      ]
     },
     "metadata": {},
     "output_type": "display_data"
    },
    {
     "data": {
      "application/vnd.jupyter.widget-view+json": {
       "model_id": "08b87fd273e24839a7938d0be580f45b",
       "version_major": 2,
       "version_minor": 0
      },
      "text/plain": [
       "VBox(children=(Output(), RadioButtons(options=(('metamorphic', 0), ('fierce', 1), ('reluctant', 2), ('regard',…"
      ]
     },
     "metadata": {},
     "output_type": "display_data"
    },
    {
     "data": {
      "application/vnd.jupyter.widget-view+json": {
       "model_id": "1b3140457dc8491db73e701e5864b220",
       "version_major": 2,
       "version_minor": 0
      },
      "text/plain": [
       "VBox(children=(Output(), RadioButtons(options=(('lurk', 0), ('bibliography', 1), ('cut a fine figure', 2), ('b…"
      ]
     },
     "metadata": {},
     "output_type": "display_data"
    },
    {
     "data": {
      "application/vnd.jupyter.widget-view+json": {
       "model_id": "3ed5315e3112434ab2f359730b444a8c",
       "version_major": 2,
       "version_minor": 0
      },
      "text/plain": [
       "VBox(children=(Output(), RadioButtons(options=(('lash', 0), ('chancellor', 1), ('dye', 2), ('counterclockwise'…"
      ]
     },
     "metadata": {},
     "output_type": "display_data"
    },
    {
     "data": {
      "application/vnd.jupyter.widget-view+json": {
       "model_id": "ad031a20d4724424a0773bbba5721ae9",
       "version_major": 2,
       "version_minor": 0
      },
      "text/plain": [
       "VBox(children=(Output(), RadioButtons(options=(('capital', 0), ('hostage', 1), ('ambiguous', 2), ('groom', 3))…"
      ]
     },
     "metadata": {},
     "output_type": "display_data"
    },
    {
     "data": {
      "application/vnd.jupyter.widget-view+json": {
       "model_id": "5e1b660138ed4b4a9c7f96d1ad03fef7",
       "version_major": 2,
       "version_minor": 0
      },
      "text/plain": [
       "VBox(children=(Output(), RadioButtons(options=(('wit', 0), ('tripod', 1), ('reign', 2), ('arboretum', 3)), val…"
      ]
     },
     "metadata": {},
     "output_type": "display_data"
    },
    {
     "data": {
      "application/vnd.jupyter.widget-view+json": {
       "model_id": "f821b8e5b72c4c82867e03fb983946d1",
       "version_major": 2,
       "version_minor": 0
      },
      "text/plain": [
       "VBox(children=(Output(), RadioButtons(options=(('improvise', 0), ('humiliate', 1), ('capital punishment', 2), …"
      ]
     },
     "metadata": {},
     "output_type": "display_data"
    },
    {
     "data": {
      "application/vnd.jupyter.widget-view+json": {
       "model_id": "65fb1fc495234fd5aa32cdc81e73fe33",
       "version_major": 2,
       "version_minor": 0
      },
      "text/plain": [
       "VBox(children=(Output(), RadioButtons(options=(('penetrate', 0), ('submerged', 1), ('abuse', 2), ('antacid', 3…"
      ]
     },
     "metadata": {},
     "output_type": "display_data"
    },
    {
     "data": {
      "application/vnd.jupyter.widget-view+json": {
       "model_id": "04b2eddfaa0f4faba549d300c408ed29",
       "version_major": 2,
       "version_minor": 0
      },
      "text/plain": [
       "VBox(children=(Output(), RadioButtons(options=(('exclamation', 0), ('obscene', 1), ('undertake', 2), ('skim', …"
      ]
     },
     "metadata": {},
     "output_type": "display_data"
    },
    {
     "data": {
      "application/vnd.jupyter.widget-view+json": {
       "model_id": "150de14a695240d6a2e8b07daf54b07c",
       "version_major": 2,
       "version_minor": 0
      },
      "text/plain": [
       "VBox(children=(Output(), RadioButtons(options=(('recant', 0), ('bankruptcy', 1), ('stalk', 2), ('brink', 3)), …"
      ]
     },
     "metadata": {},
     "output_type": "display_data"
    },
    {
     "data": {
      "application/vnd.jupyter.widget-view+json": {
       "model_id": "87a1cb0d94914d1ebc9929653774f4c6",
       "version_major": 2,
       "version_minor": 0
      },
      "text/plain": [
       "VBox(children=(Output(), RadioButtons(options=(('criticism', 0), ('predescribe', 1), ('subscribe', 2), ('catab…"
      ]
     },
     "metadata": {},
     "output_type": "display_data"
    },
    {
     "data": {
      "application/vnd.jupyter.widget-view+json": {
       "model_id": "1b662bc7dc404fe2b41977641a97d262",
       "version_major": 2,
       "version_minor": 0
      },
      "text/plain": [
       "VBox(children=(Output(), RadioButtons(options=(('transatlantic', 0), ('lurk', 1), ('ignite', 2), ('metamorphic…"
      ]
     },
     "metadata": {},
     "output_type": "display_data"
    },
    {
     "data": {
      "application/vnd.jupyter.widget-view+json": {
       "model_id": "d86b55e05de9456fb22f53d2723f79bc",
       "version_major": 2,
       "version_minor": 0
      },
      "text/plain": [
       "VBox(children=(Output(), RadioButtons(options=(('inexpensive', 0), ('stand for ', 1), ('arc', 2), ('sense', 3)…"
      ]
     },
     "metadata": {},
     "output_type": "display_data"
    },
    {
     "data": {
      "application/vnd.jupyter.widget-view+json": {
       "model_id": "d160fe485f564eafb8498ce606a8423c",
       "version_major": 2,
       "version_minor": 0
      },
      "text/plain": [
       "VBox(children=(Output(), RadioButtons(options=(('substantial', 0), ('absurd', 1), ('inconspicuous', 2), ('succ…"
      ]
     },
     "metadata": {},
     "output_type": "display_data"
    },
    {
     "data": {
      "application/vnd.jupyter.widget-view+json": {
       "model_id": "7203557cb618497f8a24512351ae517d",
       "version_major": 2,
       "version_minor": 0
      },
      "text/plain": [
       "VBox(children=(Output(), RadioButtons(options=(('amoral', 0), ('dedicated', 1), ('brittle', 2), ('soak', 3)), …"
      ]
     },
     "metadata": {},
     "output_type": "display_data"
    },
    {
     "data": {
      "application/vnd.jupyter.widget-view+json": {
       "model_id": "9b8f311ca6424dc796e3f512f4100b85",
       "version_major": 2,
       "version_minor": 0
      },
      "text/plain": [
       "VBox(children=(Output(), RadioButtons(options=(('contemporary', 0), ('overcome', 1), ('scholarship', 2), ('mot…"
      ]
     },
     "metadata": {},
     "output_type": "display_data"
    },
    {
     "data": {
      "application/vnd.jupyter.widget-view+json": {
       "model_id": "f35b70acc1be4015831cfc58245d8702",
       "version_major": 2,
       "version_minor": 0
      },
      "text/plain": [
       "VBox(children=(Output(), RadioButtons(options=(('tactics', 0), ('litter', 1), ('antiwar', 2), ('paralysis', 3)…"
      ]
     },
     "metadata": {},
     "output_type": "display_data"
    },
    {
     "data": {
      "application/vnd.jupyter.widget-view+json": {
       "model_id": "54534b66e9a5475b9f25e5c212008d6b",
       "version_major": 2,
       "version_minor": 0
      },
      "text/plain": [
       "VBox(children=(Output(), RadioButtons(options=(('dichotomy', 0), ('solitude', 1), ('identical', 2), ('euphemis…"
      ]
     },
     "metadata": {},
     "output_type": "display_data"
    },
    {
     "data": {
      "application/vnd.jupyter.widget-view+json": {
       "model_id": "17e962a141ee408098a07aa85d6d6018",
       "version_major": 2,
       "version_minor": 0
      },
      "text/plain": [
       "VBox(children=(Output(), RadioButtons(options=(('fibre', 0), ('sweep', 1), ('exaggerate', 2), ('imbibe', 3)), …"
      ]
     },
     "metadata": {},
     "output_type": "display_data"
    },
    {
     "data": {
      "application/vnd.jupyter.widget-view+json": {
       "model_id": "533346e9bef544a9bf4b0dc386b33842",
       "version_major": 2,
       "version_minor": 0
      },
      "text/plain": [
       "VBox(children=(Output(), RadioButtons(options=(('predescribe', 0), ('breeder', 1), ('unusual', 2), ('state', 3…"
      ]
     },
     "metadata": {},
     "output_type": "display_data"
    },
    {
     "data": {
      "application/vnd.jupyter.widget-view+json": {
       "model_id": "49cfa0fe80084d76840398ad178bcbed",
       "version_major": 2,
       "version_minor": 0
      },
      "text/plain": [
       "VBox(children=(Output(), RadioButtons(options=(('satiate', 0), ('city council', 1), ('circadian rhythm', 2), (…"
      ]
     },
     "metadata": {},
     "output_type": "display_data"
    },
    {
     "data": {
      "application/vnd.jupyter.widget-view+json": {
       "model_id": "f2eef4a3748849c59a1e18ac73266ccd",
       "version_major": 2,
       "version_minor": 0
      },
      "text/plain": [
       "VBox(children=(Output(), RadioButtons(options=(('hesitate', 0), ('reprimand', 1), ('youth', 2), ('glorify', 3)…"
      ]
     },
     "metadata": {},
     "output_type": "display_data"
    },
    {
     "data": {
      "application/vnd.jupyter.widget-view+json": {
       "model_id": "517014bf3ff94d8093aa874094477a60",
       "version_major": 2,
       "version_minor": 0
      },
      "text/plain": [
       "VBox(children=(Output(), RadioButtons(options=(('contamination', 0), ('counterbalance', 1), ('lengthen', 2), (…"
      ]
     },
     "metadata": {},
     "output_type": "display_data"
    },
    {
     "data": {
      "application/vnd.jupyter.widget-view+json": {
       "model_id": "18cf3f11c875496ca1b2ca6176d165f8",
       "version_major": 2,
       "version_minor": 0
      },
      "text/plain": [
       "VBox(children=(Output(), RadioButtons(options=(('chewing', 0), ('exclusive', 1), ('moth', 2), ('oppress', 3)),…"
      ]
     },
     "metadata": {},
     "output_type": "display_data"
    },
    {
     "data": {
      "application/vnd.jupyter.widget-view+json": {
       "model_id": "679e0dfe3dbc40dbad347b4a70765780",
       "version_major": 2,
       "version_minor": 0
      },
      "text/plain": [
       "VBox(children=(Output(), RadioButtons(options=(('perfume', 0), ('worsen', 1), ('beating', 2), ('skim', 3)), va…"
      ]
     },
     "metadata": {},
     "output_type": "display_data"
    },
    {
     "data": {
      "application/vnd.jupyter.widget-view+json": {
       "model_id": "901b9505f6284908bfa662691263565e",
       "version_major": 2,
       "version_minor": 0
      },
      "text/plain": [
       "VBox(children=(Output(), RadioButtons(options=(('ecstasy', 0), ('antithesis', 1), ('reward', 2), ('socialism',…"
      ]
     },
     "metadata": {},
     "output_type": "display_data"
    },
    {
     "data": {
      "application/vnd.jupyter.widget-view+json": {
       "model_id": "e96557b3ad7544c780250ed4d757e537",
       "version_major": 2,
       "version_minor": 0
      },
      "text/plain": [
       "VBox(children=(Output(), RadioButtons(options=(('supervise', 0), ('merchandise', 1), ('admission', 2), ('ambig…"
      ]
     },
     "metadata": {},
     "output_type": "display_data"
    },
    {
     "data": {
      "application/vnd.jupyter.widget-view+json": {
       "model_id": "a7059be21f324007aab96e2757cac271",
       "version_major": 2,
       "version_minor": 0
      },
      "text/plain": [
       "VBox(children=(Output(), RadioButtons(options=(('foot-and-mouth disease', 0), ('benign', 1), ('compose', 2), (…"
      ]
     },
     "metadata": {},
     "output_type": "display_data"
    },
    {
     "data": {
      "application/vnd.jupyter.widget-view+json": {
       "model_id": "45d9a1d2c4074794beb49eb33d65cfc4",
       "version_major": 2,
       "version_minor": 0
      },
      "text/plain": [
       "VBox(children=(Output(), RadioButtons(options=(('current affairs', 0), ('dictate', 1), ('criminal', 2), ('mani…"
      ]
     },
     "metadata": {},
     "output_type": "display_data"
    },
    {
     "data": {
      "application/vnd.jupyter.widget-view+json": {
       "model_id": "043fd6d47e15490a8325dba2efc14e1a",
       "version_major": 2,
       "version_minor": 0
      },
      "text/plain": [
       "VBox(children=(Output(), RadioButtons(options=(('abolition', 0), ('veil', 1), ('majestic', 2), ('easel', 3)), …"
      ]
     },
     "metadata": {},
     "output_type": "display_data"
    },
    {
     "data": {
      "application/vnd.jupyter.widget-view+json": {
       "model_id": "e1626155b6b94575817add861eb17564",
       "version_major": 2,
       "version_minor": 0
      },
      "text/plain": [
       "VBox(children=(Output(), RadioButtons(options=(('ratify', 0), ('escort', 1), ('glittering', 2), ('fascinate', …"
      ]
     },
     "metadata": {},
     "output_type": "display_data"
    },
    {
     "data": {
      "application/vnd.jupyter.widget-view+json": {
       "model_id": "6e5da4858c6a49aca23afbcbd3aadf62",
       "version_major": 2,
       "version_minor": 0
      },
      "text/plain": [
       "VBox(children=(Output(), RadioButtons(options=(('depot', 0), ('behind the times', 1), ('take it for granted', …"
      ]
     },
     "metadata": {},
     "output_type": "display_data"
    },
    {
     "data": {
      "application/vnd.jupyter.widget-view+json": {
       "model_id": "c3fadb1d3814481e8004dbbd1e41501c",
       "version_major": 2,
       "version_minor": 0
      },
      "text/plain": [
       "VBox(children=(Output(), RadioButtons(options=(('medium', 0), ('circadian rhythm', 1), ('gorgeous', 2), ('rega…"
      ]
     },
     "metadata": {},
     "output_type": "display_data"
    },
    {
     "data": {
      "application/vnd.jupyter.widget-view+json": {
       "model_id": "150f9f242f394243a71b2cdd856f4f2b",
       "version_major": 2,
       "version_minor": 0
      },
      "text/plain": [
       "VBox(children=(Output(), RadioButtons(options=(('intramuscular', 0), ('gigantic', 1), ('literacy', 2), ('influ…"
      ]
     },
     "metadata": {},
     "output_type": "display_data"
    },
    {
     "data": {
      "application/vnd.jupyter.widget-view+json": {
       "model_id": "068ea35e961e4569b1509158bc532764",
       "version_major": 2,
       "version_minor": 0
      },
      "text/plain": [
       "VBox(children=(Output(), RadioButtons(options=(('surge', 0), ('capital', 1), ('epoch', 2), ('locality', 3)), v…"
      ]
     },
     "metadata": {},
     "output_type": "display_data"
    },
    {
     "data": {
      "application/vnd.jupyter.widget-view+json": {
       "model_id": "fbb205d77d5741c4a1af4900bbf9bd07",
       "version_major": 2,
       "version_minor": 0
      },
      "text/plain": [
       "VBox(children=(Output(), RadioButtons(options=(('dazzling', 0), ('pictorial', 1), ('foremost', 2), ('laborious…"
      ]
     },
     "metadata": {},
     "output_type": "display_data"
    },
    {
     "data": {
      "application/vnd.jupyter.widget-view+json": {
       "model_id": "ede5ce85744b422ea7edbb89d1ba0c6b",
       "version_major": 2,
       "version_minor": 0
      },
      "text/plain": [
       "VBox(children=(Output(), RadioButtons(options=(('erode', 0), ('vagrant', 1), ('contemporary', 2), ('accustom',…"
      ]
     },
     "metadata": {},
     "output_type": "display_data"
    },
    {
     "data": {
      "application/vnd.jupyter.widget-view+json": {
       "model_id": "8b20965706184c5b98badfe1a8515256",
       "version_major": 2,
       "version_minor": 0
      },
      "text/plain": [
       "VBox(children=(Output(), RadioButtons(options=(('quarantine', 0), ('malevolent', 1), ('optical', 2), ('reward'…"
      ]
     },
     "metadata": {},
     "output_type": "display_data"
    },
    {
     "data": {
      "application/vnd.jupyter.widget-view+json": {
       "model_id": "aedf5adddb3f4ac3974eae6f54a9d486",
       "version_major": 2,
       "version_minor": 0
      },
      "text/plain": [
       "VBox(children=(Output(), RadioButtons(options=(('virus', 0), ('proclaim', 1), ('propel', 2), ('fascinating', 3…"
      ]
     },
     "metadata": {},
     "output_type": "display_data"
    },
    {
     "data": {
      "application/vnd.jupyter.widget-view+json": {
       "model_id": "3e53dd6e71e24e16ad1c86d1fbcbc45f",
       "version_major": 2,
       "version_minor": 0
      },
      "text/plain": [
       "VBox(children=(Output(), RadioButtons(options=(('fable', 0), ('turmoil', 1), ('deadly', 2), ('evacuate', 3)), …"
      ]
     },
     "metadata": {},
     "output_type": "display_data"
    },
    {
     "data": {
      "application/vnd.jupyter.widget-view+json": {
       "model_id": "2ec2249185534869a6a94e761e823232",
       "version_major": 2,
       "version_minor": 0
      },
      "text/plain": [
       "VBox(children=(Output(), RadioButtons(options=(('petition', 0), ('misdemeanor', 1), ('transplant', 2), ('gloss…"
      ]
     },
     "metadata": {},
     "output_type": "display_data"
    },
    {
     "data": {
      "application/vnd.jupyter.widget-view+json": {
       "model_id": "cc7f31dbd2fe42edaee02aa06d624975",
       "version_major": 2,
       "version_minor": 0
      },
      "text/plain": [
       "VBox(children=(Output(), RadioButtons(options=(('esteem', 0), ('overcome', 1), ('unrest', 2), ('vulnerable', 3…"
      ]
     },
     "metadata": {},
     "output_type": "display_data"
    },
    {
     "data": {
      "application/vnd.jupyter.widget-view+json": {
       "model_id": "57c4ff56f75e4fab9ba2639ad157f2d4",
       "version_major": 2,
       "version_minor": 0
      },
      "text/plain": [
       "VBox(children=(Output(), RadioButtons(options=(('circumscribe', 0), ('auditory', 1), ('suspend', 2), ('obese',…"
      ]
     },
     "metadata": {},
     "output_type": "display_data"
    },
    {
     "data": {
      "application/vnd.jupyter.widget-view+json": {
       "model_id": "5b10dbce08ac42a6b3e1ee037ba9a8d5",
       "version_major": 2,
       "version_minor": 0
      },
      "text/plain": [
       "VBox(children=(Output(), RadioButtons(options=(('donwstream', 0), ('strenuous', 1), ('outdo', 2), ('anthem', 3…"
      ]
     },
     "metadata": {},
     "output_type": "display_data"
    },
    {
     "data": {
      "application/vnd.jupyter.widget-view+json": {
       "model_id": "a8dfb9d7958641fab4b8425324a579a6",
       "version_major": 2,
       "version_minor": 0
      },
      "text/plain": [
       "VBox(children=(Output(), RadioButtons(options=(('drown', 0), ('hearten', 1), ('locality', 2), ('antique', 3)),…"
      ]
     },
     "metadata": {},
     "output_type": "display_data"
    },
    {
     "data": {
      "application/vnd.jupyter.widget-view+json": {
       "model_id": "a95fa3cec09746099a7c5cca2f8966d9",
       "version_major": 2,
       "version_minor": 0
      },
      "text/plain": [
       "VBox(children=(Output(), RadioButtons(options=(('descend', 0), ('evacuate', 1), ('transatlantic', 2), ('medioc…"
      ]
     },
     "metadata": {},
     "output_type": "display_data"
    },
    {
     "data": {
      "application/vnd.jupyter.widget-view+json": {
       "model_id": "13cd938af68541f4bf1a916a191a71fb",
       "version_major": 2,
       "version_minor": 0
      },
      "text/plain": [
       "VBox(children=(Output(), RadioButtons(options=(('surveillance', 0), ('embargo', 1), ('blosoom', 2), ('blur', 3…"
      ]
     },
     "metadata": {},
     "output_type": "display_data"
    },
    {
     "data": {
      "application/vnd.jupyter.widget-view+json": {
       "model_id": "a05c2944b2664ad0a9cc1a6a86ac9f18",
       "version_major": 2,
       "version_minor": 0
      },
      "text/plain": [
       "VBox(children=(Output(), RadioButtons(options=(('locomotion', 0), ('immobile', 1), ('death toll', 2), ('acclai…"
      ]
     },
     "metadata": {},
     "output_type": "display_data"
    },
    {
     "data": {
      "application/vnd.jupyter.widget-view+json": {
       "model_id": "5fc635a0299246a287be37b5ba80dd42",
       "version_major": 2,
       "version_minor": 0
      },
      "text/plain": [
       "VBox(children=(Output(), RadioButtons(options=(('medieval', 0), ('proliferate', 1), ('phase', 2), ('extraordin…"
      ]
     },
     "metadata": {},
     "output_type": "display_data"
    },
    {
     "data": {
      "application/vnd.jupyter.widget-view+json": {
       "model_id": "b36c50ab1abf45069a5c7a740d6ef9ca",
       "version_major": 2,
       "version_minor": 0
      },
      "text/plain": [
       "VBox(children=(Output(), RadioButtons(options=(('furnish', 0), ('skim', 1), ('circulatory system', 2), ('aerod…"
      ]
     },
     "metadata": {},
     "output_type": "display_data"
    },
    {
     "data": {
      "application/vnd.jupyter.widget-view+json": {
       "model_id": "f3a746da7a554ee6ad7825071e1a5884",
       "version_major": 2,
       "version_minor": 0
      },
      "text/plain": [
       "VBox(children=(Output(), RadioButtons(options=(('beforehand', 0), ('dormant', 1), ('compulsory', 2), ('transac…"
      ]
     },
     "metadata": {},
     "output_type": "display_data"
    },
    {
     "data": {
      "application/vnd.jupyter.widget-view+json": {
       "model_id": "08a74771cc834a5492b6b928dea4c693",
       "version_major": 2,
       "version_minor": 0
      },
      "text/plain": [
       "VBox(children=(Output(), RadioButtons(options=(('evacuate', 0), ('evergreen', 1), ('foremost', 2), ('derivativ…"
      ]
     },
     "metadata": {},
     "output_type": "display_data"
    },
    {
     "data": {
      "application/vnd.jupyter.widget-view+json": {
       "model_id": "df6ccb9ee93f41289ae27dc45116c857",
       "version_major": 2,
       "version_minor": 0
      },
      "text/plain": [
       "VBox(children=(Output(), RadioButtons(options=(('optical', 0), ('keep track of', 1), ('symbolise', 2), ('capit…"
      ]
     },
     "metadata": {},
     "output_type": "display_data"
    },
    {
     "data": {
      "application/vnd.jupyter.widget-view+json": {
       "model_id": "b9545bf4fa034642893cba40afa33b3a",
       "version_major": 2,
       "version_minor": 0
      },
      "text/plain": [
       "VBox(children=(Output(), RadioButtons(options=(('multicellular', 0), ('decaying', 1), ('enthusiastically', 2),…"
      ]
     },
     "metadata": {},
     "output_type": "display_data"
    },
    {
     "data": {
      "application/vnd.jupyter.widget-view+json": {
       "model_id": "c637c28d24b8450e95c9ba6f032802ed",
       "version_major": 2,
       "version_minor": 0
      },
      "text/plain": [
       "VBox(children=(Output(), RadioButtons(options=(('extensively', 0), ('nest', 1), ('epoch', 2), ('offspring', 3)…"
      ]
     },
     "metadata": {},
     "output_type": "display_data"
    },
    {
     "data": {
      "application/vnd.jupyter.widget-view+json": {
       "model_id": "2f46ee492dad4050bf1b1c6ef6681639",
       "version_major": 2,
       "version_minor": 0
      },
      "text/plain": [
       "VBox(children=(Output(), RadioButtons(options=(('reign', 0), ('literacy', 1), ('esteem', 2), ('outlaw', 3)), v…"
      ]
     },
     "metadata": {},
     "output_type": "display_data"
    },
    {
     "data": {
      "application/vnd.jupyter.widget-view+json": {
       "model_id": "3a62cf7f7b7045deba2dd3a4c2b7f914",
       "version_major": 2,
       "version_minor": 0
      },
      "text/plain": [
       "VBox(children=(Output(), RadioButtons(options=(('metabolism', 0), ('latent', 1), ('dialect', 2), ('ancestor', …"
      ]
     },
     "metadata": {},
     "output_type": "display_data"
    },
    {
     "data": {
      "application/vnd.jupyter.widget-view+json": {
       "model_id": "321af4db637a468c82cf6de76ebf3d43",
       "version_major": 2,
       "version_minor": 0
      },
      "text/plain": [
       "VBox(children=(Output(), RadioButtons(options=(('alternate', 0), ('emphatic', 1), ('imminent', 2), ('wither', …"
      ]
     },
     "metadata": {},
     "output_type": "display_data"
    },
    {
     "data": {
      "application/vnd.jupyter.widget-view+json": {
       "model_id": "0b63ca6531fc40c58b9802745edcb77a",
       "version_major": 2,
       "version_minor": 0
      },
      "text/plain": [
       "VBox(children=(Output(), RadioButtons(options=(('underlying', 0), ('current affairs', 1), ('manipulate', 2), (…"
      ]
     },
     "metadata": {},
     "output_type": "display_data"
    },
    {
     "data": {
      "application/vnd.jupyter.widget-view+json": {
       "model_id": "f8dffc60b76348e49cfff772be2e7c18",
       "version_major": 2,
       "version_minor": 0
      },
      "text/plain": [
       "VBox(children=(Output(), RadioButtons(options=(('veil', 0), ('turn into', 1), ('hoist', 2), ('advance', 3)), v…"
      ]
     },
     "metadata": {},
     "output_type": "display_data"
    },
    {
     "data": {
      "application/vnd.jupyter.widget-view+json": {
       "model_id": "f75980f4276c4dad9bda8cb896e31254",
       "version_major": 2,
       "version_minor": 0
      },
      "text/plain": [
       "VBox(children=(Output(), RadioButtons(options=(('medium', 0), ('multicellular', 1), ('wholly', 2), ('upstream'…"
      ]
     },
     "metadata": {},
     "output_type": "display_data"
    },
    {
     "data": {
      "application/vnd.jupyter.widget-view+json": {
       "model_id": "711c96a1b62d4b06bed367ed40210695",
       "version_major": 2,
       "version_minor": 0
      },
      "text/plain": [
       "VBox(children=(Output(), RadioButtons(options=(('prefix', 0), ('induce', 1), ('prescription', 2), ('fauna and …"
      ]
     },
     "metadata": {},
     "output_type": "display_data"
    },
    {
     "data": {
      "application/vnd.jupyter.widget-view+json": {
       "model_id": "c473265efe1c4bab8b16f49730c9d195",
       "version_major": 2,
       "version_minor": 0
      },
      "text/plain": [
       "VBox(children=(Output(), RadioButtons(options=(('abstain', 0), ('vanity', 1), ('vagrant', 2), ('profound', 3))…"
      ]
     },
     "metadata": {},
     "output_type": "display_data"
    },
    {
     "data": {
      "application/vnd.jupyter.widget-view+json": {
       "model_id": "52df1f1c743a4d2db4cbec2f5037e1d1",
       "version_major": 2,
       "version_minor": 0
      },
      "text/plain": [
       "VBox(children=(Output(), RadioButtons(options=(('subsidise', 0), ('ferocious', 1), ('eject', 2), ('circadian r…"
      ]
     },
     "metadata": {},
     "output_type": "display_data"
    },
    {
     "data": {
      "application/vnd.jupyter.widget-view+json": {
       "model_id": "4b47f41a555e46d59940026d66c496bf",
       "version_major": 2,
       "version_minor": 0
      },
      "text/plain": [
       "VBox(children=(Output(), RadioButtons(options=(('flourish', 0), ('eternal', 1), ('steep', 2), ('easel', 3)), v…"
      ]
     },
     "metadata": {},
     "output_type": "display_data"
    },
    {
     "data": {
      "application/vnd.jupyter.widget-view+json": {
       "model_id": "90c049062eac4f85a9b3ac5e8f704828",
       "version_major": 2,
       "version_minor": 0
      },
      "text/plain": [
       "VBox(children=(Output(), RadioButtons(options=(('catabolism', 0), ('marriage', 1), ('slaughter', 2), ('underly…"
      ]
     },
     "metadata": {},
     "output_type": "display_data"
    },
    {
     "data": {
      "application/vnd.jupyter.widget-view+json": {
       "model_id": "f3d857d8d0224bfe804f1f8e1ac8b90d",
       "version_major": 2,
       "version_minor": 0
      },
      "text/plain": [
       "VBox(children=(Output(), RadioButtons(options=(('multipurpose', 0), ('examination', 1), ('undergraduate', 2), …"
      ]
     },
     "metadata": {},
     "output_type": "display_data"
    },
    {
     "data": {
      "application/vnd.jupyter.widget-view+json": {
       "model_id": "47e342c44c0a4eae8e5f4473fd53f128",
       "version_major": 2,
       "version_minor": 0
      },
      "text/plain": [
       "VBox(children=(Output(), RadioButtons(options=(('eclipse', 0), ('vernacular', 1), ('hesitate', 2), ('ratify', …"
      ]
     },
     "metadata": {},
     "output_type": "display_data"
    },
    {
     "data": {
      "application/vnd.jupyter.widget-view+json": {
       "model_id": "64096193fa7a4008bdc76fcb5e942e4a",
       "version_major": 2,
       "version_minor": 0
      },
      "text/plain": [
       "VBox(children=(Output(), RadioButtons(options=(('sympathise', 0), ('amorphous', 1), ('dictate', 2), ('secretio…"
      ]
     },
     "metadata": {},
     "output_type": "display_data"
    },
    {
     "data": {
      "application/vnd.jupyter.widget-view+json": {
       "model_id": "d9b67d81dc124a4baf9b073010db887c",
       "version_major": 2,
       "version_minor": 0
      },
      "text/plain": [
       "VBox(children=(Output(), RadioButtons(options=(('allegiance', 0), ('submerged', 1), ('sustain', 2), ('maritime…"
      ]
     },
     "metadata": {},
     "output_type": "display_data"
    },
    {
     "data": {
      "application/vnd.jupyter.widget-view+json": {
       "model_id": "6d5ae54c48234b6cb8666ba240f3ee2e",
       "version_major": 2,
       "version_minor": 0
      },
      "text/plain": [
       "VBox(children=(Output(), RadioButtons(options=(('repellent', 0), ('transcript', 1), ('frustrate', 2), ('mutton…"
      ]
     },
     "metadata": {},
     "output_type": "display_data"
    },
    {
     "data": {
      "application/vnd.jupyter.widget-view+json": {
       "model_id": "18ba344b5c9548f7976b29cf9c181946",
       "version_major": 2,
       "version_minor": 0
      },
      "text/plain": [
       "VBox(children=(Output(), RadioButtons(options=(('exclaim', 0), ('humanism', 1), ('adhere', 2), ('renaissance',…"
      ]
     },
     "metadata": {},
     "output_type": "display_data"
    },
    {
     "data": {
      "application/vnd.jupyter.widget-view+json": {
       "model_id": "d818199b37c34920a21bfd3e05d55076",
       "version_major": 2,
       "version_minor": 0
      },
      "text/plain": [
       "VBox(children=(Output(), RadioButtons(options=(('furnish', 0), ('paralysis', 1), ('contraceptive', 2), ('tacti…"
      ]
     },
     "metadata": {},
     "output_type": "display_data"
    },
    {
     "data": {
      "application/vnd.jupyter.widget-view+json": {
       "model_id": "f570516cff8941f9a4b72769fe6a6caf",
       "version_major": 2,
       "version_minor": 0
      },
      "text/plain": [
       "VBox(children=(Output(), RadioButtons(options=(('surpass', 0), ('prospect', 1), ('grave', 2), ('superior', 3))…"
      ]
     },
     "metadata": {},
     "output_type": "display_data"
    },
    {
     "data": {
      "application/vnd.jupyter.widget-view+json": {
       "model_id": "d1fe9e6b21984b4e80dd4e9790aedcc5",
       "version_major": 2,
       "version_minor": 0
      },
      "text/plain": [
       "VBox(children=(Output(), RadioButtons(options=(('diagnosis', 0), ('newly', 1), ('soak', 2), ('unusual', 3)), v…"
      ]
     },
     "metadata": {},
     "output_type": "display_data"
    },
    {
     "data": {
      "application/vnd.jupyter.widget-view+json": {
       "model_id": "ba7b8c77c9614e33862838ff6525853f",
       "version_major": 2,
       "version_minor": 0
      },
      "text/plain": [
       "VBox(children=(Output(), RadioButtons(options=(('terrain', 0), ('deal', 1), ('antonym', 2), ('ambassador', 3))…"
      ]
     },
     "metadata": {},
     "output_type": "display_data"
    },
    {
     "data": {
      "application/vnd.jupyter.widget-view+json": {
       "model_id": "526e91607b9142219c3852fe51ed0710",
       "version_major": 2,
       "version_minor": 0
      },
      "text/plain": [
       "VBox(children=(Output(), RadioButtons(options=(('arc', 0), ('octopus', 1), ('exalt', 2), ('unsaturated', 3)), …"
      ]
     },
     "metadata": {},
     "output_type": "display_data"
    },
    {
     "data": {
      "application/vnd.jupyter.widget-view+json": {
       "model_id": "6c7aeba63364421ea57d67c3743027d1",
       "version_major": 2,
       "version_minor": 0
      },
      "text/plain": [
       "VBox(children=(Output(), RadioButtons(options=(('surrender', 0), ('acting', 1), ('mediocre', 2), ('locomotion'…"
      ]
     },
     "metadata": {},
     "output_type": "display_data"
    },
    {
     "data": {
      "application/vnd.jupyter.widget-view+json": {
       "model_id": "09cd82986c3d43888a8a7ad79f18e3d2",
       "version_major": 2,
       "version_minor": 0
      },
      "text/plain": [
       "VBox(children=(Output(), RadioButtons(options=(('meditation', 0), ('smuggle', 1), ('undergraduate', 2), ('tari…"
      ]
     },
     "metadata": {},
     "output_type": "display_data"
    },
    {
     "data": {
      "application/vnd.jupyter.widget-view+json": {
       "model_id": "251d8ce1d0494977a9a1ac66bc55a500",
       "version_major": 2,
       "version_minor": 0
      },
      "text/plain": [
       "VBox(children=(Output(), RadioButtons(options=(('foresee', 0), ('affirm', 1), ('uncompromising', 2), ('express…"
      ]
     },
     "metadata": {},
     "output_type": "display_data"
    }
   ],
   "source": [
    "get_questions_synonyms(100)"
   ]
  },
  {
   "cell_type": "code",
   "execution_count": 13,
   "metadata": {
    "scrolled": true
   },
   "outputs": [
    {
     "data": {
      "application/vnd.jupyter.widget-view+json": {
       "model_id": "9450e0a7d4c5486982e8bda97d5adf29",
       "version_major": 2,
       "version_minor": 0
      },
      "text/plain": [
       "VBox(children=(Output(), Text(value='', placeholder='OvOOoOOOO'), Button(description='Check', style=ButtonStyl…"
      ]
     },
     "metadata": {},
     "output_type": "display_data"
    },
    {
     "data": {
      "application/vnd.jupyter.widget-view+json": {
       "model_id": "43d2be0892f94e25adcf712d07d9607d",
       "version_major": 2,
       "version_minor": 0
      },
      "text/plain": [
       "VBox(children=(Output(), Text(value='', placeholder='OOOdOtOO'), Button(description='Check', style=ButtonStyle…"
      ]
     },
     "metadata": {},
     "output_type": "display_data"
    },
    {
     "data": {
      "application/vnd.jupyter.widget-view+json": {
       "model_id": "c075c38d0a134473bfb6cbbc11f93ebb",
       "version_major": 2,
       "version_minor": 0
      },
      "text/plain": [
       "VBox(children=(Output(), Text(value='', placeholder='OhOOOOOOOiOOOOOOO'), Button(description='Check', style=Bu…"
      ]
     },
     "metadata": {},
     "output_type": "display_data"
    },
    {
     "data": {
      "application/vnd.jupyter.widget-view+json": {
       "model_id": "080eb6bfb73a4b24a15effe26f4b6524",
       "version_major": 2,
       "version_minor": 0
      },
      "text/plain": [
       "VBox(children=(Output(), Text(value='', placeholder='OwOn'), Button(description='Check', style=ButtonStyle()),…"
      ]
     },
     "metadata": {},
     "output_type": "display_data"
    },
    {
     "data": {
      "application/vnd.jupyter.widget-view+json": {
       "model_id": "93288f56dc39485fbd98f608e4c6b27c",
       "version_major": 2,
       "version_minor": 0
      },
      "text/plain": [
       "VBox(children=(Output(), Text(value='', placeholder='OOmOOeOOOOOOO'), Button(description='Check', style=Button…"
      ]
     },
     "metadata": {},
     "output_type": "display_data"
    },
    {
     "data": {
      "application/vnd.jupyter.widget-view+json": {
       "model_id": "0bd9a57df3fb4adab35846c7a748b9ca",
       "version_major": 2,
       "version_minor": 0
      },
      "text/plain": [
       "VBox(children=(Output(), Text(value='', placeholder='OOvoOO'), Button(description='Check', style=ButtonStyle()…"
      ]
     },
     "metadata": {},
     "output_type": "display_data"
    },
    {
     "data": {
      "application/vnd.jupyter.widget-view+json": {
       "model_id": "4864d6c3d6ca40189ad834d97f413ac7",
       "version_major": 2,
       "version_minor": 0
      },
      "text/plain": [
       "VBox(children=(Output(), Text(value='', placeholder='OOOOrOpOOOOO'), Button(description='Check', style=ButtonS…"
      ]
     },
     "metadata": {},
     "output_type": "display_data"
    },
    {
     "data": {
      "application/vnd.jupyter.widget-view+json": {
       "model_id": "f53e841283e54a2b8f42d1ddac5ee97d",
       "version_major": 2,
       "version_minor": 0
      },
      "text/plain": [
       "VBox(children=(Output(), Text(value='', placeholder='aOOOOOOOOOl'), Button(description='Check', style=ButtonSt…"
      ]
     },
     "metadata": {},
     "output_type": "display_data"
    },
    {
     "data": {
      "application/vnd.jupyter.widget-view+json": {
       "model_id": "d4865e4d7a1747fa9aa176c3a9aae474",
       "version_major": 2,
       "version_minor": 0
      },
      "text/plain": [
       "VBox(children=(Output(), Text(value='', placeholder='OvOOoOOOO'), Button(description='Check', style=ButtonStyl…"
      ]
     },
     "metadata": {},
     "output_type": "display_data"
    },
    {
     "data": {
      "application/vnd.jupyter.widget-view+json": {
       "model_id": "d46e53f4c2f54c8491772977b6a6144c",
       "version_major": 2,
       "version_minor": 0
      },
      "text/plain": [
       "VBox(children=(Output(), Text(value='', placeholder='eOOOOOeOOOOOOOO'), Button(description='Check', style=Butt…"
      ]
     },
     "metadata": {},
     "output_type": "display_data"
    },
    {
     "data": {
      "application/vnd.jupyter.widget-view+json": {
       "model_id": "4467eb46e3344e2ea86bff5c71e28ccb",
       "version_major": 2,
       "version_minor": 0
      },
      "text/plain": [
       "VBox(children=(Output(), Text(value='', placeholder='OOOlaOOO'), Button(description='Check', style=ButtonStyle…"
      ]
     },
     "metadata": {},
     "output_type": "display_data"
    },
    {
     "data": {
      "application/vnd.jupyter.widget-view+json": {
       "model_id": "13dfb97117fe4766bcfa00878c366002",
       "version_major": 2,
       "version_minor": 0
      },
      "text/plain": [
       "VBox(children=(Output(), Text(value='', placeholder='OeOOOOe'), Button(description='Check', style=ButtonStyle(…"
      ]
     },
     "metadata": {},
     "output_type": "display_data"
    },
    {
     "data": {
      "application/vnd.jupyter.widget-view+json": {
       "model_id": "f6ad0c311a23452496233bb486949f37",
       "version_major": 2,
       "version_minor": 0
      },
      "text/plain": [
       "VBox(children=(Output(), Text(value='', placeholder='OOOOOtOoO'), Button(description='Check', style=ButtonStyl…"
      ]
     },
     "metadata": {},
     "output_type": "display_data"
    },
    {
     "data": {
      "application/vnd.jupyter.widget-view+json": {
       "model_id": "ae1491f287504f288bcd0259988e6627",
       "version_major": 2,
       "version_minor": 0
      },
      "text/plain": [
       "VBox(children=(Output(), Text(value='', placeholder='OlOhOOO'), Button(description='Check', style=ButtonStyle(…"
      ]
     },
     "metadata": {},
     "output_type": "display_data"
    },
    {
     "data": {
      "application/vnd.jupyter.widget-view+json": {
       "model_id": "6a2b85259f864dbf94b4451caac52df3",
       "version_major": 2,
       "version_minor": 0
      },
      "text/plain": [
       "VBox(children=(Output(), Text(value='', placeholder='OwOn'), Button(description='Check', style=ButtonStyle()),…"
      ]
     },
     "metadata": {},
     "output_type": "display_data"
    },
    {
     "data": {
      "application/vnd.jupyter.widget-view+json": {
       "model_id": "b1c1c983c91d48aca174d80724bdaa15",
       "version_major": 2,
       "version_minor": 0
      },
      "text/plain": [
       "VBox(children=(Output(), Text(value='', placeholder='stOOO'), Button(description='Check', style=ButtonStyle())…"
      ]
     },
     "metadata": {},
     "output_type": "display_data"
    },
    {
     "data": {
      "application/vnd.jupyter.widget-view+json": {
       "model_id": "734be4b15d384f68ba1b77562327ae06",
       "version_major": 2,
       "version_minor": 0
      },
      "text/plain": [
       "VBox(children=(Output(), Text(value='', placeholder='OOOnOOe'), Button(description='Check', style=ButtonStyle(…"
      ]
     },
     "metadata": {},
     "output_type": "display_data"
    },
    {
     "data": {
      "application/vnd.jupyter.widget-view+json": {
       "model_id": "6a218e4fd7a24da48419e4d5a3ec54c4",
       "version_major": 2,
       "version_minor": 0
      },
      "text/plain": [
       "VBox(children=(Output(), Text(value='', placeholder='OoiOOOO'), Button(description='Check', style=ButtonStyle(…"
      ]
     },
     "metadata": {},
     "output_type": "display_data"
    },
    {
     "data": {
      "application/vnd.jupyter.widget-view+json": {
       "model_id": "d9000a2968464028befe85f52b409b26",
       "version_major": 2,
       "version_minor": 0
      },
      "text/plain": [
       "VBox(children=(Output(), Text(value='', placeholder='OwiO'), Button(description='Check', style=ButtonStyle()),…"
      ]
     },
     "metadata": {},
     "output_type": "display_data"
    },
    {
     "data": {
      "application/vnd.jupyter.widget-view+json": {
       "model_id": "6105fdbd0a694c4b96978d31182c0497",
       "version_major": 2,
       "version_minor": 0
      },
      "text/plain": [
       "VBox(children=(Output(), Text(value='', placeholder='OnOOOOOoOOOO'), Button(description='Check', style=ButtonS…"
      ]
     },
     "metadata": {},
     "output_type": "display_data"
    },
    {
     "data": {
      "application/vnd.jupyter.widget-view+json": {
       "model_id": "a2660ab44b8147ccae64e5378fd9d410",
       "version_major": 2,
       "version_minor": 0
      },
      "text/plain": [
       "VBox(children=(Output(), Text(value='', placeholder='OOOOcOOOOOtOO'), Button(description='Check', style=Button…"
      ]
     },
     "metadata": {},
     "output_type": "display_data"
    },
    {
     "data": {
      "application/vnd.jupyter.widget-view+json": {
       "model_id": "d05b7c7ac997490885669178d7e57df3",
       "version_major": 2,
       "version_minor": 0
      },
      "text/plain": [
       "VBox(children=(Output(), Text(value='', placeholder='OoOOOOOeOOOOO'), Button(description='Check', style=Button…"
      ]
     },
     "metadata": {},
     "output_type": "display_data"
    },
    {
     "data": {
      "application/vnd.jupyter.widget-view+json": {
       "model_id": "a2d5832fc7d54019af1402dff1b58920",
       "version_major": 2,
       "version_minor": 0
      },
      "text/plain": [
       "VBox(children=(Output(), Text(value='', placeholder='OoiOOOO'), Button(description='Check', style=ButtonStyle(…"
      ]
     },
     "metadata": {},
     "output_type": "display_data"
    },
    {
     "data": {
      "application/vnd.jupyter.widget-view+json": {
       "model_id": "2f4b925198be4a02848d85cbdf96cc34",
       "version_major": 2,
       "version_minor": 0
      },
      "text/plain": [
       "VBox(children=(Output(), Text(value='', placeholder='OOpOoOOO'), Button(description='Check', style=ButtonStyle…"
      ]
     },
     "metadata": {},
     "output_type": "display_data"
    },
    {
     "data": {
      "application/vnd.jupyter.widget-view+json": {
       "model_id": "487fbbd7bdf147c1919548ecd631c371",
       "version_major": 2,
       "version_minor": 0
      },
      "text/plain": [
       "VBox(children=(Output(), Text(value='', placeholder='OOOOOgOOOs'), Button(description='Check', style=ButtonSty…"
      ]
     },
     "metadata": {},
     "output_type": "display_data"
    },
    {
     "data": {
      "application/vnd.jupyter.widget-view+json": {
       "model_id": "942a8c48083c4809aed751e89f8a68fb",
       "version_major": 2,
       "version_minor": 0
      },
      "text/plain": [
       "VBox(children=(Output(), Text(value='', placeholder='pOOOOOOoOO'), Button(description='Check', style=ButtonSty…"
      ]
     },
     "metadata": {},
     "output_type": "display_data"
    },
    {
     "data": {
      "application/vnd.jupyter.widget-view+json": {
       "model_id": "dd52b412d7af4eff9cd7a12bac665b5c",
       "version_major": 2,
       "version_minor": 0
      },
      "text/plain": [
       "VBox(children=(Output(), Text(value='', placeholder='OOlOOOOlOOOOO'), Button(description='Check', style=Button…"
      ]
     },
     "metadata": {},
     "output_type": "display_data"
    },
    {
     "data": {
      "application/vnd.jupyter.widget-view+json": {
       "model_id": "d4111ad60e164c61857f58891a91027b",
       "version_major": 2,
       "version_minor": 0
      },
      "text/plain": [
       "VBox(children=(Output(), Text(value='', placeholder='OOOOoOOOOaO'), Button(description='Check', style=ButtonSt…"
      ]
     },
     "metadata": {},
     "output_type": "display_data"
    },
    {
     "data": {
      "application/vnd.jupyter.widget-view+json": {
       "model_id": "47358384818148cc8f4505ab083a3814",
       "version_major": 2,
       "version_minor": 0
      },
      "text/plain": [
       "VBox(children=(Output(), Text(value='', placeholder='OOOOOOOOOOnOOOOeOO'), Button(description='Check', style=B…"
      ]
     },
     "metadata": {},
     "output_type": "display_data"
    },
    {
     "data": {
      "application/vnd.jupyter.widget-view+json": {
       "model_id": "49c4b71b9c194610a743d9d3eb6efc03",
       "version_major": 2,
       "version_minor": 0
      },
      "text/plain": [
       "VBox(children=(Output(), Text(value='', placeholder='OulOOOO'), Button(description='Check', style=ButtonStyle(…"
      ]
     },
     "metadata": {},
     "output_type": "display_data"
    },
    {
     "data": {
      "application/vnd.jupyter.widget-view+json": {
       "model_id": "7923abd353c14e37818efb7d1ba33fc4",
       "version_major": 2,
       "version_minor": 0
      },
      "text/plain": [
       "VBox(children=(Output(), Text(value='', placeholder='OOOOOOOOOOOOOOsOOm'), Button(description='Check', style=B…"
      ]
     },
     "metadata": {},
     "output_type": "display_data"
    },
    {
     "data": {
      "application/vnd.jupyter.widget-view+json": {
       "model_id": "8802a00e86c941cfbef5d6c67fa1803e",
       "version_major": 2,
       "version_minor": 0
      },
      "text/plain": [
       "VBox(children=(Output(), Text(value='', placeholder='oOOOOOs'), Button(description='Check', style=ButtonStyle(…"
      ]
     },
     "metadata": {},
     "output_type": "display_data"
    },
    {
     "data": {
      "application/vnd.jupyter.widget-view+json": {
       "model_id": "94078c50cf1b4991aaaf26fad99ee2cb",
       "version_major": 2,
       "version_minor": 0
      },
      "text/plain": [
       "VBox(children=(Output(), Text(value='', placeholder='OOOOOOxiO'), Button(description='Check', style=ButtonStyl…"
      ]
     },
     "metadata": {},
     "output_type": "display_data"
    },
    {
     "data": {
      "application/vnd.jupyter.widget-view+json": {
       "model_id": "2edeffc0a8e849598bcc7c3868b61712",
       "version_major": 2,
       "version_minor": 0
      },
      "text/plain": [
       "VBox(children=(Output(), Text(value='', placeholder='OOOOetOOO'), Button(description='Check', style=ButtonStyl…"
      ]
     },
     "metadata": {},
     "output_type": "display_data"
    },
    {
     "data": {
      "application/vnd.jupyter.widget-view+json": {
       "model_id": "8a2eb87812b645f58b80937601955339",
       "version_major": 2,
       "version_minor": 0
      },
      "text/plain": [
       "VBox(children=(Output(), Text(value='', placeholder='OOOOal'), Button(description='Check', style=ButtonStyle()…"
      ]
     },
     "metadata": {},
     "output_type": "display_data"
    },
    {
     "data": {
      "application/vnd.jupyter.widget-view+json": {
       "model_id": "62531f5abea9461ab62dbcbf6d09fdd2",
       "version_major": 2,
       "version_minor": 0
      },
      "text/plain": [
       "VBox(children=(Output(), Text(value='', placeholder='eOOOOOaOO'), Button(description='Check', style=ButtonStyl…"
      ]
     },
     "metadata": {},
     "output_type": "display_data"
    },
    {
     "data": {
      "application/vnd.jupyter.widget-view+json": {
       "model_id": "d5036dd2992c48699cb99f54d28d895f",
       "version_major": 2,
       "version_minor": 0
      },
      "text/plain": [
       "VBox(children=(Output(), Text(value='', placeholder='OOrOOrO'), Button(description='Check', style=ButtonStyle(…"
      ]
     },
     "metadata": {},
     "output_type": "display_data"
    },
    {
     "data": {
      "application/vnd.jupyter.widget-view+json": {
       "model_id": "625a9bf6cbca403d9ceeda80fe5752f1",
       "version_major": 2,
       "version_minor": 0
      },
      "text/plain": [
       "VBox(children=(Output(), Text(value='', placeholder='OOeOaOOO'), Button(description='Check', style=ButtonStyle…"
      ]
     },
     "metadata": {},
     "output_type": "display_data"
    },
    {
     "data": {
      "application/vnd.jupyter.widget-view+json": {
       "model_id": "2f0dd5d8d0ed470eb493240f138815bb",
       "version_major": 2,
       "version_minor": 0
      },
      "text/plain": [
       "VBox(children=(Output(), Text(value='', placeholder='pOOOOOOeO'), Button(description='Check', style=ButtonStyl…"
      ]
     },
     "metadata": {},
     "output_type": "display_data"
    },
    {
     "data": {
      "application/vnd.jupyter.widget-view+json": {
       "model_id": "c0aaf4b461aa475fa6e83aacd49540c7",
       "version_major": 2,
       "version_minor": 0
      },
      "text/plain": [
       "VBox(children=(Output(), Text(value='', placeholder='OlOOeOO'), Button(description='Check', style=ButtonStyle(…"
      ]
     },
     "metadata": {},
     "output_type": "display_data"
    },
    {
     "data": {
      "application/vnd.jupyter.widget-view+json": {
       "model_id": "209f2002d09c48418e1379542e805e29",
       "version_major": 2,
       "version_minor": 0
      },
      "text/plain": [
       "VBox(children=(Output(), Text(value='', placeholder='OOOOOtOOOiOO'), Button(description='Check', style=ButtonS…"
      ]
     },
     "metadata": {},
     "output_type": "display_data"
    },
    {
     "data": {
      "application/vnd.jupyter.widget-view+json": {
       "model_id": "b23db1a5bae146d383ecd847f95dde76",
       "version_major": 2,
       "version_minor": 0
      },
      "text/plain": [
       "VBox(children=(Output(), Text(value='', placeholder='OnOiOOO'), Button(description='Check', style=ButtonStyle(…"
      ]
     },
     "metadata": {},
     "output_type": "display_data"
    },
    {
     "data": {
      "application/vnd.jupyter.widget-view+json": {
       "model_id": "63c6291d57504c27904664494750f899",
       "version_major": 2,
       "version_minor": 0
      },
      "text/plain": [
       "VBox(children=(Output(), Text(value='', placeholder='aeOOOOO'), Button(description='Check', style=ButtonStyle(…"
      ]
     },
     "metadata": {},
     "output_type": "display_data"
    },
    {
     "data": {
      "application/vnd.jupyter.widget-view+json": {
       "model_id": "a70f72efab634a44b1a9d17551749023",
       "version_major": 2,
       "version_minor": 0
      },
      "text/plain": [
       "VBox(children=(Output(), Text(value='', placeholder='OOOOOmiOO'), Button(description='Check', style=ButtonStyl…"
      ]
     },
     "metadata": {},
     "output_type": "display_data"
    },
    {
     "data": {
      "application/vnd.jupyter.widget-view+json": {
       "model_id": "ee85d1e5c1e548c598ea60390df2883d",
       "version_major": 2,
       "version_minor": 0
      },
      "text/plain": [
       "VBox(children=(Output(), Text(value='', placeholder='OOOopOO'), Button(description='Check', style=ButtonStyle(…"
      ]
     },
     "metadata": {},
     "output_type": "display_data"
    },
    {
     "data": {
      "application/vnd.jupyter.widget-view+json": {
       "model_id": "20294c9b521246bba4df9e98e54fce02",
       "version_major": 2,
       "version_minor": 0
      },
      "text/plain": [
       "VBox(children=(Output(), Text(value='', placeholder='eOOOOOOOOOOOOtOOOOO'), Button(description='Check', style=…"
      ]
     },
     "metadata": {},
     "output_type": "display_data"
    },
    {
     "data": {
      "application/vnd.jupyter.widget-view+json": {
       "model_id": "068329b7f5d04a43afc0484fc0e2f240",
       "version_major": 2,
       "version_minor": 0
      },
      "text/plain": [
       "VBox(children=(Output(), Text(value='', placeholder='OOuOOOe'), Button(description='Check', style=ButtonStyle(…"
      ]
     },
     "metadata": {},
     "output_type": "display_data"
    },
    {
     "data": {
      "application/vnd.jupyter.widget-view+json": {
       "model_id": "b60507f649ad4ed099a90f41b8498ec5",
       "version_major": 2,
       "version_minor": 0
      },
      "text/plain": [
       "VBox(children=(Output(), Text(value='', placeholder='OOOOOiOOs'), Button(description='Check', style=ButtonStyl…"
      ]
     },
     "metadata": {},
     "output_type": "display_data"
    },
    {
     "data": {
      "application/vnd.jupyter.widget-view+json": {
       "model_id": "e20cdeb17a4945b9838baa9014ea3dfd",
       "version_major": 2,
       "version_minor": 0
      },
      "text/plain": [
       "VBox(children=(Output(), Text(value='', placeholder='OmOOOOOe'), Button(description='Check', style=ButtonStyle…"
      ]
     },
     "metadata": {},
     "output_type": "display_data"
    },
    {
     "data": {
      "application/vnd.jupyter.widget-view+json": {
       "model_id": "305183f9a6e74cbd8f781f9cec63b0f0",
       "version_major": 2,
       "version_minor": 0
      },
      "text/plain": [
       "VBox(children=(Output(), Text(value='', placeholder='eOOOtOOOO'), Button(description='Check', style=ButtonStyl…"
      ]
     },
     "metadata": {},
     "output_type": "display_data"
    },
    {
     "data": {
      "application/vnd.jupyter.widget-view+json": {
       "model_id": "522a4fc350b545409487a7132f7d63ff",
       "version_major": 2,
       "version_minor": 0
      },
      "text/plain": [
       "VBox(children=(Output(), Text(value='', placeholder='OOOOOOOOssOOO'), Button(description='Check', style=Button…"
      ]
     },
     "metadata": {},
     "output_type": "display_data"
    },
    {
     "data": {
      "application/vnd.jupyter.widget-view+json": {
       "model_id": "95a2341931b14bf7b1bb9695a1dd8fa5",
       "version_major": 2,
       "version_minor": 0
      },
      "text/plain": [
       "VBox(children=(Output(), Text(value='', placeholder='OOOOeOOOm'), Button(description='Check', style=ButtonStyl…"
      ]
     },
     "metadata": {},
     "output_type": "display_data"
    },
    {
     "data": {
      "application/vnd.jupyter.widget-view+json": {
       "model_id": "44bd28daf283476fa1c44a323b41b4ff",
       "version_major": 2,
       "version_minor": 0
      },
      "text/plain": [
       "VBox(children=(Output(), Text(value='', placeholder='OOnOOOsOOOO'), Button(description='Check', style=ButtonSt…"
      ]
     },
     "metadata": {},
     "output_type": "display_data"
    },
    {
     "data": {
      "application/vnd.jupyter.widget-view+json": {
       "model_id": "dc5fe5489d5040de83cb790f45aacf8c",
       "version_major": 2,
       "version_minor": 0
      },
      "text/plain": [
       "VBox(children=(Output(), Text(value='', placeholder='OyOOOOOe'), Button(description='Check', style=ButtonStyle…"
      ]
     },
     "metadata": {},
     "output_type": "display_data"
    },
    {
     "data": {
      "application/vnd.jupyter.widget-view+json": {
       "model_id": "d6a35dc818224362a6942e1a39674da4",
       "version_major": 2,
       "version_minor": 0
      },
      "text/plain": [
       "VBox(children=(Output(), Text(value='', placeholder='OOOOiOoOOOO'), Button(description='Check', style=ButtonSt…"
      ]
     },
     "metadata": {},
     "output_type": "display_data"
    },
    {
     "data": {
      "application/vnd.jupyter.widget-view+json": {
       "model_id": "bc8939c72d1949e1bfa2008ae3ed4b1c",
       "version_major": 2,
       "version_minor": 0
      },
      "text/plain": [
       "VBox(children=(Output(), Text(value='', placeholder='miOOOOO'), Button(description='Check', style=ButtonStyle(…"
      ]
     },
     "metadata": {},
     "output_type": "display_data"
    },
    {
     "data": {
      "application/vnd.jupyter.widget-view+json": {
       "model_id": "37b4089ae6604eb3bf86491b3d260e45",
       "version_major": 2,
       "version_minor": 0
      },
      "text/plain": [
       "VBox(children=(Output(), Text(value='', placeholder='OaOOOm'), Button(description='Check', style=ButtonStyle()…"
      ]
     },
     "metadata": {},
     "output_type": "display_data"
    },
    {
     "data": {
      "application/vnd.jupyter.widget-view+json": {
       "model_id": "2b23b91ed822470c913d8d41a1cb8638",
       "version_major": 2,
       "version_minor": 0
      },
      "text/plain": [
       "VBox(children=(Output(), Text(value='', placeholder='OOceOO'), Button(description='Check', style=ButtonStyle()…"
      ]
     },
     "metadata": {},
     "output_type": "display_data"
    },
    {
     "data": {
      "application/vnd.jupyter.widget-view+json": {
       "model_id": "76c61bd5d64d4aa3aff2300f43c81b11",
       "version_major": 2,
       "version_minor": 0
      },
      "text/plain": [
       "VBox(children=(Output(), Text(value='', placeholder='OulOOOO'), Button(description='Check', style=ButtonStyle(…"
      ]
     },
     "metadata": {},
     "output_type": "display_data"
    },
    {
     "data": {
      "application/vnd.jupyter.widget-view+json": {
       "model_id": "d4dba204b43644e8b77270d2d41a6bbc",
       "version_major": 2,
       "version_minor": 0
      },
      "text/plain": [
       "VBox(children=(Output(), Text(value='', placeholder='OOOrOOOsO'), Button(description='Check', style=ButtonStyl…"
      ]
     },
     "metadata": {},
     "output_type": "display_data"
    },
    {
     "data": {
      "application/vnd.jupyter.widget-view+json": {
       "model_id": "69e29f214d66473b87ab2eb97a56298b",
       "version_major": 2,
       "version_minor": 0
      },
      "text/plain": [
       "VBox(children=(Output(), Text(value='', placeholder='OuOOOOOOOOOcOOOOO'), Button(description='Check', style=Bu…"
      ]
     },
     "metadata": {},
     "output_type": "display_data"
    },
    {
     "data": {
      "application/vnd.jupyter.widget-view+json": {
       "model_id": "27d74be9ab2c407cabc7b394927099ed",
       "version_major": 2,
       "version_minor": 0
      },
      "text/plain": [
       "VBox(children=(Output(), Text(value='', placeholder='OOOOOOOOloOO'), Button(description='Check', style=ButtonS…"
      ]
     },
     "metadata": {},
     "output_type": "display_data"
    },
    {
     "data": {
      "application/vnd.jupyter.widget-view+json": {
       "model_id": "08ef4476efcb493d91bde6c3c87348dc",
       "version_major": 2,
       "version_minor": 0
      },
      "text/plain": [
       "VBox(children=(Output(), Text(value='', placeholder='OeOOOrO'), Button(description='Check', style=ButtonStyle(…"
      ]
     },
     "metadata": {},
     "output_type": "display_data"
    },
    {
     "data": {
      "application/vnd.jupyter.widget-view+json": {
       "model_id": "ec1f936540f044529d7a32d05fb56444",
       "version_major": 2,
       "version_minor": 0
      },
      "text/plain": [
       "VBox(children=(Output(), Text(value='', placeholder='OOOOOOOOOOts'), Button(description='Check', style=ButtonS…"
      ]
     },
     "metadata": {},
     "output_type": "display_data"
    },
    {
     "data": {
      "application/vnd.jupyter.widget-view+json": {
       "model_id": "46638fc6483646198ba2e3578b086770",
       "version_major": 2,
       "version_minor": 0
      },
      "text/plain": [
       "VBox(children=(Output(), Text(value='', placeholder='OmiOOOOO'), Button(description='Check', style=ButtonStyle…"
      ]
     },
     "metadata": {},
     "output_type": "display_data"
    },
    {
     "data": {
      "application/vnd.jupyter.widget-view+json": {
       "model_id": "097f06c688c44366a4ea6ae6507cad00",
       "version_major": 2,
       "version_minor": 0
      },
      "text/plain": [
       "VBox(children=(Output(), Text(value='', placeholder='OuOrOOOOOOOOOOO'), Button(description='Check', style=Butt…"
      ]
     },
     "metadata": {},
     "output_type": "display_data"
    },
    {
     "data": {
      "application/vnd.jupyter.widget-view+json": {
       "model_id": "e07844c940cb4f6ca4838fd0a1082623",
       "version_major": 2,
       "version_minor": 0
      },
      "text/plain": [
       "VBox(children=(Output(), Text(value='', placeholder='OOOrOsOOOOOOO'), Button(description='Check', style=Button…"
      ]
     },
     "metadata": {},
     "output_type": "display_data"
    },
    {
     "data": {
      "application/vnd.jupyter.widget-view+json": {
       "model_id": "e386a65b5e474f64813d947ad73579dd",
       "version_major": 2,
       "version_minor": 0
      },
      "text/plain": [
       "VBox(children=(Output(), Text(value='', placeholder='OOOmOl'), Button(description='Check', style=ButtonStyle()…"
      ]
     },
     "metadata": {},
     "output_type": "display_data"
    },
    {
     "data": {
      "application/vnd.jupyter.widget-view+json": {
       "model_id": "751f7da9a5254b77960816c72cc78743",
       "version_major": 2,
       "version_minor": 0
      },
      "text/plain": [
       "VBox(children=(Output(), Text(value='', placeholder='OxOOiOOOOOO'), Button(description='Check', style=ButtonSt…"
      ]
     },
     "metadata": {},
     "output_type": "display_data"
    },
    {
     "data": {
      "application/vnd.jupyter.widget-view+json": {
       "model_id": "3bc9826aa33f4895baa89d54f5fe6497",
       "version_major": 2,
       "version_minor": 0
      },
      "text/plain": [
       "VBox(children=(Output(), Text(value='', placeholder='OvOOOOOOnOOOOOOOOOO'), Button(description='Check', style=…"
      ]
     },
     "metadata": {},
     "output_type": "display_data"
    },
    {
     "data": {
      "application/vnd.jupyter.widget-view+json": {
       "model_id": "eddbf45e630940afb459c6686dfcc4fe",
       "version_major": 2,
       "version_minor": 0
      },
      "text/plain": [
       "VBox(children=(Output(), Text(value='', placeholder='OOOOOOOeOOiOO'), Button(description='Check', style=Button…"
      ]
     },
     "metadata": {},
     "output_type": "display_data"
    },
    {
     "data": {
      "application/vnd.jupyter.widget-view+json": {
       "model_id": "6a4707572a3f46fb9ec675d688cd8227",
       "version_major": 2,
       "version_minor": 0
      },
      "text/plain": [
       "VBox(children=(Output(), Text(value='', placeholder='OOOeOOOOOe'), Button(description='Check', style=ButtonSty…"
      ]
     },
     "metadata": {},
     "output_type": "display_data"
    },
    {
     "data": {
      "application/vnd.jupyter.widget-view+json": {
       "model_id": "93565b74e08a45298ed69ecfe8feb420",
       "version_major": 2,
       "version_minor": 0
      },
      "text/plain": [
       "VBox(children=(Output(), Text(value='', placeholder='OOoOOOe'), Button(description='Check', style=ButtonStyle(…"
      ]
     },
     "metadata": {},
     "output_type": "display_data"
    },
    {
     "data": {
      "application/vnd.jupyter.widget-view+json": {
       "model_id": "b1624e84017947fbba6db9c3326b60eb",
       "version_major": 2,
       "version_minor": 0
      },
      "text/plain": [
       "VBox(children=(Output(), Text(value='', placeholder='OinOOOOOOOO'), Button(description='Check', style=ButtonSt…"
      ]
     },
     "metadata": {},
     "output_type": "display_data"
    },
    {
     "data": {
      "application/vnd.jupyter.widget-view+json": {
       "model_id": "b40d9fa220ce49f3abda373c1d13c285",
       "version_major": 2,
       "version_minor": 0
      },
      "text/plain": [
       "VBox(children=(Output(), Text(value='', placeholder='OOeOOOoO'), Button(description='Check', style=ButtonStyle…"
      ]
     },
     "metadata": {},
     "output_type": "display_data"
    },
    {
     "data": {
      "application/vnd.jupyter.widget-view+json": {
       "model_id": "6d3d192bf5624beea7fb2ec4b7289b88",
       "version_major": 2,
       "version_minor": 0
      },
      "text/plain": [
       "VBox(children=(Output(), Text(value='', placeholder='OOOOOOiOOOOOOOOOOrO'), Button(description='Check', style=…"
      ]
     },
     "metadata": {},
     "output_type": "display_data"
    },
    {
     "data": {
      "application/vnd.jupyter.widget-view+json": {
       "model_id": "02580c7e10f14b6492afb7de3ae158c5",
       "version_major": 2,
       "version_minor": 0
      },
      "text/plain": [
       "VBox(children=(Output(), Text(value='', placeholder='peOOOOOO'), Button(description='Check', style=ButtonStyle…"
      ]
     },
     "metadata": {},
     "output_type": "display_data"
    },
    {
     "data": {
      "application/vnd.jupyter.widget-view+json": {
       "model_id": "5290cea8483b4cb09d1e07a04db66f9f",
       "version_major": 2,
       "version_minor": 0
      },
      "text/plain": [
       "VBox(children=(Output(), Text(value='', placeholder='OOaOoOOOO'), Button(description='Check', style=ButtonStyl…"
      ]
     },
     "metadata": {},
     "output_type": "display_data"
    },
    {
     "data": {
      "application/vnd.jupyter.widget-view+json": {
       "model_id": "c17f2cdcb9b8432f8b688450fa6b5319",
       "version_major": 2,
       "version_minor": 0
      },
      "text/plain": [
       "VBox(children=(Output(), Text(value='', placeholder='OOOnOOOrO'), Button(description='Check', style=ButtonStyl…"
      ]
     },
     "metadata": {},
     "output_type": "display_data"
    },
    {
     "data": {
      "application/vnd.jupyter.widget-view+json": {
       "model_id": "906e39ddaf3b4ec4a35ac933aef2a984",
       "version_major": 2,
       "version_minor": 0
      },
      "text/plain": [
       "VBox(children=(Output(), Text(value='', placeholder='OOOeOOOOsOOO'), Button(description='Check', style=ButtonS…"
      ]
     },
     "metadata": {},
     "output_type": "display_data"
    },
    {
     "data": {
      "application/vnd.jupyter.widget-view+json": {
       "model_id": "ce316df157cf43239c8bee91de54e3ad",
       "version_major": 2,
       "version_minor": 0
      },
      "text/plain": [
       "VBox(children=(Output(), Text(value='', placeholder='OOrmOOO'), Button(description='Check', style=ButtonStyle(…"
      ]
     },
     "metadata": {},
     "output_type": "display_data"
    },
    {
     "data": {
      "application/vnd.jupyter.widget-view+json": {
       "model_id": "cc1b889fbb564805acfc6826bf3a359a",
       "version_major": 2,
       "version_minor": 0
      },
      "text/plain": [
       "VBox(children=(Output(), Text(value='', placeholder='OiOaOOOO'), Button(description='Check', style=ButtonStyle…"
      ]
     },
     "metadata": {},
     "output_type": "display_data"
    },
    {
     "data": {
      "application/vnd.jupyter.widget-view+json": {
       "model_id": "164ee0823d414eb290c37d77f63487df",
       "version_major": 2,
       "version_minor": 0
      },
      "text/plain": [
       "VBox(children=(Output(), Text(value='', placeholder='OOOOOOOO OOOiOO'), Button(description='Check', style=Butt…"
      ]
     },
     "metadata": {},
     "output_type": "display_data"
    },
    {
     "data": {
      "application/vnd.jupyter.widget-view+json": {
       "model_id": "4cd4712eddb148f494c219f702607cc6",
       "version_major": 2,
       "version_minor": 0
      },
      "text/plain": [
       "VBox(children=(Output(), Text(value='', placeholder='OOOasOOOO'), Button(description='Check', style=ButtonStyl…"
      ]
     },
     "metadata": {},
     "output_type": "display_data"
    },
    {
     "data": {
      "application/vnd.jupyter.widget-view+json": {
       "model_id": "1217f87ca88049f0ade2f65e8e3e4787",
       "version_major": 2,
       "version_minor": 0
      },
      "text/plain": [
       "VBox(children=(Output(), Text(value='', placeholder='rOvOOO'), Button(description='Check', style=ButtonStyle()…"
      ]
     },
     "metadata": {},
     "output_type": "display_data"
    },
    {
     "data": {
      "application/vnd.jupyter.widget-view+json": {
       "model_id": "65841494026d49ad81829fe513c6e21d",
       "version_major": 2,
       "version_minor": 0
      },
      "text/plain": [
       "VBox(children=(Output(), Text(value='', placeholder='OOOOOisOOOO'), Button(description='Check', style=ButtonSt…"
      ]
     },
     "metadata": {},
     "output_type": "display_data"
    },
    {
     "data": {
      "application/vnd.jupyter.widget-view+json": {
       "model_id": "7f5a7b92762c4aada1977e5f4c59c556",
       "version_major": 2,
       "version_minor": 0
      },
      "text/plain": [
       "VBox(children=(Output(), Text(value='', placeholder='hOOOOOOOOiOO'), Button(description='Check', style=ButtonS…"
      ]
     },
     "metadata": {},
     "output_type": "display_data"
    },
    {
     "data": {
      "application/vnd.jupyter.widget-view+json": {
       "model_id": "a44433026428479aba29751d2e6a4323",
       "version_major": 2,
       "version_minor": 0
      },
      "text/plain": [
       "VBox(children=(Output(), Text(value='', placeholder='OOOOOOsOOOOsO'), Button(description='Check', style=Button…"
      ]
     },
     "metadata": {},
     "output_type": "display_data"
    },
    {
     "data": {
      "application/vnd.jupyter.widget-view+json": {
       "model_id": "03ee52ee66ce47a5a2edf6eb4bc07e75",
       "version_major": 2,
       "version_minor": 0
      },
      "text/plain": [
       "VBox(children=(Output(), Text(value='', placeholder='OOtiOOOOOO'), Button(description='Check', style=ButtonSty…"
      ]
     },
     "metadata": {},
     "output_type": "display_data"
    },
    {
     "data": {
      "application/vnd.jupyter.widget-view+json": {
       "model_id": "21aa8cdcf83348fa8b48e9ab6cb3d243",
       "version_major": 2,
       "version_minor": 0
      },
      "text/plain": [
       "VBox(children=(Output(), Text(value='', placeholder='lOOOOOnOOOOOOOOOOO'), Button(description='Check', style=B…"
      ]
     },
     "metadata": {},
     "output_type": "display_data"
    },
    {
     "data": {
      "application/vnd.jupyter.widget-view+json": {
       "model_id": "f663fc5a0b4548b9b88db9d76bf090a0",
       "version_major": 2,
       "version_minor": 0
      },
      "text/plain": [
       "VBox(children=(Output(), Text(value='', placeholder='OiOOOlOOOOOOOOOOOO'), Button(description='Check', style=B…"
      ]
     },
     "metadata": {},
     "output_type": "display_data"
    },
    {
     "data": {
      "application/vnd.jupyter.widget-view+json": {
       "model_id": "0817ed9b5b5d4e599deb272d9884aa5d",
       "version_major": 2,
       "version_minor": 0
      },
      "text/plain": [
       "VBox(children=(Output(), Text(value='', placeholder='eOOhOOOOO'), Button(description='Check', style=ButtonStyl…"
      ]
     },
     "metadata": {},
     "output_type": "display_data"
    },
    {
     "data": {
      "application/vnd.jupyter.widget-view+json": {
       "model_id": "4063cbcd12e8499aab6a7f859fb78325",
       "version_major": 2,
       "version_minor": 0
      },
      "text/plain": [
       "VBox(children=(Output(), Text(value='', placeholder='OOOdOtOO'), Button(description='Check', style=ButtonStyle…"
      ]
     },
     "metadata": {},
     "output_type": "display_data"
    },
    {
     "data": {
      "application/vnd.jupyter.widget-view+json": {
       "model_id": "ec7900a4aae94e2a8c11d46da8d699e1",
       "version_major": 2,
       "version_minor": 0
      },
      "text/plain": [
       "VBox(children=(Output(), Text(value='', placeholder='OOOOhOOOc'), Button(description='Check', style=ButtonStyl…"
      ]
     },
     "metadata": {},
     "output_type": "display_data"
    },
    {
     "data": {
      "application/vnd.jupyter.widget-view+json": {
       "model_id": "178d1e9cb53943bd83a284e1af343cab",
       "version_major": 2,
       "version_minor": 0
      },
      "text/plain": [
       "VBox(children=(Output(), Text(value='', placeholder='OnfOOOOOO'), Button(description='Check', style=ButtonStyl…"
      ]
     },
     "metadata": {},
     "output_type": "display_data"
    }
   ],
   "source": [
    "# Function add.make function for fill the empty word(have a 2-3 hint character)\n",
    "\n",
    "get_questions_filling(100)"
   ]
  },
  {
   "cell_type": "code",
   "execution_count": 15,
   "metadata": {
    "scrolled": true
   },
   "outputs": [
    {
     "name": "stdout",
     "output_type": "stream",
     "text": [
      "* aeration\n",
      "> the aeration of the soil\n",
      "---------------\n",
      "* aerodynamic\n",
      "---------------\n",
      "* aerobic\n",
      "> aerobic fermentation\n",
      "> aerobic dance\n",
      "> running is very aerobic\n",
      "---------------\n",
      "* alternate\n",
      "> the cleaning lady comes on alternate Wednesdays\n",
      "> stems with alternate leaves\n",
      "---------------\n",
      "* ambidextrous\n",
      "> an ambidextrous surgeon\n",
      "---------------\n",
      "* ambiguous\n",
      "> the polling had a complex and equivocal (or ambiguous) message for potential female candidates\n",
      "> ambiguous words\n",
      "> frustrated by ambiguous instructions, the parents were unable to assemble the toy\n",
      "> an ambiguous situation with no frame of reference\n",
      "> ambiguous inkblots\n",
      "---------------\n",
      "* amphibious\n",
      "> amphibious vehicles\n",
      "> amphibious operations\n",
      "> amphibious troops\n",
      "> frogs are amphibious animals\n",
      "---------------\n",
      "* archetype\n",
      "---------------\n",
      "* catastrophe\n",
      "> lack of funds has resulted in a catastrophe for our school system\n",
      "---------------\n",
      "* autograph\n",
      "> The author autographed his book\n",
      "---------------\n",
      "* embargo\n",
      "> embargoed publications\n",
      "> The U.S. embargoes Libya\n",
      "---------------\n",
      "* accuse\n",
      "> The neighbors accused the man of spousal abuse\n",
      "---------------\n",
      "* excuse\n",
      "> he kept finding excuses to stay\n",
      "> he had to get his mother to write an excuse for him\n",
      "> a poor excuse for an automobile\n",
      "> Please excuse my dirty hands\n",
      "> Please excuse me from this class\n",
      "> Your need to sleep late does not excuse your late arrival at work\n",
      "> excuse someone's behavior\n",
      "---------------\n",
      "* caustic\n",
      "> caustic jokes about political assassination, talk-show hosts and medical ethics\n",
      "---------------\n",
      "* exceed\n",
      "> Their loyalty exceeds their national bonds\n",
      "> She exceeded our expectations\n",
      "> This exceeds all my expectations\n",
      "---------------\n",
      "* secede\n",
      "---------------\n",
      "* eccentric\n",
      "> a friendly eccentric\n",
      "> famed for his eccentric spelling\n",
      "> eccentric circles\n",
      "---------------\n",
      "* ascertain\n",
      "---------------\n",
      "* certify\n",
      "---------------\n",
      "* claim\n",
      "> his claim asked for damages\n",
      "> his claim that he was innocent\n",
      "> evidence contradicted the government's claims\n",
      "> they struck in support of their claim for a shorter work day\n",
      "> his claim on her attentions\n",
      "> a strong legal claim to the property\n",
      "> he staked his claim\n",
      "> He claimed that he killed the burglar\n",
      "> He claimed his suitcases at the airline counter\n",
      "> Mr. Smith claims special tax exemptions because he is a foreign resident\n",
      "> They claimed on the maximum allowable amount\n",
      "> the accident claimed three lives\n",
      "---------------\n",
      "* proclaim\n",
      "> He was proclaimed King\n",
      "> The King will proclaim an amnesty\n",
      "---------------\n",
      "* disclaim\n",
      "> He disclaimed any responsibility\n",
      "---------------\n",
      "* acclaim\n",
      "> the book met with modest acclaim\n",
      "---------------\n",
      "* exclaim\n",
      "> `I won!' he exclaimed\n",
      "> `I am not a Communist,' he exclaimed\n",
      "---------------\n",
      "* conclude\n",
      "> The committee concluded the meeting\n",
      "> They concluded an economic agreement\n",
      "> We concluded a cease-fire\n",
      "---------------\n",
      "* enclose\n",
      "> Darkness enclosed him\n",
      "---------------\n",
      "* reclusive\n",
      "> lived an unsocial reclusive life\n",
      "> sitting under the reclusive calm of a shade tree\n",
      "---------------\n",
      "* accredit\n",
      "---------------\n",
      "* dictate\n",
      "> the dictates of reason\n",
      "> He dictated a report to his secretary\n",
      "---------------\n",
      "* contradict\n",
      "---------------\n",
      "* dictator\n",
      "> my boss is a dictator who makes everyone work overtime\n",
      "---------------\n",
      "* condone\n",
      "> She condoned her husband's occasional infidelities\n",
      "---------------\n",
      "* conduct\n",
      "> You cannot conduct business like this\n",
      "> conduct an orchestra; Barenboim conducted the Chicago symphony for years\n",
      "> They conducted themselves well during these difficult times\n",
      "> He conducted us to the palace\n",
      "> Many metals conduct heat\n",
      "> Bernstein conducted Mahler like no other conductor\n",
      "> she cannot conduct modern pieces\n",
      "---------------\n",
      "* induce\n",
      "> induce a crisis\n",
      "> The ads induced me to buy a VCR\n",
      "---------------\n",
      "* faculty\n",
      "---------------\n",
      "* genuine\n",
      "> a genuine Picasso\n",
      "> genuine leather\n",
      "> genuine emotion\n",
      "> a genuine dilemma\n",
      "---------------\n",
      "* exaggerate\n",
      "> tended to romanticize and exaggerate this `gracious Old South' imagery\n",
      "---------------\n",
      "* congestion\n",
      "> traffic congestion\n",
      "---------------\n",
      "* heritage\n",
      "> a heritage of freedom\n",
      "> the world's heritage of knowledge\n",
      "---------------\n",
      "* inherit\n",
      "> I inherited a castle from my French grandparents\n",
      "> The new chairman inherited many problems from the previous chair\n",
      "> I inherited my good eyesight from my mother\n",
      "---------------\n",
      "* inherent\n",
      "> shortcomings inherent in our approach\n",
      "---------------\n",
      "* humiliate\n",
      "> He humiliated his colleague by criticising him in front of the boss\n",
      "---------------\n",
      "* object\n",
      "> it was full of rackets, balls and other objects\n",
      "> the sole object of her trip was to see her children\n",
      "> the object of the verb\n",
      "> objects of thought\n",
      "> the object of my affection\n",
      "> in object-oriented programming, objects include data and define its status, its methods of operation and how it interacts with other objects\n",
      "> She never objected to the amount of work her boss charged her with\n",
      "> When asked to drive the truck, she objected that she did not have a driver's license\n",
      "> My wife objects to modern furniture\n",
      "---------------\n",
      "* adjacent\n",
      "> had adjacent rooms\n",
      "> lands adjacent to the mountains\n",
      "> New York and adjacent cities\n",
      "---------------\n",
      "* judicial\n",
      "> a judicial decision\n",
      "> judicial robes\n",
      "> judicial system\n",
      "> a biography ...appreciative and yet judicial in purpose\n",
      "---------------\n",
      "* laborious\n",
      "> spent many laborious hours on the project\n",
      "---------------\n",
      "* collaborate\n",
      "> he collaborated with the Nazis when they occupied Paris\n",
      "---------------\n",
      "* locality\n",
      "> it is a rugged locality\n",
      "---------------\n",
      "* locus\n",
      "> the locus of points equidistant from a given point is a circle\n",
      "---------------\n",
      "* relocate\n",
      "> Our company relocated to the Midwest\n",
      "> We had to relocate the office because the rent was too high\n",
      "---------------\n",
      "* maneuver\n",
      "> he made a great maneuver\n",
      "> He maneuvered to get the chairmanship\n",
      "> She maneuvered herself into the directorship\n",
      "---------------\n",
      "* manipulate\n",
      "> He manipulated public opinion in his favor\n",
      "> She manipulates her boss\n",
      "---------------\n",
      "* meditate\n",
      "---------------\n",
      "* medieval\n",
      "> a medieval attitude toward dating\n",
      "---------------\n",
      "* medium\n",
      "> fish require an aqueous medium\n",
      "> the dissolving medium is called a solvent\n",
      "> a happy medium\n",
      "> he consulted several mediums\n",
      "> medium bombers\n",
      "---------------\n",
      "* intermediate\n",
      "> going from sitting to standing without intermediate pushes with the hands\n",
      "> intermediate stages in a process\n",
      "> intermediate stops on the route\n",
      "> an intermediate range plane\n",
      "> intermediate capacity\n",
      "---------------\n",
      "* migrate\n",
      "> Many Germans migrated to South America in the mid-19th century\n",
      "> This tribe transmigrated many times over the centuries\n",
      "> birds migrate in the Winter\n",
      "> The workers migrate to where the crops need harvesting\n",
      "---------------\n",
      "* emigrate\n",
      "> Many people had to emigrate during the Nazi period\n",
      "---------------\n",
      "* immigrate\n",
      "> only few plants can immigrate to the island\n",
      "> Britain immigrated many colonists to America\n",
      "> Many people immigrated at the beginning of the 20th century\n",
      "---------------\n",
      "* emit\n",
      "> The ozone layer blocks some harmful rays which the sun emits\n",
      "---------------\n",
      "* admit\n",
      "> He admitted his errors\n",
      "> We cannot admit non-members into our club building\n",
      "> This pipe admits air\n",
      "> admit someone to the profession\n",
      "> She was admitted to the New Jersey Bar\n",
      "> We'll have to vote on whether or not to admit a new member\n",
      "> This problem admits of no solution\n",
      "> The French doors admit onto the yard\n",
      "> The theater admits 300 people\n",
      "> This ticket will admit one adult to the show\n",
      "---------------\n",
      "* omit\n",
      "---------------\n",
      "* respect\n",
      "> it differs in that respect\n",
      "> she lost all respect for him\n",
      "> be sure to give my respects to the dean\n",
      "> he went to law school out of respect for his father's wishes\n",
      "> he inspires respect\n",
      "> out of respect for his privacy\n",
      "> I respect his judgement\n",
      "---------------\n",
      "* prospect\n",
      "> his prospects as a writer are excellent\n",
      "> prospect a job\n",
      "---------------\n",
      "* suspect\n",
      "> I suspect he is a fugitive\n",
      "> The U.S. suspected Bin Laden as the mastermind behind the terrorist attacks\n",
      "> her motives were suspect\n",
      "---------------\n",
      "* speculate\n",
      "> philosophers have speculated on the question of God for thousands of years\n",
      "---------------\n",
      "* assimilate\n",
      "> Immigrants often want to assimilate quickly\n",
      "> This country assimilates immigrants very quickly\n",
      "> The nasal assimilates to the following consonant\n",
      "---------------\n",
      "* resemble\n",
      "> She resembles her mother very much\n",
      "> This paper resembles my own work\n",
      "---------------\n",
      "* assemble\n",
      "> We assembled in the church basement\n",
      "> assemble your colleagues\n",
      "---------------\n",
      "* ascend\n",
      "> We ascended the mountain\n",
      "> The mountaineers slowly ascended the steep slope\n",
      "> Inheritance may not ascend linearly\n",
      "> She ascended to the throne after the King's death\n",
      "> The boat ascended the Delaware\n",
      "> The path ascended to the top of the hill\n",
      "> Jupiter ascends\n",
      "---------------\n",
      "* descend\n",
      "> She was descended from an old Italian noble family\n",
      "---------------\n",
      "* transcend\n",
      "---------------\n",
      "* satiate\n",
      "---------------\n",
      "* saturate\n",
      "---------------\n",
      "* unsaturated\n",
      "> an unsaturated salt solution\n",
      "> unsaturated fats\n",
      "> an unsaturated red\n",
      "---------------\n",
      "* subscribe\n",
      "> The broker subscribed 500 shares\n",
      "> I subscribe to your view on abortion\n",
      "---------------\n",
      "* ascribe\n",
      "---------------\n",
      "* inscribe\n",
      "---------------\n",
      "* invert\n",
      "> here the theme is inverted\n",
      "> when forming a question, invert the subject and the verb\n",
      "---------------\n",
      "* adverse\n",
      "> adverse circumstances\n",
      "> adverse currents\n",
      "---------------\n",
      "* divert\n",
      "---------------\n",
      "* converse\n",
      "> `parental' and `filial' are converse terms\n",
      "---------------\n",
      "* abdicate\n",
      "> The King abdicated when he married a divorcee\n",
      "---------------\n",
      "* abolish\n",
      "> Slavery was abolished in the mid-19th century in America and in Russia\n",
      "---------------\n",
      "* animate\n",
      "> animated cartoons\n",
      "> the word `dog' is animate\n",
      "> we are animate beings\n",
      "---------------\n",
      "* decorate\n",
      "> He was decorated for his services in the military\n",
      "---------------\n",
      "* demolish\n",
      "> the wrecking ball demolished the building\n",
      "> demolish your enemies\n",
      "> The home team demolished the visitors\n",
      "---------------\n",
      "* elucidate\n",
      "---------------\n",
      "* fascinate\n",
      "> The snake charmer fascinates the cobra\n",
      "---------------\n",
      "* furnish\n",
      "> We furnished the house in the Biedermeyer style\n",
      "---------------\n",
      "* imitate\n",
      "> The mime imitated the passers-by\n",
      "> Life imitate art\n",
      "---------------\n",
      "* mediate\n",
      "> He mediated a settlement\n",
      "> mediate between the old and the new\n",
      "> the disease spread by mediate as well as direct contact\n",
      "> in a mediate position\n",
      "---------------\n",
      "* neutralise\n",
      "---------------\n",
      "* nourish\n",
      "> This kind of food is not nourishing for young children\n",
      "---------------\n",
      "* stabilise\n",
      "---------------\n",
      "* subsidise\n",
      "---------------\n",
      "* sweep\n",
      "> the sweep of the plains\n",
      "> a sweep of his arm\n",
      "> Please sweep the floor\n",
      "---------------\n",
      "* symbolise\n",
      "---------------\n",
      "* sympathise\n",
      "---------------\n",
      "* deal\n",
      "> it was a package deal\n",
      "> he's a master of the business deal\n",
      "> he rose to prominence through a series of shady deals\n",
      "> a deal of trouble\n",
      "> he got a good deal on his car\n",
      "> the deal was passed around the table clockwise\n",
      "> the captain was entrusted with the deal of provisions\n",
      "> This book deals with incest\n",
      "> How are we going to deal with this problem?\n",
      "> The teacher knew how to deal with these lazy students\n",
      "> deal a blow to someone\n",
      "> She deals in gold\n",
      "> I can deal with this crew of workers\n",
      "> He deals fairly with his employees\n",
      "> Who's dealing?\n",
      "> He dealt me the Queen of Spades\n",
      "> deal hashish\n",
      "---------------\n",
      "* deepen\n",
      "> This event only deepened my convictions\n",
      "> His dislike for raw fish only deepened in Japan\n",
      "> They deepened the lake so that bigger pleasure boats could use it\n",
      "> Her voice deepened when she whispered the password\n",
      "---------------\n",
      "* depict\n",
      "> This scene depicts country life\n",
      "---------------\n",
      "* fasten\n",
      "> fasten the lock onto the door\n",
      "> This dress fastens in the back\n",
      "> They fastened various nicknames to each other\n",
      "---------------\n",
      "* glorify\n",
      "> glorify one's spouse's cooking\n",
      "> You are glorifying a rather mediocre building\n",
      "---------------\n",
      "* harden\n",
      "> The wax hardened\n",
      "> The cold hardened the butter\n",
      "---------------\n",
      "* lengthen\n",
      "> In Spring, the days lengthen\n",
      "---------------\n",
      "* lessen\n",
      "---------------\n",
      "* nullify\n",
      "---------------\n",
      "* purify\n",
      "> purify the water\n",
      "> The hippies came to the ashram in order to purify\n",
      "---------------\n",
      "* qualify\n",
      "> qualify these remarks\n",
      "---------------\n",
      "* soften\n",
      "> soften a shock\n",
      "> This liquid will soften your laundry\n",
      "> The bread will soften if you pour some liquid on it\n",
      "---------------\n",
      "* worsen\n",
      "> Conditions in the slum worsened\n",
      "---------------\n",
      "* allegorical\n",
      "> allegorical stories\n",
      "> an allegorical painting of Victory leading an army\n",
      "---------------\n",
      "* awesome\n",
      "> the awesome complexity of the universe\n",
      "---------------\n",
      "* capable\n",
      "> capable of winning\n",
      "> capable of hard work\n",
      "> capable of walking on two feet\n",
      "> a passage capable of misinterpretation\n",
      "> no one believed her capable of murder\n",
      "> a capable administrator\n",
      "> children as young as 14 can be extremely capable and dependable\n",
      "---------------\n",
      "* delicate\n",
      "> a delicate violin passage\n",
      "> delicate china\n",
      "> a delicate flavor\n",
      "> the delicate wing of a butterfly\n",
      "> a surgeon's delicate touch\n",
      "> a kite too delicate to fly safely\n",
      "> a baby's delicate skin\n",
      "> delicate negotiations with the big powers\n",
      "> almost undetectable with even the most delicate instruments\n",
      "---------------\n",
      "* dormant\n",
      "> dormant buds\n",
      "> a dormant volcano\n",
      "> her feelings of affection are dormant but easily awakened\n",
      "---------------\n",
      "* favourable\n",
      "---------------\n",
      "* generous\n",
      "> a generous donation\n",
      "> unusually generous in his judgment of people\n",
      "> a generous portion\n",
      "---------------\n",
      "* identical\n",
      "> rows of identical houses\n",
      "> cars identical except for their license plates\n",
      "> this is the identical room we stayed in before\n",
      "> identical twins are monovular\n",
      "> identical triangles\n",
      "---------------\n",
      "* intellectual\n",
      "> intellectual problems\n",
      "> satire is an intellectual weapon\n",
      "> intellectual workers engaged in creative literary or artistic or scientific labor\n",
      "> has tremendous intellectual sympathy for oppressed people\n",
      "> coldly intellectual\n",
      "> sort of the intellectual type\n",
      "> intellectual literature\n",
      "---------------\n",
      "* meager\n",
      "> meager resources\n",
      "> meager fare\n",
      "---------------\n",
      "* versatile\n",
      "> his vast and versatile erudition\n",
      "> versatile moods\n",
      "> a versatile writer\n",
      "> an owl's versatile toe can move backward and forward\n",
      "> an insect's versatile antennae can move up and down or laterally\n",
      "> a versatile anther of a flower moves freely in the wind\n",
      "---------------\n",
      "* abolition\n",
      "> the abolition of capital punishment\n",
      "---------------\n",
      "* additive\n",
      "> an additive process\n",
      "---------------\n",
      "* admission\n",
      "> the surgery was performed on his second admission to the clinic\n",
      "---------------\n",
      "* ambition\n",
      "> his ambition is to own his own business\n",
      "---------------\n",
      "* fibre\n",
      "---------------\n",
      "* fugitive\n",
      "> fugitives from the sweatshops\n",
      "> fugitive hours\n",
      "---------------\n",
      "* nuptial\n",
      "> nuptial day\n",
      "---------------\n",
      "* worship\n",
      "> Many Hindus worship Shiva\n",
      "> They worship in the traditional manner\n",
      "---------------\n",
      "* youth\n",
      "> youth everywhere rises in revolt\n",
      "> during the youth of the project\n",
      "---------------\n",
      "* abruptly\n",
      "---------------\n",
      "* arbitrarily\n",
      "---------------\n",
      "* briefly\n",
      "> she visited him briefly\n",
      "> was briefly associated with IBM\n",
      "> she replied briefly\n",
      "> briefly, we have a problem\n",
      "---------------\n",
      "* deadly\n",
      "> a deadly enemy\n",
      "> deadly poisons\n",
      "> the seven deadly sins\n",
      "> deadly dull\n",
      "> deadly earnest\n",
      "---------------\n",
      "* further\n",
      "> nothing could be further from the truth\n",
      "> further from our expectations\n",
      "> further complicated by uncertainty about the future\n",
      "> let's not discuss it further\n",
      "> nothing could be further from the truth\n",
      "> they are further along in their research than we expected\n",
      "> if we further suppose\n",
      "> stated further that he would not cooperate with them\n",
      "> they are definitely coming; further, they should be here already\n",
      "> went only three miles further\n",
      "> further in the future\n",
      "---------------\n",
      "* newly\n",
      "> they are newly married\n",
      "> newly raised objections\n",
      "> a newly arranged hairdo\n",
      "---------------\n",
      "* notably\n",
      "> notably in the social sciences, the professors teach too much\n",
      "---------------\n",
      "* occasionally\n",
      "> he was arrogant and occasionally callous\n",
      "> open areas are only occasionally interrupted by clumps of trees\n",
      "---------------\n",
      "* openly\n",
      "> he openly flaunted his affection for his sister\n",
      "---------------\n",
      "* partly\n",
      "> I felt partly to blame\n",
      "---------------\n",
      "* roughly\n",
      "> roughly $3,000\n",
      "> he was pushed roughly aside\n",
      "---------------\n",
      "* ruthlessly\n",
      "> the government has been urged to take immediate action to deal ruthlessly with the strikers\n",
      "---------------\n",
      "* seldom\n",
      "---------------\n",
      "* somewhat\n",
      "> his arguments were somewhat self-contradictory\n",
      "---------------\n",
      "* throughout\n",
      "---------------\n",
      "* virtually\n",
      "> the strike virtually paralyzed the city\n",
      "> I'm virtually broke\n",
      "> virtually all the parties signed the contract\n",
      "---------------\n",
      "* while\n",
      "> he was here for a little while\n",
      "---------------\n",
      "* wholly\n",
      "> he was wholly convinced\n",
      "---------------\n",
      "* dislike\n",
      "> my dislike of him was instinctive\n",
      "> I really dislike this salesman\n",
      "---------------\n",
      "* disorder\n",
      "> the doctor prescribed some medicine for the disorder\n",
      "> the files are in complete disorder\n",
      "---------------\n",
      "* inactive\n",
      "> desired amounts of inactive chlorine\n",
      "> an inactive mine\n",
      "> inactive accounts\n",
      "> inactive machinery\n",
      "> inactive reserve\n",
      "> an inactive member\n",
      "> illness forced him to live an inactive life\n",
      "> dreamy and inactive by nature\n",
      "---------------\n",
      "* inadequate\n",
      "> inadequate training\n",
      "> the staff was inadequate\n",
      "> an inadequate income\n",
      "---------------\n",
      "* informal\n",
      "> conservative people unaccustomed to informal dress\n",
      "> an informal free-and-easy manner\n",
      "> an informal gathering of friends\n",
      "> an informal agreement\n",
      "> a relaxed informal manner\n",
      "---------------\n",
      "* insane\n",
      "> was declared insane\n",
      "> insane laughter\n",
      "> took insane risks behind the wheel\n",
      "---------------\n",
      "* immobile\n",
      "---------------\n",
      "* impartial\n",
      "> the cold neutrality of an impartial judge\n",
      "> the impartial eye of a scientist\n",
      "---------------\n",
      "* irregular\n",
      "> irregular hiring practices\n",
      "> irregular troops\n",
      "> irregular warfare\n",
      "> irregular jeans\n",
      "> highly irregular behavior\n",
      "> an irregular worker\n",
      "> walking was difficult on the irregular cobblestoned surface\n",
      "> she led a somewhat irregular private life\n",
      "---------------\n",
      "* misuse\n",
      "> The director of the factory misused the funds intended for the health care of his workers\n",
      "---------------\n",
      "* mishap\n",
      "---------------\n",
      "* amorphous\n",
      "> amorphous clouds of insects\n",
      "> an amorphous mineral\n",
      "> amorphous structure\n",
      "---------------\n",
      "* atypical\n",
      "> a group that is atypical of the target audience\n",
      "> a class of atypical mosses\n",
      "> atypical behavior is not the accepted type of response that we expect from children\n",
      "> these days large families are atypical\n",
      "> atypical clinical findings\n",
      "> atypical pneumonia\n",
      "---------------\n",
      "* malfunction\n",
      "> the coffee maker malfunctioned\n",
      "---------------\n",
      "* maltreatment\n",
      "---------------\n",
      "* malevolent\n",
      "> a gossipy malevolent old woman\n",
      "> failure made him malevolent toward those who were successful\n",
      "> malevolent stars\n",
      "---------------\n",
      "* nonaggression\n",
      "> they signed a nonaggression pact\n",
      "---------------\n",
      "* none\n",
      "> thou shalt have none other gods before me\n",
      "> seemed none too pleased with his dinner\n",
      "> shirt looked none the worse for having been slept in\n",
      "> none too prosperous\n",
      "> the passage is none too clear\n",
      "---------------\n",
      "* antiseptic\n",
      "> doctors in antiseptic green coats\n",
      "> the antiseptic effect of alcohol\n",
      "> it is said that marjoram has antiseptic qualities\n",
      "> antiseptic financial practices\n",
      "> the antiseptic effect of sturdy criticism\n",
      "> lyrics as antiseptic as Sunday School\n",
      "---------------\n",
      "* antipathy\n",
      "> cats were his greatest antipathy\n",
      "---------------\n",
      "* antisocial\n",
      "> standoffish and antisocial\n",
      "> he's not antisocial; just shy\n",
      "> criminal behavior or conduct that violates the rights of other individuals is antisocial\n",
      "> an antisocial deed\n",
      "---------------\n",
      "* antithesis\n",
      "> his theory is the antithesis of mine\n",
      "---------------\n",
      "* antonym\n",
      "> to him the antonym of `gay' was `depressed'\n",
      "---------------\n",
      "* antagonistic\n",
      "> slaves antagonistic to their masters\n",
      "> his antagonistic brusqueness\n",
      "> Europe was antagonistic to the Unites States\n",
      "---------------\n",
      "* counteract\n",
      "> This will counteract the foolish actions of my colleagues\n",
      "---------------\n",
      "* counterbalance\n",
      "---------------\n",
      "* counterclockwise\n",
      "> please move counterclockwise in a circle!\n",
      "---------------\n",
      "* contradiction\n",
      "> the statement `he is brave and he is not brave' is a contradiction\n",
      "> he spoke as if he thought his claims were immune to contradiction\n",
      "---------------\n",
      "* contraceptive\n",
      "> contraceptive devices and medications\n",
      "---------------\n",
      "* controversy\n",
      "---------------\n",
      "* obstruct\n",
      "> obstruct the path\n",
      "> The trees obstruct my view of the mountains\n",
      "---------------\n",
      "* obliterate\n",
      "---------------\n",
      "* obscene\n",
      "> the dance often becomes flagrantly obscene\n",
      "> the obscene massacre at Wounded Knee\n",
      "> obscene telephone calls\n",
      "---------------\n",
      "* obnoxious\n",
      "---------------\n",
      "* oppose\n",
      "> We oppose the ban on abortion\n",
      "> The senator said he would oppose the bill\n",
      "> The board opposed his motion\n",
      "---------------\n",
      "* oppress\n",
      "> The government oppresses political activists\n",
      "---------------\n",
      "* ostentatious\n",
      "> an ostentatious sable coat\n",
      "---------------\n",
      "* withhold\n",
      "> The father is withholding the allowance until the son cleans his room\n",
      "> My employer is withholding taxes\n",
      "---------------\n",
      "* withstand\n",
      "> The new material withstands even the greatest wear and tear\n",
      "---------------\n",
      "* wither\n",
      "---------------\n",
      "* provoke\n",
      "> Her behavior provoked a quarrel between the couple\n",
      "---------------\n",
      "* propel\n",
      "> Steam propels this ship\n",
      "---------------\n",
      "* predominant\n",
      "> the predominant mood among policy-makers is optimism\n",
      "---------------\n",
      "* foresee\n",
      "---------------\n",
      "* foretell\n",
      "---------------\n",
      "* forefather\n",
      "> keep the faith of our forefathers\n",
      "> our forefathers brought forth a great nation\n",
      "---------------\n",
      "* foremost\n",
      "> the foremost figure among marine artists\n",
      "> the foremost compartment of the ship\n",
      "> the foremost compartment of the ship\n",
      "> he put his best foot foremost\n",
      "---------------\n",
      "* antique\n",
      "> antique furniture\n",
      "> the beautiful antique French furniture\n",
      "> a suit of rather antique appearance\n",
      "> the antique fear that days would dwindle away to complete darkness\n",
      "---------------\n",
      "* advance\n",
      "> she rejected his advances\n",
      "> the news caused a general advance on the stock market\n",
      "> advance an argument\n",
      "> Women tend not to advance in the major law firms\n",
      "> Can you advance me some money?\n",
      "> we have to advance clocks and watches when we travel eastward\n",
      "> gave advance warning\n",
      "> an advance party\n",
      "> at that time the most advanced outpost was still east of the Rockies\n",
      "---------------\n",
      "* recede\n",
      "> the unhappy memories of her childhood receded as she grew older\n",
      "---------------\n",
      "* revoke\n",
      "> He revoked the ban on smoking\n",
      "---------------\n",
      "* recant\n",
      "---------------\n",
      "* retrograde\n",
      "> The glacier retrogrades\n",
      "> retrograde arguments\n",
      "---------------\n",
      "* retroactive\n",
      "> retroactive tax increase\n",
      "---------------\n",
      "* postgraduate\n",
      "---------------\n",
      "* postpone\n",
      "> let's postpone the exam\n",
      "---------------\n",
      "* afterward\n",
      "> it didn't happen until afterward\n",
      "---------------\n",
      "* superior\n",
      "> superior wisdom derived from experience\n",
      "> superior math students\n",
      "> a superior ruler\n",
      "> overcome by a superior opponent\n",
      "> trust magnates who felt themselves superior to law\n",
      "> Mars and Jupiter are the closest in of the superior planets\n",
      "> superior officer\n",
      "> he is superior to fear\n",
      "> an ignited firework proceeds superior to circumstances until its blazing vitality fades\n",
      "---------------\n",
      "* supervise\n",
      "---------------\n",
      "* supreme\n",
      "> the supreme sacrifice\n",
      "> the supreme judgment\n",
      "> a supreme tribunal\n",
      "> supreme among musicians\n",
      "> a supreme endxxeavor\n",
      "> supreme courage\n",
      "> supreme folly\n",
      "---------------\n",
      "* supernatural\n",
      "> She doesn't believe in the supernatural\n",
      "> supernatural forces and occurrences and beings\n",
      "---------------\n",
      "* surface\n",
      "> there is a special cleaner for these surfaces\n",
      "> the cloth had a pattern of red dots on a white surface\n",
      "> they skimmed over the surface of the water\n",
      "> a brush small enough to clean every dental surface\n",
      "> the sun has no distinct surface\n",
      "> earthquakes originate far below the surface\n",
      "> three quarters of the Earth's surface is covered by water\n",
      "> it was not what it appeared to be on the surface\n",
      "> the facts had been brought to the surface\n",
      "> I hope the list key is going to surface again\n",
      "> surface materials of the moon\n",
      "---------------\n",
      "* surpass\n",
      "> her performance surpasses that of any other student I know\n",
      "> One line of soldiers surpassed the other\n",
      "---------------\n",
      "* surplus\n",
      "> surplus cheese distributed to the needy\n",
      "---------------\n",
      "* surrender\n",
      "> The last Taleban fighters finally surrendered\n",
      "> The squatters had to surrender the building after the police moved in\n",
      "---------------\n",
      "* oversee\n",
      "> Who is overseeing this project?\n",
      "---------------\n",
      "* overcome\n",
      "> You must overcome all difficulties\n",
      "---------------\n",
      "* overturn\n",
      "> The big vase overturned\n",
      "---------------\n",
      "* overlook\n",
      "> The apartment overlooks the Hudson\n",
      "> I am overlooking her work\n",
      "---------------\n",
      "* upright\n",
      "> the ball sailed between the uprights\n",
      "> an upright post\n",
      "> an upright and respectable man\n",
      "> he sat bolt upright\n",
      "---------------\n",
      "* uproot\n",
      "> The war uprooted many people\n",
      "> the vestiges of political democracy were soon uprooted\n",
      "> uproot the vine that has spread all over the garden\n",
      "---------------\n",
      "* upheaval\n",
      "---------------\n",
      "* undertake\n",
      "---------------\n",
      "* undergo\n",
      "> The chemical undergoes a sudden change\n",
      "> The fluid undergoes shear\n",
      "> undergo a strange sensation\n",
      "---------------\n",
      "* underlying\n",
      "> an underlying meaning\n",
      "> underlying principles\n",
      "---------------\n",
      "* submarine\n",
      "> The child was injured when he submarined under the safety belt of the car\n",
      "> The Germans submarined the Allies\n",
      "---------------\n",
      "* submerged\n",
      "> submerged rocks\n",
      "> submerged leaves\n",
      "---------------\n",
      "* subscription\n",
      "> the deed was attested by the subscription of his signature\n",
      "---------------\n",
      "* substantial\n",
      "> won by a substantial margin\n",
      "> substantial equivalents\n",
      "> the substantial world\n",
      "> a mere dream, neither substantial nor practical\n",
      "> most ponderous and substantial things\n",
      "> ate a substantial breakfast\n",
      "> several substantial timber buildings\n",
      "---------------\n",
      "* suspend\n",
      "> The secret police suspended their victims from the ceiling and beat them\n",
      "> suspend the particles\n",
      "> suspend payments on the loan\n",
      "> the prison sentence was suspended\n",
      "---------------\n",
      "* suppress\n",
      "> suppress a nascent uprising\n",
      "> suppress a yawn\n",
      "> this drug can suppress the hemorrhage\n",
      "---------------\n",
      "* sustain\n",
      "> We sustained the diplomatic negotiations as long as possible\n",
      "> We sustained ourselves on bread and water\n",
      "> She alone sustained her family\n",
      "> The money will sustain our good cause\n",
      "> The court sustained the motion\n",
      "---------------\n",
      "* downwind\n",
      "> they flew downwind\n",
      "---------------\n",
      "* downhill\n",
      "> your performance has been going downhill for a long time now\n",
      "> running downhill, he gained a lot of speed\n",
      "---------------\n",
      "* downfall\n",
      "---------------\n",
      "* inhale\n",
      "> Clinton smoked marijuana but never inhaled\n",
      "> inhale the fresh mountain air\n",
      "---------------\n",
      "* interior\n",
      "> an interior scene\n",
      "> interior decoration\n",
      "> an interior bathroom without windows\n",
      "> she thinks she has no soul, no interior life, but the truth is that she has no access to it\n",
      "> interior regions of the earth\n",
      "---------------\n",
      "* interfere\n",
      "> Your talking interferes with my work!\n",
      "---------------\n",
      "* endemic\n",
      "> it is an endemic found only this island\n",
      "> diseases endemic to the tropics\n",
      "> endemic malaria\n",
      "> food shortages and starvation are endemic in certain parts of the world\n",
      "> the islands have a number of interesting endemic species\n",
      "> endemic folkways\n",
      "---------------\n",
      "* enact\n",
      "> the legislature enacted this law in 1985\n",
      "> She reenacted what had happened earlier that day\n",
      "---------------\n",
      "* endanger\n",
      "> The pollution is endangering the crops\n",
      "---------------\n",
      "* eject\n",
      "---------------\n",
      "* ecstasy\n",
      "---------------\n",
      "* external\n",
      "> he enjoyed the solemn externals of religion\n",
      "> the external auditory canal\n",
      "> external pressures\n",
      "> external commerce\n",
      "> external composure\n",
      "> an external concern for reputation\n",
      "---------------\n",
      "* exterior\n",
      "> an exterior scene\n",
      "> exterior grade plywood\n",
      "> exterior paints\n",
      "---------------\n",
      "* extraordinary\n",
      "> extraordinary authority\n",
      "> an extraordinary achievement\n",
      "> her extraordinary beauty\n",
      "> enjoyed extraordinary popularity\n",
      "> an extraordinary capacity for work\n",
      "> an extraordinary session of the legislature\n",
      "> an extraordinary desire for approval\n",
      "> an ambassador extraordinary\n",
      "---------------\n",
      "* extravagant\n",
      "> extravagant praise\n",
      "---------------\n",
      "* outlaw\n",
      "> an outlaw strike\n",
      "---------------\n",
      "* outbreak\n",
      "> the outbreak of hostilities\n",
      "---------------\n",
      "* outdo\n",
      "> She outdoes all other athletes\n",
      "---------------\n",
      "* abduct\n",
      "> this muscle abducts\n",
      "---------------\n",
      "* abnormal\n",
      "> abnormal powers of concentration\n",
      "> abnormal amounts of rain\n",
      "> abnormal circumstances\n",
      "> an abnormal interest in food\n",
      "> they were heartbroken when they learned their child was abnormal\n",
      "> an abnormal personality\n",
      "> abnormal profits\n",
      "> abnormal ambition\n",
      "---------------\n",
      "* abstain\n",
      "> I abstain from alcohol\n",
      "---------------\n",
      "* abhor\n",
      "> She abhors cats\n",
      "---------------\n",
      "* avert\n",
      "> avert a strike\n",
      "> They averted their eyes when the King entered\n",
      "---------------\n",
      "* degrade\n",
      "---------------\n",
      "* decompose\n",
      "> The bodies decomposed in the heat\n",
      "---------------\n",
      "* depart\n",
      "> The train departs at noon\n",
      "---------------\n",
      "* dialect\n",
      "> the immigrants spoke an odd dialect of English\n",
      "> it has been said that a language is a dialect with an army and navy\n",
      "---------------\n",
      "* transatlantic\n",
      "> transatlantic flight\n",
      "---------------\n",
      "* transplant\n",
      "> he had a kidney transplant\n",
      "> the long-term results of cardiac transplantation are now excellent\n",
      "> a child had a multiple organ transplant two months ago\n",
      "> the transplant did not flower until the second year\n",
      "> too frequent transplanting is not good for families\n",
      "> she returned to Alabama because she could not bear transplantation\n",
      "> These delicate plants do not transplant easily\n",
      "> The ancient Greek story was transplanted into Modern America\n",
      "---------------\n",
      "* segregate\n",
      "> This neighborhood is segregated\n",
      "> We don't segregate in this county\n",
      "> Many towns segregated into new counties\n",
      "> Experiments show clearly that genes segregate\n",
      "> the sun segregates the carbon\n",
      "> large mining claims are segregated into smaller claims\n",
      "---------------\n",
      "* cataclysm\n",
      "---------------\n",
      "* catapult\n",
      "> the enemy catapulted rocks towards the fort\n",
      "---------------\n",
      "* compact\n",
      "> This powder compacts easily\n",
      "> compact soil\n",
      "> compact clusters of flowers\n",
      "> a wrestler of compact build\n",
      "> a compact style is brief and pithy\n",
      "---------------\n",
      "* compose\n",
      "> Greed and ambition composed his personality\n",
      "> Beethoven composed nine symphonies\n",
      "> She composed a poem\n",
      "> She had to compose herself before she could reply to this terrible insult\n",
      "---------------\n",
      "* sympathy\n",
      "> the two of them were in close sympathy\n",
      "---------------\n",
      "* synchronise\n",
      "---------------\n",
      "* accustom\n",
      "---------------\n",
      "* affirm\n",
      "---------------\n",
      "* opportune\n",
      "> an opportune place to make camp\n",
      "> an opportune arrival\n",
      "---------------\n",
      "* appease\n",
      "---------------\n",
      "* ashore\n",
      "> we invited them ashore\n",
      "---------------\n",
      "* enrich\n",
      "> The experience enriched her understanding\n",
      "> enriched foods\n",
      "> the oil boom enriched a lot of local people\n",
      "---------------\n",
      "* enliven\n",
      "---------------\n",
      "* amaze\n",
      "> Your ability to speak six languages amazes me!\n",
      "---------------\n",
      "* perfume\n",
      "> orange blossoms perfumed the air in the garden\n",
      "> She perfumes herself every day\n",
      "---------------\n",
      "* uniform\n",
      "> The guards were uniformed\n",
      "> a street of uniform tall white buildings\n",
      "> at regular (or uniform) intervals\n",
      "---------------\n",
      "* union\n",
      "> you have to join the union in order to get a job\n",
      "> there is strength in union\n",
      "> God bless this union\n",
      "> let C be the union of the sets A and B\n",
      "> lightning produced an unusual union of the metals\n",
      "> the union of opposing factions\n",
      "> the union movement\n",
      "> union negotiations\n",
      "> a union-shop clause in the contract\n",
      "---------------\n",
      "* unification\n",
      "> he looked forward to the unification of his family for the holidays\n",
      "---------------\n",
      "* monotonous\n",
      "> nothing is so monotonous as the sea\n",
      "> the owl's faint monotonous hooting\n",
      "---------------\n",
      "* dichotomy\n",
      "> the dichotomy between eastern and western culture\n",
      "---------------\n",
      "* bilingual\n",
      "> bilingual education\n",
      "---------------\n",
      "* twin\n",
      "> The polished surface twinned his face and chest in reverse\n",
      "> twin crystals\n",
      "---------------\n",
      "* quarter\n",
      "> a quarter of a pound\n",
      "> both teams scored in the first quarter\n",
      "> it's a quarter til 4\n",
      "> a quarter after 4 o'clock\n",
      "> the fall quarter ends at Christmas\n",
      "> unemployment fell during the last quarter\n",
      "> the wind is coming from that quarter\n",
      "> he fed four quarters into the slot machine\n",
      "> he dropped a word in the right quarter\n",
      "> he surrendered but asked for quarter\n",
      "> in the old days, people were drawn and quartered for certain crimes\n",
      "> quarter an apple\n",
      "---------------\n",
      "* decimal\n",
      "> the decimal system\n",
      "---------------\n",
      "* multipurpose\n",
      "> a multipurpose tool\n",
      "---------------\n",
      "* multicellular\n",
      "> multicellular organisms\n",
      "---------------\n",
      "* well-balanced\n",
      "> a well-balanced wheel\n",
      "---------------\n",
      "* well-known\n",
      "> a well-known politician\n",
      "> well-known facts\n",
      "> a well-known voice reached her ears\n",
      "---------------\n",
      "* circumvent\n",
      "---------------\n",
      "* circumference\n",
      "> he had walked the full circumference of his land\n",
      "> a danger to all races over the whole circumference of the globe\n",
      "---------------\n",
      "* circumscribe\n",
      "---------------\n",
      "* circumspect\n",
      "> circumspect actions\n",
      "> physicians are now more circumspect about recommending its use\n",
      "---------------\n",
      "* hyperactive\n",
      "> a hyperactive child\n",
      "---------------\n",
      "* hypothesis\n",
      "> a scientific hypothesis that survives experimental testing becomes a scientific theory\n",
      "---------------\n",
      "* interpersonal\n",
      "> interpersonal situations in which speech occurs\n",
      "---------------\n",
      "* interplanetary\n",
      "> interplanetary travel\n",
      "---------------\n",
      "* intravenous\n",
      "> an intravenous inflammation\n",
      "> intravenous feeding\n",
      "---------------\n",
      "* intramuscular\n",
      "> an intramuscular injection\n",
      "---------------\n",
      "* metamorphic\n",
      "> metamorphic stage\n",
      "> marble is a metamorphic rock that takes a high polish\n",
      "---------------\n",
      "* parallel\n",
      "> parallels never meet\n",
      "> Their roles are paralleled by ours\n",
      "> They paralleled the ditch to the highway\n",
      "> parallel lines never converge\n",
      "> concentric circles are parallel\n",
      "> dancers in two parallel rows\n",
      "> parallel processing\n",
      "---------------\n",
      "* homogenous\n",
      "---------------\n",
      "* heterozygous\n",
      "> heterozygous for eye color\n",
      "---------------\n",
      "* homologous\n",
      "> the wing of a bat and the arm of a man are homologous\n",
      "> a homologous tissue graft\n",
      "---------------\n",
      "* macromolecular\n",
      "> macromolecular compounds\n",
      "---------------\n",
      "* neolithic\n",
      "> evidence of neolithic settlements\n",
      "---------------\n",
      "* abuse\n",
      "> the child showed signs of physical abuse\n",
      "> when a student made a stupid mistake he spared them no abuse\n",
      "> alcohol abuse\n",
      "> the abuse of public funds\n",
      "> This boss abuses his workers\n",
      "> Don't abuse the system\n",
      "> The actress abused the policeman who gave her a parking ticket\n",
      "> Her husband often abuses alcohol\n",
      "> while she was pregnant, she abused drugs\n",
      "---------------\n",
      "* appreciate\n",
      "> Do you appreciate the full meaning of this letter?\n",
      "> The yen appreciated again!\n",
      "> The Germans want to appreciate the Deutsche Mark\n",
      "---------------\n",
      "* attribute\n",
      "> We attributed this quotation to Shakespeare\n",
      "---------------\n",
      "* capital\n",
      "> printers once kept the type for capitals and for small letters in separate cases; capitals were kept in the upper half of the type case and so became known as upper-case letters\n",
      "> the crime capital of Italy\n",
      "> the drug capital of Columbia\n",
      "> a capital fellow\n",
      "> a capital idea\n",
      "> our capital concern was to avoid defeat\n",
      "> capital A\n",
      "---------------\n",
      "* cast\n",
      "> pottery of this cast was found throughout the region\n",
      "> the delicate cast of his features\n",
      "> cast a spell\n",
      "> cast a warm light\n",
      "> cast a vote\n",
      "> cast a ballot\n",
      "> He cast a young woman in the role of Desdemona\n",
      "> Who cast this beautiful movie?\n",
      "> cast a bronze sculpture\n",
      "> cast lots\n",
      "> She cast her request in very polite language\n",
      "---------------\n",
      "* charge\n",
      "> the wrestler's charge carried him past his adversary\n",
      "> the battle began with a cavalry charge\n",
      "> he was arrested on a charge of larceny\n",
      "> the admission charge\n",
      "> the battery needed a fresh charge\n",
      "> his charge was deliver a message\n",
      "> the teacher led her charges across the street\n",
      "> the charges against the estate\n",
      "> Freud thought of cathexis as a psychic analog of an electrical charge\n",
      "> they submitted their charges at the end of each month\n",
      "> the judge's charge to the jury\n",
      "> the newspaper published charges that Jones was guilty of drunken driving\n",
      "> this cartridge has a powder charge of 50 grains\n",
      "> he charged the director with indifference\n",
      "> Will I get charged for this service?\n",
      "> She was charged with supervising the creation of a concordance\n",
      "> The suspect was charged with murdering his wife\n",
      "> The defense attorney charged that the jurors were biased\n",
      "> charge the wagon with hay\n",
      "> he charged me $15\n",
      "> Will you pay cash or charge the purchase?\n",
      "> The speaker charged up the crowd with his inflammatory remarks\n",
      "> charge all weapons, shields, and banners\n",
      "> He charged his weapon at me\n",
      "> He charged her with cleaning up all the files over the weekend\n",
      "> The teacher charged the children to memorize the poem\n",
      "> The tragedy was charged to her inexperience\n",
      "> How much do you charge for lunch?\n",
      "> This fellow charges $100 for a massage\n",
      "> charge a conductor\n",
      "> I need to charge my car battery\n",
      "> The room was charged with tension and anxiety\n",
      "---------------\n",
      "* due\n",
      "> give the devil his due\n",
      "> the society dropped him for non-payment of dues\n",
      "> payment is due\n",
      "> the train is due in 15 minutes\n",
      "> all due respect\n",
      "> due cause to honor them\n",
      "> a long due promotion\n",
      "> in due course\n",
      "> due esteem\n",
      "> exercising due care\n",
      "> the cancellation of the concert was due to the rain\n",
      "> went due North\n",
      "---------------\n",
      "* even\n",
      "> he enjoyed the evening light across the lake\n",
      "> even out the surface\n",
      "> even amounts of butter and sugar\n",
      "> on even terms\n",
      "> it was a fifty-fifty (or even) split\n",
      "> had a fifty-fifty (or even) chance\n",
      "> an even fight\n",
      "> an even application of varnish\n",
      "> an even floor\n",
      "> the road was not very even\n",
      "> the picture is even with the window\n",
      "> even features\n",
      "> the even rhythm of his breathing\n",
      "> even an idiot knows that\n",
      "> declined even to consider the idea\n",
      "> I don't have even a dollar!\n",
      "> even when he is sick, he works\n",
      "> even with his head start she caught up with him\n",
      "> looked sick and felt even worse\n",
      "> an even (or still) more interesting problem\n",
      "> loyal even unto death\n",
      "---------------\n",
      "* express\n",
      "> he caught the express to New York\n",
      "> She expressed her anger\n",
      "> Can you express this distance in kilometers?\n",
      "> Many of the laboratory animals express the trait\n",
      "> Italians express coffee rather than filter it\n",
      "> She expressed the letter to Florida\n",
      "> her express wish\n",
      "> an express train\n",
      "> an express shipment\n",
      "> please send the letter express\n",
      "---------------\n",
      "* foul\n",
      "> foul the water\n",
      "> a foul odor\n",
      "> used foul means to gain power\n",
      "> foul (or dirty) copy\n",
      "> foul language\n",
      "> a foul pond\n",
      "> with its sails afoul\n",
      "> a foul anchor\n",
      "---------------\n",
      "* settle\n",
      "> dust settled on the roofs\n",
      "> We finally settled the argument\n",
      "> The immigrants settled in the Midwest\n",
      "> He finally settled down\n",
      "> The roar settled to a thunder\n",
      "> The wind settled in the West\n",
      "> A cough settled in her chest\n",
      "> Her mood settled into lethargy\n",
      "> He settled the farm 200 years ago\n",
      "> This land was settled by Germans\n",
      "> She settled the teacart\n",
      "> We settled for a lower price\n",
      "> The two parties finally settled\n",
      "> the liquid gradually settled\n",
      "> I finally settled with my old enemy\n",
      "> The Swedes settled in Minnesota\n",
      "---------------\n",
      "* state\n",
      "> his state is in the deep south\n",
      "> the current state of knowledge\n",
      "> his state of health\n",
      "> in a weak financial state\n",
      "> the state has lowered its income tax\n",
      "> the state has elected a new president\n",
      "> the solid state of water is called ice\n",
      "> he was in such a state you just couldn't reason with him\n",
      "> state your opinion\n",
      "> state your name\n",
      "---------------\n",
      "* steep\n",
      "> steep the blossoms in oil\n",
      "> steep the fruit in alcohol\n",
      "> the steep attic stairs\n",
      "> steep cliffs\n",
      "> note the steep incline\n",
      "> a steep roof sheds snow\n",
      "---------------\n",
      "* subject\n",
      "> he didn't want to discuss that subject\n",
      "> a moving picture of a train is more dramatic than a still picture of the same subject\n",
      "> teachers should be well trained in their subject\n",
      "> he had been thinking about the subject for several years\n",
      "> the subjects for this investigation were selected randomly\n",
      "> a monarch has a duty to his subjects\n",
      "> He subjected me to his awful poetry\n",
      "> The sergeant subjected the new recruits to many drills\n",
      "> People in Chernobyl were subjected to radiation\n",
      "> He did not want to subject himself to the judgments of his superiors\n",
      "> the time is fixed by the director and players and therefore subject to much variation\n",
      "> subject peoples\n",
      "> the bond is subject to taxation\n",
      "> he is subject to fits of depression\n",
      "---------------\n",
      "* suit\n",
      "> they buried him in his best suit\n",
      "> the family brought suit against the landlord\n",
      "> all the suits care about is the bottom line\n",
      "> a flush is five cards in the same suit\n",
      "> in bridge you must follow suit\n",
      "> what suit is trumps?\n",
      "> This suits my needs\n",
      "> This time suits me\n",
      "> This kind of behavior does not suit a young woman!\n",
      "> This behavior doesn't suit you!\n",
      "---------------\n",
      "* tap\n",
      "> tap one's memory\n",
      "> tap a source of money\n",
      "> He tapped me on the shoulder\n",
      "> The FBI was tapping the phone line of the suspected spy\n",
      "> tap a cask of wine\n",
      "> he was tapping his fingers on the table impatiently\n",
      "> Glover tapdances better than anybody\n",
      "> tap beer in a bar\n",
      "> tap a maple tree for its syrup\n",
      "> tap a keg of beer\n",
      "---------------\n",
      "* term\n",
      "> he learned many medical terms\n",
      "> a prison term\n",
      "> he left school before the end of term\n",
      "> the terms of the treaty were generous\n",
      "> the general term of an algebraic equation of the n-th degree\n",
      "> the major term of a syllogism must occur twice\n",
      "> a healthy baby born at full term\n",
      "---------------\n",
      "* treat\n",
      "> treat the water so it can be drunk\n",
      "> treat the lawn with chemicals\n",
      "> treat an oil spill\n",
      "> The doctor treated my broken leg\n",
      "> The patient must be treated right away or she will die\n",
      "> The new book treats the history of China\n",
      "> Grandmother always treated us to the circus\n",
      "> I like to treat myself to a day at a spa when I am depressed\n",
      "> Don't worry about the expensive wine--I'm treating\n",
      "> She treated her houseguests with good food every night\n",
      "> they had to treat with the King\n",
      "> I treated his advances as a joke\n",
      "---------------\n",
      "* wonder\n",
      "> the wonders of modern science\n",
      "> He wondered who had built this beautiful church\n",
      "> I wonder whether this was the right thing to do\n",
      "> she wondered whether it would snow tonight\n",
      "---------------\n",
      "* colony\n",
      "> the American colony in Paris\n",
      "> a nudist colony\n",
      "> an artists' colony\n",
      "---------------\n",
      "* zoology\n",
      "> the zoology of the Pliocene epoch\n",
      "---------------\n",
      "* carnivorous\n",
      "> the lion and other carnivorous animals\n",
      "> carnivorous plants are capable of trapping and digesting small animals especially insects\n",
      "---------------\n",
      "* hibernation\n",
      "> he emerged from his hibernation to make his first appearance in several years\n",
      "---------------\n",
      "* offspring\n",
      "> she was the mother of many offspring\n",
      "> industrialism prepared the way for acceptance of the French Revolution's various socialistic offspring\n",
      "---------------\n",
      "* domesticate\n",
      "> domesticate oats\n",
      "> The horse was domesticated a long time ago\n",
      "---------------\n",
      "* camouflage\n",
      "> The troops camouflaged themselves before they went into enemy territory\n",
      "---------------\n",
      "* nest\n",
      "> a machine-gun nest\n",
      "> a nest of snipers\n",
      "> a nest of thieves\n",
      "> birds are nesting outside my window every Spring\n",
      "> nested bowls\n",
      "---------------\n",
      "* dominant\n",
      "> television plays a dominant role in molding public opinion\n",
      "> the dominant partner in the marriage\n",
      "---------------\n",
      "* trail\n",
      "> there as a trail of blood\n",
      "> a tear left its trail on her cheek\n",
      "> the trail led straight to the perpetrator\n",
      "> John trailed behind his class mates\n",
      "> The Mercedes trailed behind the horse cart\n",
      "> The bride's veiled trailed along the ground\n",
      "> The toddler was trailing his pants\n",
      "---------------\n",
      "* dwell\n",
      "> The problems dwell in the social injustices in this country\n",
      "> this kind of fish dwells near the bottom of the ocean\n",
      "> Don't dwell on the past\n",
      "---------------\n",
      "* fertilise\n",
      "---------------\n",
      "* bud\n",
      "> The hibiscus is budding!\n",
      "> a budding friendship\n",
      "---------------\n",
      "* trunk\n",
      "> he put his golf bag in the trunk\n",
      "---------------\n",
      "* reproduce\n",
      "> reproduce the painting\n",
      "> this DVD player reproduces the sound of the piano very well\n",
      "> He reproduced the feeling of sadness in the portrait\n",
      "---------------\n",
      "* swarm\n",
      "> a swarm of insects obscured the light\n",
      "> The garden was swarming with bees\n",
      "---------------\n",
      "* variety\n",
      "> he had a variety of disorders\n",
      "> the range and variety of his work is amazing\n",
      "> he goes to France for variety\n",
      "---------------\n",
      "* homogenise\n",
      "---------------\n",
      "* wit\n",
      "---------------\n",
      "* emphatic\n",
      "> an emphatic word\n",
      "> an emphatic no\n",
      "> the document contained a particularly emphatic guarantee of religious liberty\n",
      "---------------\n",
      "* prefix\n",
      "> prefixed words\n",
      "---------------\n",
      "* decipher\n",
      "> Can you decipher this letter?\n",
      "---------------\n"
     ]
    },
    {
     "name": "stdout",
     "output_type": "stream",
     "text": [
      "* phonetic\n",
      "> phonetic transcription\n",
      "> phonetic analysis\n",
      "---------------\n",
      "* syllable\n",
      "> the word `pocket' has two syllables\n",
      "---------------\n",
      "* abridge\n",
      "> the new law might abridge our freedom of expression\n",
      "---------------\n",
      "* satire\n",
      "---------------\n",
      "* criticism\n",
      "> the senator received severe criticism from his opponent\n",
      "> constructive criticism is always appreciated\n",
      "---------------\n",
      "* regard\n",
      "> give him my kind regards\n",
      "> a man who has earned high regard\n",
      "> she mistook his manly regard for love\n",
      "---------------\n",
      "* starve\n",
      "> The political prisoners starved to death\n",
      "> They starved the prisoners\n",
      "> The engine was starved of fuel\n",
      "---------------\n",
      "* sense\n",
      "> a sense of security\n",
      "> a sense of happiness\n",
      "> a sense of danger\n",
      "> a sense of self\n",
      "> the dictionary gave several senses for the word\n",
      "> in the best sense charity is really a duty\n",
      "> in the dark he had to depend on touch and on his senses of smell and hearing\n",
      "> Common sense is not so common\n",
      "> he hasn't got the sense God gave little green apples\n",
      "> fortunately she had the good sense to run away\n",
      "> a keen musical sense\n",
      "> a good sense of timing\n",
      "> This robot can sense the presence of people in the room\n",
      "> particle detectors sense ionization\n",
      "> I sense his hostility\n",
      "> I sensed the real meaning of his letter\n",
      "---------------\n",
      "* contemporary\n",
      "> contemporary trends in design\n",
      "> contemporary leaders\n",
      "> the composer Salieri was contemporary with Mozart\n",
      "---------------\n",
      "* colloquial\n",
      "> wrote her letters in a colloquial style\n",
      "---------------\n",
      "* discipline\n",
      "> in what discipline is his doctorate?\n",
      "> he quickly learned the discipline of prison routine\n",
      "> for such a plan to work requires discipline\n",
      "> he insisted on discipline among the troops\n",
      "> the offenders deserved the harsh discipline they received\n",
      "> Parents must discipline their children\n",
      "> The teacher disciplined the pupils rather frequently\n",
      "---------------\n",
      "* compulsory\n",
      "> in most schools physical education is compulsory\n",
      "---------------\n",
      "* elective\n",
      "> elective official\n",
      "> elective surgery\n",
      "> an elective course of study\n",
      "---------------\n",
      "* obligatory\n",
      "> attendance is obligatory\n",
      "> an obligatory contribution\n",
      "> he made all the obligatory apologies\n",
      "---------------\n",
      "* extracurricular\n",
      "> sports and drama are popular extracurricular activities\n",
      "> the extracurricular activities of a philandering husband\n",
      "---------------\n",
      "* underscore\n",
      "---------------\n",
      "* enroll\n",
      "---------------\n",
      "* examination\n",
      "---------------\n",
      "* graduate\n",
      "> She graduated in 1990\n",
      "> This school graduates 2,000 students each year\n",
      "> graduate a cylinder\n",
      "> graduate courses\n",
      "---------------\n",
      "* forbid\n",
      "> I forbid you to call me late at night\n",
      "> My sense of tact forbids an honest answer\n",
      "---------------\n",
      "* confer\n",
      "> We conferred about a plan of action\n",
      "> The university conferred a degree on its most famous former student, who never graduated\n",
      "---------------\n",
      "* inform\n",
      "> I informed him of his rights\n",
      "> The principles that inform modern teaching\n",
      "> She had informed on her own parents for years\n",
      "---------------\n",
      "* rely\n",
      "---------------\n",
      "* audiovisual\n",
      "> language tapes and videocassettes and other audiovisuals\n",
      "> the school's audiovisual department\n",
      "---------------\n",
      "* derivative\n",
      "> `electricity' is a derivative of `electric'\n",
      "> a derivative process\n",
      "> a highly derivative prose style\n",
      "---------------\n",
      "* acting\n",
      "> In what capacity are you acting?\n",
      "> She's just acting\n",
      "> the acting president\n",
      "---------------\n",
      "* synthetic\n",
      "> synthetic leather\n",
      "> limnology is essentially a synthetic science composed of elements...that extend well beyond the limits of biology\n",
      "> `all men are arrogant' is a synthetic proposition\n",
      "> counterfeit rhetoric that flourishes when passions are synthetic\n",
      "---------------\n",
      "* alchemy\n",
      "> a mysterious alchemy brought them together\n",
      "---------------\n",
      "* vacuum\n",
      "> without their support he'll be ruling in a vacuum\n",
      "> vacuum the carpets\n",
      "---------------\n",
      "* dense\n",
      "> dense smoke\n",
      "> dense vegetation\n",
      "> dense as lead\n",
      "> so dense he never understands anything I say to him\n",
      "---------------\n",
      "* evaporate\n",
      "> evaporate milk\n",
      "> The chemist evaporated the water\n",
      "> The water evaporated in front of our eyes\n",
      "> her hopes evaporated after years of waiting for her fiance\n",
      "---------------\n",
      "* soak\n",
      "> a good soak put life back in the wagon\n",
      "> I soaked in the hot tub for an hour\n",
      "> soak the bandage with disinfectant\n",
      "---------------\n",
      "* ignite\n",
      "> Great heat can ignite almost any dry matter\n",
      "> Marsh gases ignited suddenly\n",
      "> The ostentatious way of living of the rich ignites the hatred of the poor\n",
      "---------------\n",
      "* shift\n",
      "> his constant shifting disrupted the class\n",
      "> He shifted in his seat\n",
      "> shift the emphasis\n",
      "> shift one's attention\n",
      "> His tone shifted\n",
      "> shift the date for our class reunion\n",
      "> She could not shift so all her letters are written in lower case\n",
      "> Grimm showed how the consonants shifted\n",
      "> you have to shift when you go down a steep hill\n",
      "---------------\n",
      "* erode\n",
      "> Her confidence eroded\n",
      "> Rain eroded the terraces\n",
      "---------------\n",
      "* adhere\n",
      "> You must adhere to the rules\n",
      "> They adhered to their plan\n",
      "> The residents of this village adhered to Catholicism\n",
      "> Will this wallpaper adhere to the wall?\n",
      "---------------\n",
      "* sphere\n",
      "> his social sphere is limited\n",
      "---------------\n",
      "* abandon\n",
      "> she danced with abandon\n",
      "> We abandoned the old car in the empty parking lot\n",
      "> He abandoned the thought of asking for her hand in marriage\n",
      "---------------\n",
      "* address\n",
      "> he listened to an address on minor Roman poets\n",
      "> he failed in his manner of address to the captain\n",
      "> He addressed the crowd outside the window\n",
      "> The chairman addressed the board of trustees\n",
      "> He always addresses me with `Sir'\n",
      "---------------\n",
      "* sail\n",
      "> We sailed the Atlantic\n",
      "> He sailed the Pacific all alone\n",
      "> Shreds of paper sailed through the air\n",
      "> I love sailing, especially on the open sea\n",
      "> the ship sails on\n",
      "> The QE2 will sail to Southampton tomorrow\n",
      "---------------\n",
      "* exile\n",
      "> men in exile dream of hope\n",
      "> The poet was exiled because he signed a letter protesting the government's actions\n",
      "---------------\n",
      "* marriage\n",
      "> a long and happy marriage\n",
      "> his second marriage was happier than the first\n",
      "> their marriage was conducted in the chapel\n",
      "> the marriage of music and dance\n",
      "> a marriage of ideas\n",
      "---------------\n",
      "* conventional\n",
      "> conventional wisdom\n",
      "> she had strayed from the path of conventional behavior\n",
      "> conventional forms of address\n",
      "> a conventional view of the world\n",
      "> conventional warfare\n",
      "> conventional weapons\n",
      "> conventional bourgeois lives\n",
      "> conventional attitudes\n",
      "> a conventional church wedding with the bride in traditional white\n",
      "> the conventional handshake\n",
      "---------------\n",
      "* fluctuate\n",
      "> The stock market fluctuates\n",
      "---------------\n",
      "* fiscal\n",
      "> fiscal responsibility\n",
      "---------------\n",
      "* merchandise\n",
      "> good business depends on having good merchandise\n",
      "---------------\n",
      "* bankruptcy\n",
      "> spiritual bankruptcy\n",
      "> moral bankruptcy\n",
      "> intellectual bankruptcy\n",
      "> the company had to declare bankruptcy\n",
      "---------------\n",
      "* commission\n",
      "> he works on commission\n",
      "> put the ships into commission\n",
      "> the motor was out of commission\n",
      "---------------\n",
      "* depression\n",
      "> depression of the space bar on the typewriter\n",
      "---------------\n",
      "* transaction\n",
      "> no transactions are possible without him\n",
      "---------------\n",
      "* holding\n",
      "> What's holding that mirror?\n",
      "---------------\n",
      "* audit\n",
      "> he made an audit of all the plants on his property\n",
      "> an energy efficiency audit\n",
      "> an email log audit\n",
      "> audit accounts and tax returns\n",
      "---------------\n",
      "* pigment\n",
      "> artists use `paint' and `pigment' interchangeably\n",
      "> pigment a photograph\n",
      "---------------\n",
      "* eloquent\n",
      "---------------\n",
      "* pitch\n",
      "> he was employed to see that his paper's news pitches were not trespassed upon by rival vendors\n",
      "> the roof had a steep pitch\n",
      "> the pitching and tossing was quite exciting\n",
      "> his pitch fell short and his hat landed on the floor\n",
      "> She pitched over the railing of the balcony\n",
      "> He pitched his voice very low\n",
      "> pitch a tent\n",
      "> The pitcher delivered the ball\n",
      "> She pitched her speech to the teenagers in the audience\n",
      "---------------\n",
      "* civic\n",
      "> civic center\n",
      "> civic problems\n",
      "> civic duties\n",
      "> civic pride\n",
      "---------------\n",
      "* bill\n",
      "> they held a public hearing on the bill\n",
      "> he paid his bill and left\n",
      "> he used a bill to prune branches off of the tree\n",
      "> he pulled down the bill of his cap and trudged ahead\n",
      "> We were billed for 4 nights in the hotel, although we stayed only 3 nights\n",
      "> He was billed as the greatest tenor since Caruso\n",
      "---------------\n",
      "* constitute\n",
      "> These constitute my entire belonging\n",
      "---------------\n",
      "* ratification\n",
      "> the ratification of the treaty\n",
      "---------------\n",
      "* legitimate\n",
      "> legitimate advertising practices\n",
      "> a legitimate government\n",
      "---------------\n",
      "* jurisprudence\n",
      "> the great problem for jurisprudence to allow freedom while enforcing order\n",
      "---------------\n",
      "* enforce\n",
      "---------------\n",
      "* court\n",
      "> television cameras were admitted in the courtroom\n",
      "> players had to reserve a court in advance\n",
      "> the king will visit the duke's court\n",
      "> the house was built around an inner court\n",
      "> pay court to the emperor\n",
      "> John is courting Mary\n",
      "> We were courting for over ten years\n",
      "---------------\n",
      "* decree\n",
      "> The King only can decree\n",
      "> The King decreed that all firstborn males should be killed\n",
      "---------------\n",
      "* tariff\n",
      "> tariff imported goods\n",
      "---------------\n",
      "* arbitrate\n",
      "---------------\n",
      "* solicitation\n",
      "> a solicitation to the king for relief\n",
      "---------------\n",
      "* hearing\n",
      "> they condemned him without a hearing\n",
      "> they make good music--you should give them a hearing\n",
      "> the investigative committee will hold hearings in Chicago\n",
      "> his hearing was impaired\n",
      "---------------\n",
      "* trial\n",
      "> in the experimental trials the amount of carbon was measured separately\n",
      "> he called each flip of the coin a new trial\n",
      "> a sample for ten days free trial\n",
      "> a trial of progesterone failed to relieve the pain\n",
      "> candidates must compete in a trial of skill\n",
      "> he had a fair trial and the jury found him guilty\n",
      "> most of these complaints are settled before they go to trial\n",
      "> the trials for the semifinals began yesterday\n",
      "> his mother-in-law's visits were a great trial for him\n",
      "---------------\n",
      "* administer\n",
      "> administer a program\n",
      "> she administers the funds\n",
      "> administer the last unction\n",
      "> administer critical remarks to everyone present\n",
      "> administer an exam\n",
      "> administer an oath\n",
      "---------------\n",
      "* testify\n",
      "---------------\n",
      "* amend\n",
      "> amend the document\n",
      "---------------\n",
      "* saddle\n",
      "> saddle the horses\n",
      "> he saddled me with that heavy responsibility\n",
      "---------------\n",
      "* sue\n",
      "---------------\n",
      "* lawsuit\n",
      "---------------\n",
      "* criminal\n",
      "> a criminal waste of talent\n",
      "> criminal in the sight of God and man\n",
      "> a criminal offense\n",
      "> criminal abuse\n",
      "---------------\n",
      "* smuggle\n",
      "> She smuggled cigarettes across the border\n",
      "---------------\n",
      "* optical\n",
      "> optical supplies\n",
      "> an optical illusion\n",
      "> the optic (or optical) axis of the eye\n",
      "---------------\n",
      "* alteration\n",
      "---------------\n",
      "* property\n",
      "> that hat is my property\n",
      "> he is a man of property\n",
      "> the president was concerned about the property across from the White House\n",
      "> self-confidence is not an endearing property\n",
      "---------------\n",
      "* access\n",
      "> he took a wrong turn on the access to the bridge\n",
      "> he gained access to the building\n",
      "> How does one access the attic in this house?\n",
      "---------------\n",
      "* arc\n",
      "> her back arches\n",
      "---------------\n",
      "* arithmetic\n",
      "> arithmetical computations\n",
      "---------------\n",
      "* reckon\n",
      "> You have to reckon with our opponents\n",
      "---------------\n",
      "* sector\n",
      "> the public sector\n",
      "> he was helpless in an important sector of his life\n",
      "---------------\n",
      "* spherical\n",
      "> spherical geometry\n",
      "> a spherical object\n",
      "---------------\n",
      "* perpendicular\n",
      "> the axes are perpendicular to each other\n",
      "> measure the perpendicular height\n",
      "> the great perpendicular face of the cliff\n",
      "---------------\n",
      "* aggravate\n",
      "> This drug aggravates the pain\n",
      "---------------\n",
      "* anatomy\n",
      "> he studied the anatomy of crimes\n",
      "---------------\n",
      "* disinfect\n",
      "> disinfect a wound\n",
      "---------------\n",
      "* prescription\n",
      "> I tried to follow her prescription for success\n",
      "> he told the doctor that he had been taking his prescription regularly\n",
      "> a prescription drug\n",
      "---------------\n",
      "* limb\n",
      "> the upper limb of the bow\n",
      "> the limb of the sextant\n",
      "---------------\n",
      "* quarantine\n",
      "> My dog was quarantined before he could live in England\n",
      "---------------\n",
      "* chronic\n",
      "> chronic indigestion\n",
      "> a chronic shortage of funds\n",
      "> a chronic invalid\n",
      "> chronic money problems\n",
      "> a chronic smoker\n",
      "---------------\n",
      "* contagious\n",
      "> a contagious grin\n",
      "---------------\n",
      "* vector\n",
      "> mosquitos are vectors of malaria and yellow fever\n",
      "> fleas are vectors of the plague\n",
      "> when medical scientists talk about vectors they are usually talking about insects\n",
      "---------------\n",
      "* decaying\n",
      "---------------\n",
      "* spoil\n",
      "> to the victor belong the spoils of the enemy\n",
      "> her spoiling my dress was deliberate\n",
      "> the meat must be eaten before it spoils\n",
      "> He is spoiling for a fight\n",
      "---------------\n",
      "* obese\n",
      "---------------\n",
      "* sickness\n",
      "> drugs have become a sickness they cannot cure\n",
      "> a great sickness of his judgment\n",
      "---------------\n",
      "* portrayal\n",
      "---------------\n",
      "* silt\n",
      "> The river silted up\n",
      "---------------\n",
      "* airlift\n",
      "> Food is airlifted into Bosnia\n",
      "---------------\n",
      "* unpopular\n",
      "> unpopular ideas\n",
      "> an unpopular war\n",
      "---------------\n",
      "* batch\n",
      "> a batch of letters\n",
      "---------------\n",
      "* surge\n",
      "> stimulated a surge of speculation\n",
      "> an upsurge of emotion\n",
      "> an upsurge in violent crime\n",
      "> The army surged forward\n",
      "> the boats surged\n",
      "> He levelled the score and then surged ahead\n",
      "---------------\n",
      "* splendour\n",
      "---------------\n",
      "* tyrant\n",
      "> his father was a tyrant\n",
      "---------------\n",
      "* benign\n",
      "> a benign smile\n",
      "> the benign sky\n",
      "> the benign influence of pure air\n",
      "> the benign ruler of millions\n",
      "> benign intentions\n",
      "---------------\n",
      "* profound\n",
      "> the differences are profound\n",
      "> a profound insight\n",
      "> a profound book\n",
      "> a profound mind\n",
      "> profound contempt\n",
      "> profound regret\n",
      "> a profound silence\n",
      "> a state of profound shock\n",
      "> profound social changes\n",
      "> a profound sigh\n",
      "> fell into a profound sleep\n",
      "> the profound depths of the sea\n",
      "---------------\n",
      "* suffocate\n",
      "> The child suffocated herself with a plastic bag that the parents had left on the floor\n",
      "> His job suffocated him\n",
      "> The child suffocated under the pillow\n",
      "---------------\n",
      "* engaged\n",
      "> They engaged in a discussion\n",
      "> make sure the gear is engaged\n",
      "> engaged the gears\n",
      "> deeply engaged in conversation\n",
      "> the desperately engaged ships continued the fight\n",
      "> receptionists' telephones are always engaged\n",
      "> the gears are engaged\n",
      "> the carpenter engaged (or employed) for the job is sick\n",
      "> engaged columns\n",
      "---------------\n",
      "* unusual\n",
      "> a scene of unusual beauty\n",
      "> a man of unusual ability\n",
      "> cruel and unusual punishment\n",
      "> an unusual meteorite\n",
      "> two-career families are no longer unusual\n",
      "---------------\n",
      "* clamp\n",
      "> clamp the chair together until the glue has hardened\n",
      "> The military government clamped a curfew onto the capital\n",
      "---------------\n",
      "* cliff\n",
      "> he stood on a high cliff overlooking the town\n",
      "---------------\n",
      "* inconspicuous\n",
      "> he pushed the string through an inconspicuous hole\n",
      "---------------\n",
      "* epic\n",
      "> an epic voyage\n",
      "> epic tradition\n",
      "---------------\n",
      "* cozy\n",
      "> a cozy nook near the fire\n",
      "> had a cozy chat\n",
      "> the small room was cozy and intimate\n",
      "> a cozy arrangement with the police\n",
      "---------------\n",
      "* decent\n",
      "> from a decent family\n",
      "> a decent burial\n",
      "> speech in this circle, if not always decent, never became lewd\n",
      "> a decent wage\n",
      "> are you decent?\n",
      "> though one of her shoulder straps had slipped down, she was perfectly decent by current standards\n",
      "> can't you carry me decent?\n",
      "---------------\n",
      "* companionship\n",
      "---------------\n",
      "* sentiment\n",
      "---------------\n",
      "* stump\n",
      "> This problem stumped her\n",
      "> the candidate stumped the Northeast\n",
      "> stump a field\n",
      "---------------\n",
      "* suck\n",
      "> suck the poison from the place where the snake bit\n",
      "> suck on a straw\n",
      "> the baby sucked on the mother's breast\n",
      "> Mud was sucking at her feet\n",
      "> The current boom in the economy sucked many workers in from abroad\n",
      "> this sucks!\n",
      "> The wetnurse suckled the infant\n",
      "---------------\n",
      "* unanimous\n",
      "> a unanimous decision\n",
      "---------------\n",
      "* confuse\n",
      "> These questions confuse even the experts\n",
      "> The constant attention of the young man confused her\n",
      "> Her remarks confused the debate\n",
      "---------------\n",
      "* emergence\n",
      "> figurines presage the emergence of sculpture in Greece\n",
      "> not a day's difference between the emergence of the andrenas and the opening of the willow catkins\n",
      "---------------\n",
      "* manifest\n",
      "> The buildings in Rome manifest a high level of architectural sophistication\n",
      "> each passenger must be manifested\n",
      "> the ghost manifests each year on the same day\n",
      "> manifest disapproval\n",
      "---------------\n",
      "* meditation\n",
      "> the habit of meditation is the basis for all real knowledge\n",
      "---------------\n",
      "* auditory\n",
      "> auditory processing\n",
      "---------------\n",
      "* charter\n",
      "---------------\n",
      "* mischievous\n",
      "> mischievous rumors and falsehoods\n",
      "---------------\n",
      "* underneath\n",
      "> a chest of drawers all scratched underneath\n",
      "> we could see the original painting underneath\n",
      "> a house with a good foundation underneath\n",
      "---------------\n",
      "* confidential\n",
      "> a confidential secretary\n",
      "> this arrangement must be kept confidential\n",
      "> a confidential approach\n",
      "> in confidential tone of voice\n",
      "---------------\n",
      "* obstruction\n",
      "> the filibuster was a major obstruction to the success of their plan\n",
      "> obstruction of justice\n",
      "---------------\n",
      "* ardent\n",
      "> ardent love\n",
      "> an ardent lover\n",
      "> ardent revolutionaries\n",
      "> from rank to rank she darts her ardent eyes\n",
      "> frightened by his ardent burning eyes\n",
      "---------------\n",
      "* maritime\n",
      "> maritime law\n",
      "> a maritime province\n",
      "> maritime farmers\n",
      "> maritime cultures\n",
      "---------------\n",
      "* captivity\n",
      "> he was held in captivity until he died\n",
      "> So every bondman in his own hand bears the power to cancel his captivity\n",
      "---------------\n",
      "* depot\n",
      "---------------\n",
      "* rehabilitate\n",
      "> The prisoner was successfully rehabilitated\n",
      "> After a year in the mental clinic, the patient is now rehabilitated\n",
      "> Deng Xiao Ping was rehabilitated several times throughout his lifetime\n",
      "---------------\n",
      "* transcript\n",
      "> he read a transcript of the interrogation\n",
      "> you can obtain a transcript of this radio program by sending a self-addressed envelope to the station\n",
      "---------------\n",
      "* complexion\n",
      "> diphthongs are complexions of vowels\n",
      "> he altered the complexion of his times\n",
      "> a liberal political complexion\n",
      "> The setting sun complexioned the hills\n",
      "---------------\n",
      "* allegiance\n",
      "---------------\n",
      "* perspective\n",
      "---------------\n",
      "* pledge\n",
      "> his saxophone was in pledge\n",
      "> signed a pledge never to reveal the secret\n",
      "> I pledge that I will honor my wife\n",
      "> I pledged $10 a month to my favorite radio station\n",
      "> I pledge my honor\n",
      "> I was pledged to silence\n",
      "---------------\n",
      "* elongate\n",
      "> an elongate tail tapering to a point\n",
      "> the old man's gaunt and elongated frame\n",
      "---------------\n",
      "* distress\n",
      "> the death of his wife caused him great distress\n",
      "> a ship in distress\n",
      "> she was the classic maiden in distress\n",
      "> the patient appeared to be in distress\n",
      "> Originally distress was a landlord's remedy against a tenant for unpaid rents or property damage but now the landlord is given a landlord's lien\n",
      "> The news of her child's illness distressed the mother\n",
      "---------------\n",
      "* chamber\n",
      "> the chambers of his heart were healthy\n",
      "> the upper chamber is the senate\n",
      "---------------\n",
      "* disapprove\n",
      "> I disapprove of her child rearing methods\n",
      "---------------\n",
      "* behalf\n",
      "> on behalf of\n",
      "> in behalf of\n",
      "> the guardian signed the contract on behalf of the minor child\n",
      "> this letter is written on behalf of my client\n",
      "> in your behalf\n",
      "> campaigning in his own behalf\n",
      "> spoke a good word in his friend's behalf\n",
      "---------------\n",
      "* vice\n",
      "> vice offends the moral standards of the community\n",
      "---------------\n",
      "* dispose\n",
      "> She disposed of her parents' possessions\n",
      "> the dots are unevenly disposed\n",
      "---------------\n",
      "* unpleasant\n",
      "> an unpleasant personality\n",
      "> unpleasant repercussions\n",
      "> unpleasant odors\n",
      "---------------\n",
      "* auxiliary\n",
      "> the main library and its auxiliary branches\n",
      "> The mind and emotions are auxiliary to each other\n",
      "---------------\n",
      "* loom\n",
      "> Another air plane loomed into the sky\n",
      "> Large shadows loomed on the canyon wall\n",
      "> materials loomed in Egypt\n",
      "---------------\n",
      "* blur\n",
      "> it happened so fast it was just a blur\n",
      "> The haze blurs the hills\n",
      "> The fog blurs my vision\n",
      "> The distinction between the two theories blurred\n",
      "---------------\n",
      "* scholastic\n",
      "> scholastic year\n",
      "> scholastic philosophy\n",
      "---------------\n",
      "* agile\n",
      "> sleek and agile as a gymnast\n",
      "> an agile mind\n",
      "---------------\n",
      "* eternal\n",
      "> eternal truths\n",
      "> the wait seemed eternal\n",
      "> eternal quarreling\n",
      "---------------\n",
      "* predacious\n",
      "> a predacious kind of animal--the early geological gangster\n",
      "---------------\n",
      "* distortion\n",
      "> heavy metal guitar players use vacuum tube amplifiers to produce extreme distortion\n",
      "---------------\n",
      "* reluctant\n",
      "> a reluctant smile\n",
      "> they were usually reluctant to socialize\n",
      "> reluctant to help\n",
      "> foreigners stubbornly reluctant to accept our ways\n",
      "> fresh from college and reluctant for the moment to marry him\n",
      "---------------\n",
      "* groom\n",
      "> He is grooming his son to become his successor\n",
      "> groom the dogs\n",
      "> He is always well-groomed\n",
      "---------------\n",
      "* banish\n",
      "> he was banished from his own country\n",
      "> banish bad thoughts\n",
      "> banish gloom\n",
      "---------------\n",
      "* drawback\n",
      "> he pointed out all the drawbacks to my plan\n",
      "---------------\n",
      "* latent\n",
      "> a latent fingerprint\n",
      "> latent talent\n",
      "> latent infection\n",
      "> latent diabetes\n",
      "---------------\n",
      "* irrelevant\n",
      "> an irrelevant comment\n",
      "> irrelevant allegations\n",
      "---------------\n",
      "* destined\n",
      "> She was destined to become a great pianist\n",
      "> a flight destined for New York\n",
      "> an old house destined to be demolished\n",
      "> he is destined to be famous\n",
      "---------------\n",
      "* speck\n",
      "> the plane was just a speck in the sky\n",
      "> speck the cloth\n",
      "---------------\n",
      "* beforehand\n",
      "> was beforehand with her report\n",
      "> should have made reservations beforehand\n",
      "---------------\n",
      "* celebrated\n",
      "> The film director was celebrated all over Hollywood\n",
      "> a celebrated musician\n",
      "---------------\n",
      "* evasive\n",
      "> his answers were brief, constrained and evasive\n",
      "> an evasive statement\n",
      "> pilots are taught to take evasive action\n",
      "---------------\n",
      "* inaccurate\n",
      "> an inaccurate translation\n",
      "> the thermometer is inaccurate\n",
      "---------------\n",
      "* garment\n",
      "> garments of the finest silk\n",
      "---------------\n",
      "* intermittent\n",
      "> intermittent rain showers\n",
      "---------------\n",
      "* degenerate\n",
      "> Conditions in the slums degenerated\n",
      "---------------\n",
      "* intricate\n",
      "> intricate lacework\n",
      "---------------\n",
      "* municipal\n",
      "> municipal government\n",
      "> municipal bonds\n",
      "> a municipal park\n",
      "> municipal transportation\n",
      "> international law...only authorizes a belligerent to punish a spy under its municipal law\n",
      "---------------\n",
      "* inaugurate\n",
      "---------------\n",
      "* beating\n",
      "> Her heart was beating fast\n",
      "> The sun was beating down on us\n",
      "---------------\n",
      "* ratify\n",
      "---------------\n",
      "* ration\n",
      "> the rations should be nutritionally balanced\n",
      "> Bread was rationed during the siege of the city\n",
      "> Cigarettes are rationed\n",
      "---------------\n",
      "* vicious\n",
      "> vicious kicks\n",
      "> vicious gossip\n",
      "---------------\n",
      "* bosom\n",
      "> his bosom was bursting with the secret\n",
      "> in the bosom of the family\n",
      "> her story would melt your bosom\n",
      "> She bosomed his letters\n",
      "---------------\n",
      "* hesitate\n",
      "> Authorities hesitate to quote exact figures\n",
      "---------------\n",
      "* brand-new\n",
      "> shiny brand-new shoes\n",
      "---------------\n",
      "* defective\n",
      "> I returned the appliance because it was defective\n",
      "> defective speech\n",
      "> a defective appliance\n",
      "---------------\n",
      "* turnover\n",
      "---------------\n",
      "* complication\n",
      "> her coming was a serious complication\n",
      "> bed sores are a common complication in cases of paralysis\n",
      "---------------\n",
      "* tentative\n",
      "> just a tentative schedule\n",
      "> drew a few tentative conclusions\n",
      "---------------\n",
      "* preliminary\n",
      "> training is a necessary preliminary to employment\n",
      "> a preliminary investigation\n",
      "---------------\n",
      "* uncompromising\n",
      "> took an uncompromising stance in the peace talks\n",
      "> uncompromising honesty\n",
      "---------------\n",
      "* considerable\n",
      "> a considerable quantity\n",
      "> the economy was a considerable issue in the campaign\n",
      "> went to considerable trouble for us\n",
      "> spent a considerable amount of time on the problem\n",
      "---------------\n",
      "* inexpensive\n",
      "> inexpensive family restaurants\n",
      "---------------\n",
      "* bribe\n",
      "---------------\n",
      "* consecutive\n",
      "> we numbered the papers consecutively\n",
      "---------------\n",
      "* vibrate\n",
      "---------------\n",
      "* paranormal\n",
      "> what seemed to be paranormal manifestations\n",
      "---------------\n",
      "* baffle\n",
      "---------------\n",
      "* allied\n",
      "> He allied himself with the Communists\n",
      "> allied species\n",
      "> allied studies\n",
      "> an allied offensive\n",
      "---------------\n",
      "* reckless\n",
      "> became the fiercest and most reckless of partisans\n",
      "> a reckless driver\n",
      "> reckless squandering of public funds\n",
      "---------------\n",
      "* stimulating\n",
      "> a stimulating discussion\n",
      "---------------\n",
      "* consequence\n",
      "> his decision had depressing consequences for business\n",
      "> decisions of great consequence are made by the president himself\n",
      "> that result is of no consequence\n",
      "---------------\n",
      "* endorse\n",
      "> endorse a new project\n",
      "> endorse cheques\n",
      "---------------\n",
      "* weary\n",
      "> `aweary' is archaic\n",
      "---------------\n",
      "* lease\n",
      "---------------\n",
      "* phase\n",
      "> the reaction occurs in the liquid phase of the system\n",
      "> the full phase of the moon\n",
      "> phase a withdrawal\n",
      "> he phased the intake with the output of the machine\n",
      "---------------\n",
      "* gallant\n",
      "> a gallant warrior\n",
      "> put up a gallant resistance to the attackers\n",
      "> a gallant pageant\n",
      "---------------\n",
      "* soaked\n",
      "> I soaked in the hot tub for an hour\n",
      "---------------\n",
      "* fascinating\n",
      "> a fascinating story\n",
      "> a fascinating woman\n",
      "---------------\n",
      "* innocuous\n",
      "> it was an innocuous remark\n",
      "> confined himself to innocuous generalities\n",
      "---------------\n",
      "* gigantic\n",
      "> a gigantic redwood\n",
      "> gigantic disappointment\n",
      "---------------\n",
      "* proliferate\n",
      "> Pizza parlors proliferate in this area\n",
      "> We must not proliferate nuclear arms\n",
      "---------------\n",
      "* blaze\n",
      "> the blaze spread rapidly\n",
      "> go to blazes\n",
      "> raising blazes\n",
      "> they chipped off bark to mark the trail with blazes\n",
      "> the horse had a blaze between its eyes\n",
      "> Meteors blazed across the atmosphere\n",
      "> He blazed away at the men\n",
      "> The summer sun alone can cause a pine to blaze\n",
      "> The spaceship blazed out into space\n",
      "> blaze a trail\n",
      "---------------\n",
      "* dedicated\n",
      "> She dedicated her book to her parents\n",
      "> a dedicated dancer\n",
      "> dedicated teachers\n",
      "> dedicated to the proposition that all men are created equal\n",
      "> a chapel dedicated to the dead of World War II\n",
      "---------------\n",
      "* inferior\n",
      "> Mercury and Venus are inferior planets\n",
      "> inferior alveolar artery\n",
      "---------------\n",
      "* cruise\n",
      "> She cruised the neighborhood in her new convertible\n",
      "---------------\n",
      "* nucleus\n",
      "---------------\n",
      "* planetary\n",
      "> planetary motion\n",
      "> planetary year\n",
      "> planetary rumblings and eructations\n",
      "> the planetary tilt\n",
      "> a planetary vagabond\n",
      "> neither national nor continental but planetary\n",
      "---------------\n",
      "* chewing\n",
      "---------------\n",
      "* sanitary\n",
      "> sanitary conditions for preparing food\n",
      "> a sanitary washroom\n",
      "---------------\n",
      "* annihilate\n",
      "---------------\n",
      "* pictorial\n",
      "> pictorial perspective\n",
      "> pictorial records\n",
      "> pictorial poetry and prose\n",
      "---------------\n",
      "* tenant\n",
      "> the landlord can evict a tenant who doesn't pay the rent\n",
      "---------------\n",
      "* wavy\n",
      "> she had long wavy hair\n",
      "---------------\n",
      "* efficiency\n",
      "> she did the work with great efficiency\n",
      "---------------\n",
      "* uproarious\n",
      "> uproarious stories\n",
      "---------------\n",
      "* lurk\n",
      "---------------\n",
      "* extensively\n",
      "> oxidation ponds are extensively used for sewage treatment in the Midwest\n",
      "---------------\n",
      "* curve\n",
      "> her hips curve nicely\n",
      "> the road curved sharply\n",
      "---------------\n",
      "* reward\n",
      "> virtue is its own reward\n",
      "> reaping the rewards of generosity\n",
      "> The scout was rewarded for courageous action\n",
      "---------------\n",
      "* vanish\n",
      "> The effect vanished when day broke\n",
      "> An entire civilization vanished\n",
      "> the money vanished in las Vegas\n",
      "---------------\n",
      "* declaration\n",
      "> his declaration of innocence\n",
      "> a declaration of independence\n",
      "---------------\n",
      "* perennial\n",
      "> the common buttercup is a popular perennial plant\n",
      "> perennial happiness\n",
      "> perennial efforts to stipulate the requirements\n",
      "---------------\n",
      "* quota\n",
      "> all the salesmen met their quota for the month\n",
      "> the quota for Japanese imports was negotiated\n",
      "---------------\n",
      "* esteem\n",
      "> it is held in esteem\n",
      "---------------\n",
      "* mutate\n",
      "> cells mutate\n",
      "---------------\n",
      "* penetrate\n",
      "> The bullet penetrated her chest\n",
      "> she was penetrated with sorrow\n",
      "> The hikers did not manage to penetrate the dense forest\n",
      "> Did the molester penetrate the child?\n",
      "> music penetrated the entire building\n",
      "---------------\n",
      "* barefoot\n",
      "> the barefoot boy\n",
      "> he chased her barefoot across the meadow\n",
      "---------------\n",
      "* improper\n",
      "> slightly improper to dine alone with a married man\n",
      "> improper medication\n",
      "> improper attire for the golf course\n",
      "> improper banking practices\n",
      "---------------\n",
      "* erroneous\n",
      "> erroneous conclusions\n",
      "---------------\n",
      "* emission\n",
      "---------------\n",
      "* intimate\n",
      "> intimate friend\n",
      "> intimate relations between economics, politics, and legal principles\n",
      "> an intimate cocktail lounge\n",
      "> the small room was cozy and intimate\n",
      "> pretending she is on an intimate footing with those she slanders\n",
      "> the intimate (or sexual) relations between husband and wife\n",
      "> she had been intimate with many men\n",
      "> he touched her intimate parts\n",
      "> the intimate structure of matter\n",
      "> this girl, so intimate with nature\n",
      "---------------\n",
      "* ample\n",
      "> had ample food for the party\n",
      "> an ample supply\n",
      "> had ample food for the party\n",
      "> an ample waistline\n",
      "> of ample proportions\n",
      "---------------\n",
      "* slaughter\n",
      "> They slaughtered their only goat to survive the winter\n",
      "---------------\n",
      "* virus\n",
      "> bigotry is a virus that must not be allowed to spread\n",
      "> the virus of jealousy is latent in everyone\n",
      "> a true virus cannot spread to another computer without human assistance\n",
      "---------------\n",
      "* drown\n",
      "> I was drowned in work\n",
      "> The noise drowned out her speech\n",
      "> She drowned her trouble in alcohol\n",
      "> The child drowned in the lake\n",
      "> He drowned the kittens\n",
      "---------------\n",
      "* unpredictable\n",
      "> an unpredictable (or indeterminable) future\n",
      "---------------\n",
      "* valuable\n",
      "> all our valuables were stolen\n",
      "> a valuable diamond\n",
      "> a valuable friend\n",
      "---------------\n",
      "* rift\n",
      "> the sun shone through a rift in the clouds\n",
      "---------------\n",
      "* veil\n",
      "> women in Afghanistan veil their faces\n",
      "> a veiled threat\n",
      "---------------\n",
      "* disperse\n",
      "> disperse particles\n",
      "> The crowds dispersed\n",
      "> the prosm disperses light\n",
      "---------------\n",
      "* frustrate\n",
      "> What ultimately frustrated every challenger was Ruth's amazing September surge\n",
      "---------------\n",
      "* subsequent\n",
      "> subsequent developments\n",
      "---------------\n",
      "* retreat\n",
      "> the disorderly retreat of French troops\n",
      "> the religious retreat is a form of vacation activity\n",
      "> The Pope retreats to Castelgondolfo every summer\n",
      "---------------\n",
      "* ranch\n",
      "> Her husband is ranching in Arizona\n",
      "---------------\n",
      "* skim\n",
      "> there was a thin skim of oil on the water\n",
      "> skim cream from the surface of milk\n",
      "> yogurt made with skim milk\n",
      "> she can drink skimmed milk but should avoid butter\n",
      "---------------\n",
      "* summit\n",
      "> the summit of his ambition\n",
      "> the region is a few molecules wide at the summit\n",
      "> Many mountaineers go up Mt. Everest but not all summit\n",
      "---------------\n",
      "* absurd\n",
      "> The absurd is the essential concept and the first truth\n",
      "> the absurd predicament of seeming to argue that virtue is highly desirable but intensely unpleasant\n",
      "> the absurd excuse that the dog ate his homework\n",
      "---------------\n",
      "* ambassador\n",
      "> an ambassador of good will\n",
      "---------------\n",
      "* unrest\n",
      "> social unrest\n",
      "---------------\n",
      "* toast\n",
      "> he was the toast of the town\n",
      "> one mistake and you're toast\n",
      "> toast bread\n",
      "> Let us toast the birthday girl!\n",
      "---------------\n",
      "* repress\n",
      "---------------\n",
      "* brittle\n",
      "> brittle bones\n",
      "> glass is brittle\n",
      "> a brittle and calculating woman\n",
      "---------------\n",
      "* confined\n",
      "---------------\n",
      "* stew\n",
      "> don't get in a stew\n",
      "---------------\n",
      "* dye\n",
      "> Please dye these shoes\n",
      "---------------\n",
      "* impeach\n",
      "> the lawyers tried to impeach the credibility of the witnesses\n",
      "> The President was impeached\n",
      "---------------\n",
      "* terrain\n",
      "> they decided to attack across the rocky terrain\n",
      "---------------\n",
      "* noxious\n",
      "> noxious chemical wastes\n",
      "> noxious ideas\n",
      "---------------\n",
      "* anathema\n",
      "> he is an anathema to me\n",
      "---------------\n",
      "* mediocre\n",
      "> they improved the quality from mediocre to above average\n",
      "> the caliber of the students has gone from mediocre to above average\n",
      "> there have been good and mediocre and bad artists\n",
      "---------------\n",
      "* devout\n",
      "> devout wishes for their success\n",
      "---------------\n",
      "* reprimand\n",
      "---------------\n",
      "* eclipse\n",
      "> The Sun eclipses the moon today\n",
      "---------------\n",
      "* eligible\n",
      "> eligible to run for office\n",
      "> eligible for retirement benefits\n",
      "> an eligible bachelor\n",
      "---------------\n",
      "* spine\n",
      "> the title and author were printed on the spine of the book\n",
      "---------------\n",
      "* residue\n",
      "---------------\n",
      "* lucrative\n",
      "---------------\n",
      "* reservoir\n",
      "> a reservoir of talent\n",
      "> an infectious agent depends on a reservoir for its survival\n",
      "---------------\n",
      "* stiff\n",
      "> a lucky stiff\n",
      "> a working stiff\n",
      "> the murderer confessed that he threw the stiff in the river\n",
      "> a stiff hinge\n",
      "> a stiff current\n",
      "> a stiff breeze\n",
      "> the letter was stiff and formal\n",
      "> a stiff drink\n",
      "> a palace guardsman stiff as a poker\n",
      "> stiff hair\n",
      "> a stiff neck\n",
      "> bored stiff\n",
      "> frightened stiff\n",
      "> his hands lay stiffly\n",
      "---------------\n",
      "* rebellion\n",
      "> each generation must have its own rebellion\n",
      "> his body was in rebellion against fatigue\n",
      "---------------\n",
      "* outstrip\n",
      "---------------\n",
      "* reverent\n",
      "> maintained a reverent silence\n",
      "---------------\n",
      "* sniff\n",
      "> sniff the perfume\n",
      "> the sick student was sniffling in the back row\n",
      "---------------\n",
      "* inheritance\n",
      "> my only inheritance was my mother's blessing\n",
      "---------------\n",
      "* colossal\n",
      "> colossal crumbling ruins of an ancient temple\n",
      "> has a colossal nerve\n",
      "---------------\n",
      "* glittering\n",
      "> his glittering eyes were cold and malevolent\n",
      "> shop window full of glittering Christmas trees\n",
      "---------------\n",
      "* correspondent\n",
      "---------------\n",
      "* distract\n",
      "> The thief distracted the bystanders\n",
      "---------------\n",
      "* levy\n",
      "> levy a fine\n",
      "---------------\n",
      "* vernacular\n",
      "> a vernacular term\n",
      "> vernacular speakers\n",
      "---------------\n",
      "* sluggish\n",
      "> a sluggish stream\n",
      "> a sluggish market\n",
      "> a sluggish worker\n",
      "---------------\n",
      "* appal\n",
      "---------------\n",
      "* wean\n",
      "> she weaned her baby when he was 3 months old and started him on powdered milk\n",
      "> The kitten was weaned and fed by its owner with a bottle\n",
      "---------------\n",
      "* wicked\n",
      "> under wicked fire from the enemy's guns\n",
      "> a wicked cough\n",
      "> a wicked prank\n",
      "> a wicked stench\n",
      "---------------\n",
      "* majestic\n",
      "> his majestic presence\n",
      "> majestic cities\n",
      "---------------\n",
      "* brink\n",
      "> on the brink of bankruptcy\n",
      "---------------\n",
      "* perch\n",
      "> The birds perched high in the tree\n",
      "> She perched her hat on her head\n",
      "---------------\n",
      "* breeze\n",
      "> the breeze was cooled by the lake\n",
      "> It breezes most evenings at the shore\n",
      "---------------\n",
      "* ravage\n",
      "> the ravages of time\n",
      "---------------\n",
      "* token\n",
      "> the word`error' contains three tokens of `r'\n",
      "> a token gesture of resistance\n",
      "---------------\n",
      "* shabby\n",
      "> shabby furniture\n",
      "> shabby treatment\n",
      "---------------\n",
      "* annotated\n",
      "> The scholar annotated the early edition of a famous novel\n",
      "> He annotated on what his teacher had written\n",
      "---------------\n",
      "* toil\n",
      "---------------\n",
      "* litter\n",
      "> Cigar butts littered the ground\n",
      "---------------\n",
      "* wade\n",
      "> Can we wade across the river to the other side?\n",
      "---------------\n",
      "* dazzling\n",
      "> the skater's dazzling virtuosic leaps\n",
      "> dazzling snow\n",
      "---------------\n",
      "* brisk\n",
      "> business brisked up\n",
      "> a brisk walk in the park\n",
      "> doing a brisk business\n",
      "---------------\n",
      "* rugged\n",
      "> with a house full of boys you have to have rugged furniture\n",
      "> rugged ground\n",
      "> a rugged competitive examination\n",
      "> the rugged conditions of frontier life\n",
      "---------------\n",
      "* reign\n",
      "> he was helpless under the reign of his egotism\n",
      "> during the reign of Henry VIII\n",
      "> Henry VIII reigned for a long time\n",
      "> Money reigns supreme here\n",
      "---------------\n",
      "* escort\n",
      "> She asked her older brother to escort her to the ball\n",
      "---------------\n",
      "* disloyal\n",
      "> disloyal aides revealed his indiscretions to the papers\n",
      "---------------\n",
      "* unequalled\n",
      "---------------\n",
      "* turmoil\n",
      "---------------\n",
      "* indiscriminate\n",
      "> indiscriminate reading habits\n",
      "> an indiscriminate mixture of colors and styles\n",
      "---------------\n",
      "* vanity\n",
      "---------------\n",
      "* coffin\n",
      "> her body was coffined\n",
      "---------------\n",
      "* falter\n",
      "> Their enthusiasm is faltering\n",
      "> The speaker faltered when he saw his opponent enter the room\n",
      "---------------\n",
      "* suffrage\n",
      "---------------\n",
      "* flunk\n",
      "> he got two flunks on his report\n",
      "---------------\n",
      "* barrage\n",
      "> a barrage of questions\n",
      "> they laid down a barrage in front of the advancing troops\n",
      "> The speaker was barraged by an angry audience\n",
      "---------------\n",
      "* salvage\n",
      "---------------\n",
      "* torrential\n",
      "> torrential erosion\n",
      "> torrential adaptations seen in some aquatic forms\n",
      "> torrential applause\n",
      "> torrential abuse\n",
      "> the torrential facility and fecundity characteristic of his style\n",
      "> torrential rains\n",
      "---------------\n",
      "* salute\n",
      "> a musical salute to the composer on his birthday\n",
      "> I meet this men every day on my way to work and he salutes me\n",
      "> I salute your courage!\n",
      "> a terrible stench saluted our nostrils\n",
      "> When the officers show up, the soldiers have to salute\n",
      "---------------\n",
      "* snare\n",
      "> it was all a snare and delusion\n",
      "> The car salesman had snared three potential customers\n",
      "---------------\n",
      "* strenuous\n",
      "> strenuous exercise\n",
      "> a strenuous task\n",
      "---------------\n",
      "* lash\n",
      "> The lion lashed its tail\n",
      "> lash the horse\n",
      "---------------\n",
      "* venomous\n",
      "> venomous snakes\n",
      "> venomous criticism\n",
      "---------------\n",
      "* wretched\n",
      "> spent a wretched night on the floor\n",
      "> wretched prisoners huddled in stinking cages\n",
      "> a wretched life\n",
      "---------------\n",
      "* stalk\n",
      "> her ex-boyfriend stalked her\n",
      "> stalk the woods for deer\n",
      "---------------\n",
      "* exclusive\n",
      "> they have exclusive use of the machine\n",
      "> exclusive clubs\n",
      "> an exclusive restaurants and shops\n",
      "> gained their exclusive attention\n",
      "---------------\n",
      "* implement\n",
      "> implement a procedure\n",
      "> He implemented a new economic plan\n",
      "---------------\n",
      "* hectic\n",
      "---------------\n",
      "* imbibe\n",
      "---------------\n",
      "* impoverished\n",
      "---------------\n",
      "* serene\n",
      "> he remained serene in the midst of turbulence\n",
      "> a serene expression on her face\n",
      "> serene skies and a bright blue sea\n",
      "---------------\n",
      "* vulnerable\n",
      "> a vulnerable bridge\n",
      "> vulnerable to bribery\n",
      "> an argument vulnerable to refutation\n",
      "> vulnerable parts of the body\n",
      "---------------\n",
      "* slippery\n",
      "> slippery sidewalks\n",
      "> a slippery bar of soap\n",
      "> how extraordinarily slippery a liar the camera is\n",
      "---------------\n",
      "* repellent\n",
      "> she knew many repellents to his advances\n",
      "> I find his obsequiousness repellent\n",
      "> the idea of eating meat is repellent to me\n",
      "> a water-repellent fabric\n",
      "---------------\n",
      "* abate\n",
      "> The storm abated\n",
      "---------------\n",
      "* affluent\n",
      "> the so-called emerging affluents\n",
      "> an affluent banker\n",
      "---------------\n",
      "* entail\n",
      "> What does this move entail?\n",
      "---------------\n",
      "* entangle\n",
      "> The child entangled the cord\n",
      "---------------\n",
      "* imminent\n",
      "> in imminent danger\n",
      "---------------\n",
      "* impair\n",
      "> His vision was impaired\n",
      "---------------\n",
      "* habitual\n",
      "> his habitual comment\n",
      "---------------\n",
      "* unleash\n",
      "> unleash one's anger\n",
      "> unleash the dogs in the park\n",
      "---------------\n",
      "* explicit\n",
      "> explicit instructions\n",
      "> she made her wishes explicit\n",
      "> explicit sexual scenes\n",
      "---------------\n",
      "* imperative\n",
      "> as nuclear weapons proliferate, preventing war becomes imperative\n",
      "> requests that grew more and more imperative\n",
      "---------------\n",
      "* enthusiastically\n",
      "> they discussed the question enthusiastically\n",
      "---------------\n",
      "* evade\n",
      "> They tend to evade their responsibilities\n",
      "> he evaded the questions skillfully\n",
      "> This difficult idea seems to evade her\n",
      "> The event evades explanation\n",
      "> This man always hesitates and evades\n",
      "> The con man always evades\n",
      "---------------\n",
      "* exalt\n",
      "> These paintings exalt the imagination\n",
      "> exalted the humble shoemaker to the rank of King's adviser\n",
      "---------------\n",
      "* imperceptible\n",
      "> an imperceptible drop in temperature\n",
      "> an imperceptible nod\n",
      "---------------\n",
      "* ferocious\n",
      "> a ferocious beating\n",
      "---------------\n",
      "* superb\n",
      "> a superb actor\n",
      "> a superb meal\n",
      "---------------\n",
      "* ethereal\n",
      "> physical rather than ethereal forms\n",
      "> ethereal solution\n",
      "> ethereal melodies\n",
      "> this smallest and most ethereal of birds\n",
      "---------------\n",
      "* evacuate\n",
      "> After the earthquake, residents were evacuated\n",
      "> evacuate the bottle\n",
      "---------------\n",
      "* impregnable\n",
      "> an impregnable fortress\n",
      "> an impregnable argument\n",
      "> impregnable self-confidence\n",
      "---------------\n",
      "* snarl\n",
      "> The guard snarled at us\n",
      "> Bullets snarled past us\n",
      "---------------\n",
      "* incompatible\n",
      "> incompatible personalities\n",
      "> incompatible colors\n",
      "---------------\n",
      "* excavate\n",
      "> Schliemann excavated Troy\n",
      "> excavate gold\n",
      "> Carnegie had a lake excavated for Princeton University's rowing team\n",
      "> excavate a cavity\n",
      "> the mining company wants to excavate the hillside\n",
      "---------------\n",
      "* exclamation\n",
      "> she gave an exclamation of delight\n",
      "---------------\n",
      "* exorbitant\n",
      "> exorbitant rent\n",
      "---------------\n",
      "* sprawl\n",
      "---------------\n",
      "* exterminate\n",
      "> Hitler wanted to exterminate the Jews, Gypsies, Communists, and homosexuals of Europe\n",
      "---------------\n",
      "* fierce\n",
      "> fierce fighting\n",
      "> fierce loyalty\n",
      "> the fierce thunders roar me their music\n",
      "---------------\n",
      "* contempt\n",
      "> he was held in contempt\n",
      "---------------\n",
      "* feeble\n",
      "> a feeble excuse\n",
      "> feeble efforts\n",
      "> a feeble voice\n",
      "> a feeble old woman\n",
      "---------------\n",
      "* console\n",
      "> the bust of Napoleon stood on a console\n",
      "---------------\n",
      "* fertile\n",
      "> fertile farmland\n",
      "---------------\n",
      "* vagrant\n",
      "> vagrant hippies of the sixties\n",
      "---------------\n",
      "* flamboyant\n",
      "> flamboyant handwriting\n",
      "---------------\n",
      "* flourish\n",
      "> she entered with a great flourish\n",
      "> he entered to a flourish of trumpets\n",
      "---------------\n",
      "* forestall\n",
      "---------------\n",
      "* futile\n",
      "> a futile effort\n",
      "> futile years after her artistic peak\n",
      "---------------\n",
      "* improvise\n",
      "> after the hurricane destroyed our house, we had to improvise for weeks\n",
      "---------------\n",
      "* gorgeous\n",
      "> a gorgeous Victorian gown\n",
      "---------------\n",
      "* grave\n",
      "> he went to his grave without forgiving me\n",
      "> from cradle to grave\n",
      "> he put flowers on his mother's grave\n",
      "> engrave a pen\n",
      "> engraved the trophy cupt with the winner's\n",
      "> a grave God-fearing man\n",
      "> a grave situation\n",
      "> a grave illness\n",
      "> grave responsibilities\n",
      "> faced a grave decision in a time of crisis\n",
      "---------------\n",
      "* grueling\n",
      "> a grueling campaign\n",
      "---------------\n",
      "* incontrovertible\n",
      "> incontrovertible proof of the defendant's innocence\n",
      "---------------\n",
      "* hoist\n",
      "> hoist the bicycle onto the roof of the car\n",
      "> They hoisted the patient onto the operating table\n",
      "> hoist the flags\n",
      "> hoist a sail\n",
      "---------------\n",
      "* superlative\n",
      "> the critics lavished superlatives on it\n",
      "> so many highest superlatives achieved by man\n",
      "> `fastest' is the superlative of the adjective `fast'\n",
      "> `least famous' is the superlative degree of the adjective `famous'\n",
      "> `most surely' is the superlative of the adverb `surely'\n",
      "---------------\n",
      "* extent\n",
      "> the extent of the damage\n",
      "> the full extent of the law\n",
      "> to a certain extent she was right\n",
      "> the vast extent of the desert\n",
      "> an orchard of considerable extent\n",
      "---------------\n"
     ]
    }
   ],
   "source": [
    "#Function add.make function using example sentence(fill) -> 보기 4-5개 주기 (문장 안에 채워넣기) \n",
    "\n",
    "cnt_not_exists =0\n",
    "\n",
    "for i in word_corpus:\n",
    "    if len(i['examples']) == 0:\n",
    "        cnt_not_exists+=1\n",
    "#         print(cnt_not_exists,i['word'])\n",
    "    else :\n",
    "        print(\"*\", i['word'])\n",
    "        for j in i['examples']:\n",
    "            for k in j:\n",
    "                if i['word'] in k:\n",
    "                    print(\">\",k)\n",
    "        print(\"---------------\")\n",
    "#         print(\"* \", i['word'])\n",
    "#         pprint(i['examples'])"
   ]
  }
 ],
 "metadata": {
  "kernelspec": {
   "display_name": "Python 3",
   "language": "python",
   "name": "python3"
  },
  "language_info": {
   "codemirror_mode": {
    "name": "ipython",
    "version": 3
   },
   "file_extension": ".py",
   "mimetype": "text/x-python",
   "name": "python",
   "nbconvert_exporter": "python",
   "pygments_lexer": "ipython3",
   "version": "3.7.6"
  }
 },
 "nbformat": 4,
 "nbformat_minor": 4
}
